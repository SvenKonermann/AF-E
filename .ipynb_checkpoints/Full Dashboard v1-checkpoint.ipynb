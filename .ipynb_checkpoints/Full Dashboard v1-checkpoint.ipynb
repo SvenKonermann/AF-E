{
 "cells": [
  {
   "cell_type": "code",
   "execution_count": 1,
   "id": "26e2caac",
   "metadata": {},
   "outputs": [
    {
     "name": "stdout",
     "output_type": "stream",
     "text": [
      "C:\\Users\\Sven Konermann\\Documents\\Master\\2_Semester\\aF_E_Faelle\\Unterlagen\\JobCloud_Daten\n"
     ]
    }
   ],
   "source": [
    "# Import der benötigten Libraries\n",
    "import pandas as pd\n",
    "import nltk\n",
    "import numpy as np\n",
    "import re\n",
    "import os\n",
    "import plotly.graph_objects as go\n",
    "from plotly.offline import init_notebook_mode, iplot\n",
    "from plotly import subplots\n",
    "import plotly.figure_factory as ff\n",
    "import matplotlib.pyplot as plt\n",
    "pd.set_option('display.max_colwidth', 50)\n",
    "\n",
    "# Working-Directory\n",
    "os.chdir('C:/Users/Sven Konermann/Documents/Master/2_Semester/aF_E_Faelle/Unterlagen/JobCloud_Daten')\n",
    "print(os.getcwd())"
   ]
  },
  {
   "cell_type": "code",
   "execution_count": 2,
   "id": "4a8deb3b",
   "metadata": {},
   "outputs": [],
   "source": [
    "data = pd.read_csv(\"Inserate_clean_Gesamtdatenanalyse.csv\", sep=\";\")\n",
    "data = data[~data['Text_Anforderungen'].isnull()] # Wenn NULL-Werte, lösche diese\n",
    "#print(data.shape) #only need to show if really necessary"
   ]
  },
  {
   "cell_type": "code",
   "execution_count": 3,
   "id": "b99d657a",
   "metadata": {},
   "outputs": [
    {
     "name": "stdout",
     "output_type": "stream",
     "text": [
      "Pick an option:\n",
      "1) Administration/HR/Consulting/CEO\n",
      "2) Banking/Versicherungswesen\n",
      "3) Bau/Architektur/Engineering\n",
      "4) Bewachung/Polizei/Zoll/Rettung\n",
      "5) Chemie/Pharma/Biotechnologie\n",
      "6) Einkauf/Logistik/Trading\n",
      "7) Elektronik/Technik/Uhren\n",
      "8) Fahrzeuge/Handwerk/Lager/Transport\n",
      "9) Finanzen/Treuhand/Immobilien\n",
      "10) Gastronomie/Lebensmittel/Tourismus\n",
      "11) Grafik/Typografie/Druck\n",
      "12) Informatik/Telekommunikation\n",
      "13) Marketing/Kommunikation/Redaktion\n",
      "14) Maschinen-/Anlagenbau/Produktion\n",
      "15) Medizin/Pflege/Therapie\n",
      "16) Sport/Wellness/Kultur\n",
      "17) Verkauf/Kundendienst/Innendienst\n",
      "18) Verwaltung/Bildung/Soziales\n",
      "Your choice: Administration/HR/Consulting/CEO\n",
      "You picked: Administration/HR/Consulting/CEO\n"
     ]
    }
   ],
   "source": [
    "options =\t{\n",
    "    \"Administration/HR/Consulting/CEO\": ['Beratung/Unternehmensentwicklung','CEO/GeschÃ¤ftsfÃ¼hrung','Direktionsassistenz','Juristen/AnwÃ¤lte/Gericht','Personalvermittlung/-beratung','Personalwesen/-entwicklung','QualitÃ¤tsmanagement','Regulatory Affairs','Sachbearbeitung/SprachÃ¼bersetzung','Sekretariat/Empfang', 'None'],\n",
    "    \"Banking/Versicherungswesen\": [\"Mustang\"'Aktuariat/Mathematik','Anlageberatung/Private Banking','Asset/Portfolio Management','Back-Office/Zahlungsverkehr','Finanz-/Business Analyse','Fonds/Wertschriften/Handel','Kredit/Hypotheken','Kundenberatung/Relationship Mgmt','Projekt Management','Risk Mgmt/Compliance','Treasury/Controlling/Audit','Underwriting/Product Mgmt','Versicherung: Agenturen','Versicherung: Akquisition/Beratung','Versicherung: Schaden/Leistungen', 'None'],\n",
    "    \"Bau/Architektur/Engineering\": ['Architektur/Bauplanung/Zeichner','Bauleitung/Bauingenieure/AVOR','Baupersonal/GerÃ¼stbau/Maschinen','Bauspengler/Dachdecker','Boden-/Plattenleger','Elektro Planung/Montage','Gartenbau/Landschaftsarchitektur','Heizung/LÃ¼ftung/Klima Planung/Montage','Holzbau/Zimmermann','Innenarchitektur/Dekoration','Maler/Gipser','Maurer','Metall/Fassadenbau','SanitÃ¤r Planung/Montage', 'None'],\n",
    "    \"Bewachung/Polizei/Zoll/Rettung\": ['Bewachung/Kontrolle/Sicherheit','Polizei/MilitÃ¤r','Rettung SanitÃ¤t/Feuerwehr','Zoll/Grenzkontrolle', 'None'],\n",
    "    \"Chemie/Pharma/Biotechnologie\": ['Apotheken/Drogerien','Biologie/Biotechnologie','Chemie F+E/Analytik/Produktion','Pharma F+E/Analytik/Produktion','QualitÃ¤tswesen/-management', 'None'],\n",
    "    \"Einkauf/Logistik/Trading\": ['Einkauf/Procurement','Import/Export/Trading','Logistik/Supply Chain', 'None'],\n",
    "    \"Elektronik/Technik/Uhren\": ['Elektronik/Elektrotechnik','Energie-/GebÃ¤ude-/Haustechnik','Kundendienst/Beratung','Mechanik/Feinmechanik/Uhren','Medizinaltechnik','QualitÃ¤tswesen/-management','Servicetechnik','Werkzeugbau', 'None'],\n",
    "    \"Fahrzeuge/Handwerk/Lager/Transport\": ['Carosseriespengler/Lackierer','Facility Management/Reinigung','Fahrzeugmechanik/-diagnostik','Holzhandwerk','Lager','Land-/Forstwirtschaft','Metallhandwerk','Personentransport Flug/See/Zug/Strasse','Textil/Schneider', 'None'],\n",
    "    \"Finanzen/Treuhand/Immobilien\": ['Audit/Revision/WirtschaftsprÃ¼fung','Buchhaltung','Controlling','Finanz-/Rechnungswesen','Immobilien Handel/Bewirtschaftung','Inkasso','Lohnbuchhaltung','Steuern','Treuhand', 'None'],\n",
    "    \"Gastronomie/Lebensmittel/Tourismus\": ['BetriebsfÃ¼hrung/-administration','KÃ¼che','Lebensmitteltechnologie/-ingenieure','Metzger/BÃ¤cker/Konditor/KÃ¤ser','RÃ©ception/Portier/Concierge','Reiseberatung/Reiseleitung','Service/Bar','Zimmer/Lingerie/Hauswirtschaft', 'None'],\n",
    "    \"Grafik/Typografie/Druck\": ['Drucker','Grafik/Design','Typografie/Polygrafie', 'None'],\n",
    "    \"Informatik/Telekommunikation\": ['Beratung/Wirtschaftsinformatik','Datenbank Spezialisten/Entwicklung','ERP/SAP/CRM','Netzwerk Spezialisten/Engineers','Projekt Management/Analyse','Software Architektur/Engineering','Software Programmierung','System Administration','System Engineering','Testing/Audit/Security','User Help Desk/Support/Training','Web Programmierung/Mobile','Web Publishing/Design', 'None'],\n",
    "    \"Marketing/Kommunikation/Redaktion\": ['Marketing/Direktmarketing','Medien/Redaktion/Verlagswesen','Online Marketing/Social Media','PR/Corporate Communications','Produkt-/Brand Management','Werbeberatung/-kommunikation', 'None'],\n",
    "    \"Maschinen-/Anlagenbau/Produktion\": ['Anlagen-/Apparatebau','Automation/Verfahrenstechnik','CNC-Mechanik/Polymechanik','Konstruktion','Maschinenbau','Produktion/Fertigung/Montage','QualitÃ¤tswesen/-management','Servicetechnik/Wartung', 'None'],\n",
    "    \"Medizin/Pflege/Therapie\": ['Ã„rzte - Assistenz-/Fach-/OberÃ¤rzte','Akutpflege','Hebammen','Labor/Analyse','Langzeitpflege','Med. Praxisassistenz/Sekretariat','Psychologie/Psychiatrie','Radiologie','Therapie/OrthopÃ¤die','Tiermedizin', 'None'],\n",
    "    \"Sport/Wellness/Kultur\": ['Coiffeur/Kosmetik','Kultur/Unterhaltung','Massage/Sport/Wellness','Mode/Film/Theater/Radio','MuseumKunst/Kunsthandwerk', 'None'],\n",
    "    \"Verkauf/Kundendienst/Innendienst\": ['Category Management','Kundenberatung/Key Account Mgmt','Kundendienst/Call Center','Telefonverkauf/Telesale','Verkauf Aussendienst/Spezialisten','Verkauf Beratung/Management','Verkauf Detailhandel','Verkauf Innendienst/Back-Office', 'None'],\n",
    "    \"Verwaltung/Bildung/Soziales\": ['Lehrer/Dozenten','NGO/NPO/Hilfswerke','Oeffentliche Verwaltung','Sozial-/HeilpÃ¤dagogen','Sozial-/Jugendarbeit','Wissenschaft/Forschung', 'None']\n",
    "}\n",
    "\n",
    "user_input = ''\n",
    "Hauptkategorie = ''\n",
    "Kategorie = ''\n",
    "\n",
    "input_message = \"Pick an option:\\n\"\n",
    "\n",
    "for index, item in enumerate(options):\n",
    "    input_message += f'{index+1}) {item}\\n'\n",
    "\n",
    "input_message += 'Your choice: '\n",
    "\n",
    "while user_input not in options:\n",
    "    user_input = input(input_message)\n",
    "print('You picked: ' + user_input)"
   ]
  },
  {
   "cell_type": "code",
   "execution_count": 4,
   "id": "fbd78cf2",
   "metadata": {},
   "outputs": [
    {
     "name": "stdout",
     "output_type": "stream",
     "text": [
      "Pick an option:\n",
      "1) Beratung/Unternehmensentwicklung\n",
      "2) CEO/GeschÃ¤ftsfÃ¼hrung\n",
      "3) Direktionsassistenz\n",
      "4) Juristen/AnwÃ¤lte/Gericht\n",
      "5) Personalvermittlung/-beratung\n",
      "6) Personalwesen/-entwicklung\n",
      "7) QualitÃ¤tsmanagement\n",
      "8) Regulatory Affairs\n",
      "9) Sachbearbeitung/SprachÃ¼bersetzung\n",
      "10) Sekretariat/Empfang\n",
      "11) None\n",
      "Your choice: None\n"
     ]
    }
   ],
   "source": [
    "#print(options[user_input])\n",
    "#print(options[\"brand\"])\n",
    "#print(input_message_2) \n",
    "user_input_2 = ''\n",
    "input_message_2 = \"Pick an option:\\n\"\n",
    "\n",
    "for index, item in enumerate(options[user_input]):\n",
    "    input_message_2 += f'{index+1}) {item}\\n'\n",
    "    \n",
    "input_message_2 += 'Your choice: '\n",
    "\n",
    "while user_input_2 not in options[user_input]:\n",
    "    user_input_2 = input(input_message_2)"
   ]
  },
  {
   "cell_type": "code",
   "execution_count": 5,
   "id": "cf1d0adc",
   "metadata": {},
   "outputs": [
    {
     "name": "stdout",
     "output_type": "stream",
     "text": [
      "Administration/HR/Consulting/CEO\n",
      "None\n"
     ]
    }
   ],
   "source": [
    "#Categories for further progressions\n",
    "#3 Administration/HR/Consulting/CEO  #4 Banking/Versicherungswesen  #5 Bau/Architektur/Engineering\n",
    "#6 Bewachung/Polizei/Zoll/Rettung  #7 Chemie/Pharma/Biotechnologie  #8 Einkauf/Logistik/Trading  #9 Elektronik/Technik/Uhren\n",
    "#10 Fahrzeuge/Handwerk/Lager/Transport  #11 Finanzen/Treuhand/Immobilien  #12 Gastronomie/Lebensmittel/Tourismus  #13 Grafik/Typografie/Druck\n",
    "#14 Informatik/Telekommunikation  #15 Marketing/Kommunikation/Redaktion  #16 Maschinen-/Anlagenbau/Produktion  #17 Medizin/Pflege/Therapie\n",
    "#18 Sport/Wellness/Kultur  #19 Verkauf/Kundendienst/Innendienst  #20 Verwaltung/Bildung/Soziales\n",
    "\n",
    "if user_input == 'Administration/HR/Consulting/CEO':\n",
    "    Kategorie = 3\n",
    "    Hauptkategorie = user_input\n",
    "elif user_input == 'Banking/Versicherungswesen':\n",
    "    Kategorie = 4\n",
    "    Hauptkategorie = user_input\n",
    "elif user_input == 'Bau/Architektur/Engineering':\n",
    "    Kategorie = 5\n",
    "    Hauptkategorie = user_input\n",
    "elif user_input == 'Bewachung/Polizei/Zoll/Rettung':\n",
    "    Kategorie = 6\n",
    "    Hauptkategorie = user_input\n",
    "elif user_input == 'Chemie/Pharma/Biotechnologie':\n",
    "    Kategorie = 7\n",
    "    Hauptkategorie = user_input\n",
    "elif user_input == 'Einkauf/Logistik/Trading':\n",
    "    Kategorie = 8\n",
    "    Hauptkategorie = user_input\n",
    "elif user_input == 'Elektronik/Technik/Uhren':\n",
    "    Kategorie = 9\n",
    "    Hauptkategorie = user_input\n",
    "elif user_input == 'Fahrzeuge/Handwerk/Lager/Transport':\n",
    "    Kategorie = 10\n",
    "    Hauptkategorie = user_input\n",
    "elif user_input == 'Finanzen/Treuhand/Immobilien':\n",
    "    Kategorie = 11\n",
    "    Hauptkategorie = user_input\n",
    "elif user_input == 'Gastronomie/Lebensmittel/Tourismus':\n",
    "    Kategorie = 12\n",
    "    Hauptkategorie = user_input\n",
    "elif user_input == 'Grafik/Typografie/Druck':\n",
    "    Kategorie = 13\n",
    "    Hauptkategorie = user_input\n",
    "elif user_input == 'Informatik/Telekommunikation':\n",
    "    Kategorie = 14\n",
    "    Hauptkategorie = user_input\n",
    "elif user_input == 'Marketing/Kommunikation/Redaktion':\n",
    "    Kategorie = 15\n",
    "    Hauptkategorie = user_input\n",
    "elif user_input == 'Maschinen-/Anlagenbau/Produktion':\n",
    "    Kategorie = 16\n",
    "    Hauptkategorie = user_input\n",
    "elif user_input == 'Medizin/Pflege/Therapie':\n",
    "    Kategorie = 17\n",
    "    Hauptkategorie = user_input\n",
    "elif user_input == 'Sport/Wellness/Kultur':\n",
    "    Kategorie = 18\n",
    "    Hauptkategorie = user_input\n",
    "elif user_input == 'Verkauf/Kundendienst/Innendienst':\n",
    "    Kategorie = 19\n",
    "    Hauptkategorie = user_input\n",
    "elif user_input == 'Verwaltung/Bildung/Soziales':\n",
    "    Kategorie = 20\n",
    "    Hauptkategorie = user_input  \n",
    "\n",
    "print(user_input)\n",
    "print(user_input_2)"
   ]
  },
  {
   "cell_type": "code",
   "execution_count": 6,
   "id": "e18f90d6",
   "metadata": {},
   "outputs": [],
   "source": [
    "data = data[data.lvl1_jobcategory_name == user_input]\n",
    "if user_input_2 != \"None\":\n",
    "    data = data[data.jobcategory_name == user_input_2]\n",
    "data = data.drop('Unnamed: 0.1',axis=1)\n",
    "data = data.drop('Unnamed: 0',axis=1)\n",
    "#print(data) #not really needed\n",
    "\n",
    "# Abspeichern in ein CSV als Basis für das Wörterbuch\n",
    "data.to_csv(\"Gesamtanalyse_gefiltert.csv\", encoding=\"utf-8\", sep=\";\")\n",
    "#data.head(20) #we know the data already"
   ]
  },
  {
   "cell_type": "code",
   "execution_count": 7,
   "id": "b453535d",
   "metadata": {},
   "outputs": [],
   "source": [
    "##### Hier beginnt die Analyse Phase ############\n",
    "set_phrases = pd.read_excel('Phrasenwoerter.xlsx')\n",
    "#set_phrases.head() #we know the data already\n",
    "\n",
    "# Vergleichen unique words, ob sie vorkommen im Text_new. Unique words list kommt vom Tokanizing oben.\n",
    "year = data['year'].min()\n",
    "count = 0\n",
    "while year <= data['year'].max():\n",
    "    wordsets_phrases = data.loc[data['year'] == year]['Text_Anforderungen'] # Text Detok, da n-grams nach dem gesucht wurden\n",
    "    for word in set_phrases['word']:\n",
    "        count = sum(1 for s in wordsets_phrases if word in s)\n",
    "        index = set_phrases[set_phrases['word']==word].index\n",
    "        set_phrases.loc[index, year] = count\n",
    "        set_phrases.loc[index, str(year) + ' %'] = (count / len(wordsets_phrases))        \n",
    "    year += 1\n",
    "    \n",
    "#merged\n",
    "set_fix = pd.read_excel(\"Fixwoerter.xlsx\")\n",
    "\n",
    "#merged\n",
    "# Anforderungen Tokenisieren\n",
    "set_fix['text_tok'] = set_fix.apply(lambda row: nltk.word_tokenize(row['word']), axis=1)\n",
    "#set_fix['text_tok'].head(200)"
   ]
  },
  {
   "cell_type": "code",
   "execution_count": 8,
   "id": "6eb0d937",
   "metadata": {},
   "outputs": [
    {
     "name": "stderr",
     "output_type": "stream",
     "text": [
      "C:\\Users\\Fkaew\\AppData\\Local\\Temp\\ipykernel_22568\\2040092493.py:18: FutureWarning:\n",
      "\n",
      "The frame.append method is deprecated and will be removed from pandas in a future version. Use pandas.concat instead.\n",
      "\n"
     ]
    },
    {
     "data": {
      "text/html": [
       "<div>\n",
       "<style scoped>\n",
       "    .dataframe tbody tr th:only-of-type {\n",
       "        vertical-align: middle;\n",
       "    }\n",
       "\n",
       "    .dataframe tbody tr th {\n",
       "        vertical-align: top;\n",
       "    }\n",
       "\n",
       "    .dataframe thead th {\n",
       "        text-align: right;\n",
       "    }\n",
       "</style>\n",
       "<table border=\"1\" class=\"dataframe\">\n",
       "  <thead>\n",
       "    <tr style=\"text-align: right;\">\n",
       "      <th></th>\n",
       "      <th>word</th>\n",
       "      <th>kategorie</th>\n",
       "      <th>kategorie_name</th>\n",
       "      <th>hauptkategorie</th>\n",
       "      <th>2014</th>\n",
       "      <th>2014 %</th>\n",
       "      <th>2015</th>\n",
       "      <th>2015 %</th>\n",
       "      <th>2016</th>\n",
       "      <th>2016 %</th>\n",
       "      <th>...</th>\n",
       "      <th>2017 %</th>\n",
       "      <th>2018</th>\n",
       "      <th>2018 %</th>\n",
       "      <th>2019</th>\n",
       "      <th>2019 %</th>\n",
       "      <th>2020</th>\n",
       "      <th>2020 %</th>\n",
       "      <th>2021</th>\n",
       "      <th>2021 %</th>\n",
       "      <th>text_tok</th>\n",
       "    </tr>\n",
       "  </thead>\n",
       "  <tbody>\n",
       "    <tr>\n",
       "      <th>245</th>\n",
       "      <td>teamfähig</td>\n",
       "      <td>25</td>\n",
       "      <td>Eigenschaften</td>\n",
       "      <td>Allgemein</td>\n",
       "      <td>226.0</td>\n",
       "      <td>0.374172</td>\n",
       "      <td>245.0</td>\n",
       "      <td>0.414552</td>\n",
       "      <td>176.0</td>\n",
       "      <td>0.436725</td>\n",
       "      <td>...</td>\n",
       "      <td>0.390625</td>\n",
       "      <td>139.0</td>\n",
       "      <td>0.365789</td>\n",
       "      <td>147.0</td>\n",
       "      <td>0.386842</td>\n",
       "      <td>189.0</td>\n",
       "      <td>0.419069</td>\n",
       "      <td>168.0</td>\n",
       "      <td>0.429668</td>\n",
       "      <td>NaN</td>\n",
       "    </tr>\n",
       "    <tr>\n",
       "      <th>309</th>\n",
       "      <td>auskunft</td>\n",
       "      <td>18</td>\n",
       "      <td>Hardskill</td>\n",
       "      <td>Sport/Wellness/Kultur</td>\n",
       "      <td>245.0</td>\n",
       "      <td>0.626598</td>\n",
       "      <td>215.0</td>\n",
       "      <td>0.549872</td>\n",
       "      <td>178.0</td>\n",
       "      <td>0.455243</td>\n",
       "      <td>...</td>\n",
       "      <td>0.314578</td>\n",
       "      <td>147.0</td>\n",
       "      <td>0.375959</td>\n",
       "      <td>132.0</td>\n",
       "      <td>0.337596</td>\n",
       "      <td>183.0</td>\n",
       "      <td>0.468031</td>\n",
       "      <td>156.0</td>\n",
       "      <td>0.398977</td>\n",
       "      <td>[auskunft]</td>\n",
       "    </tr>\n",
       "    <tr>\n",
       "      <th>72</th>\n",
       "      <td>deutsch</td>\n",
       "      <td>27</td>\n",
       "      <td>Sprache</td>\n",
       "      <td>Allgemein</td>\n",
       "      <td>232.0</td>\n",
       "      <td>0.384106</td>\n",
       "      <td>251.0</td>\n",
       "      <td>0.424704</td>\n",
       "      <td>154.0</td>\n",
       "      <td>0.382134</td>\n",
       "      <td>...</td>\n",
       "      <td>0.359375</td>\n",
       "      <td>114.0</td>\n",
       "      <td>0.300000</td>\n",
       "      <td>122.0</td>\n",
       "      <td>0.321053</td>\n",
       "      <td>188.0</td>\n",
       "      <td>0.416851</td>\n",
       "      <td>149.0</td>\n",
       "      <td>0.381074</td>\n",
       "      <td>NaN</td>\n",
       "    </tr>\n",
       "    <tr>\n",
       "      <th>380</th>\n",
       "      <td>erfahrung</td>\n",
       "      <td>25</td>\n",
       "      <td>Eigenschaften</td>\n",
       "      <td>Allgemein</td>\n",
       "      <td>173.0</td>\n",
       "      <td>0.442455</td>\n",
       "      <td>202.0</td>\n",
       "      <td>0.516624</td>\n",
       "      <td>139.0</td>\n",
       "      <td>0.355499</td>\n",
       "      <td>...</td>\n",
       "      <td>0.271100</td>\n",
       "      <td>140.0</td>\n",
       "      <td>0.358056</td>\n",
       "      <td>144.0</td>\n",
       "      <td>0.368286</td>\n",
       "      <td>169.0</td>\n",
       "      <td>0.432225</td>\n",
       "      <td>141.0</td>\n",
       "      <td>0.360614</td>\n",
       "      <td>[erfahrung]</td>\n",
       "    </tr>\n",
       "    <tr>\n",
       "      <th>308</th>\n",
       "      <td>ausbildung</td>\n",
       "      <td>22</td>\n",
       "      <td>Abschluss</td>\n",
       "      <td>Allgemein</td>\n",
       "      <td>231.0</td>\n",
       "      <td>0.590793</td>\n",
       "      <td>252.0</td>\n",
       "      <td>0.644501</td>\n",
       "      <td>151.0</td>\n",
       "      <td>0.386189</td>\n",
       "      <td>...</td>\n",
       "      <td>0.268542</td>\n",
       "      <td>115.0</td>\n",
       "      <td>0.294118</td>\n",
       "      <td>128.0</td>\n",
       "      <td>0.327366</td>\n",
       "      <td>158.0</td>\n",
       "      <td>0.404092</td>\n",
       "      <td>137.0</td>\n",
       "      <td>0.350384</td>\n",
       "      <td>[ausbildung]</td>\n",
       "    </tr>\n",
       "  </tbody>\n",
       "</table>\n",
       "<p>5 rows × 21 columns</p>\n",
       "</div>"
      ],
      "text/plain": [
       "           word  kategorie kategorie_name         hauptkategorie   2014  \\\n",
       "245   teamfähig         25  Eigenschaften              Allgemein  226.0   \n",
       "309    auskunft         18      Hardskill  Sport/Wellness/Kultur  245.0   \n",
       "72      deutsch         27        Sprache              Allgemein  232.0   \n",
       "380   erfahrung         25  Eigenschaften              Allgemein  173.0   \n",
       "308  ausbildung         22      Abschluss              Allgemein  231.0   \n",
       "\n",
       "       2014 %   2015    2015 %   2016    2016 %  ...    2017 %   2018  \\\n",
       "245  0.374172  245.0  0.414552  176.0  0.436725  ...  0.390625  139.0   \n",
       "309  0.626598  215.0  0.549872  178.0  0.455243  ...  0.314578  147.0   \n",
       "72   0.384106  251.0  0.424704  154.0  0.382134  ...  0.359375  114.0   \n",
       "380  0.442455  202.0  0.516624  139.0  0.355499  ...  0.271100  140.0   \n",
       "308  0.590793  252.0  0.644501  151.0  0.386189  ...  0.268542  115.0   \n",
       "\n",
       "       2018 %   2019    2019 %   2020    2020 %   2021    2021 %      text_tok  \n",
       "245  0.365789  147.0  0.386842  189.0  0.419069  168.0  0.429668           NaN  \n",
       "309  0.375959  132.0  0.337596  183.0  0.468031  156.0  0.398977    [auskunft]  \n",
       "72   0.300000  122.0  0.321053  188.0  0.416851  149.0  0.381074           NaN  \n",
       "380  0.358056  144.0  0.368286  169.0  0.432225  141.0  0.360614   [erfahrung]  \n",
       "308  0.294118  128.0  0.327366  158.0  0.404092  137.0  0.350384  [ausbildung]  \n",
       "\n",
       "[5 rows x 21 columns]"
      ]
     },
     "execution_count": 8,
     "metadata": {},
     "output_type": "execute_result"
    }
   ],
   "source": [
    "# Anforderungen in einem Set speichern\n",
    "new_set = set()\n",
    "set_fix['text_tok'].apply(new_set.update)\n",
    "u = new_set\n",
    "\n",
    "# Vergleiche unique words, ob sie vorkommen im Text_new. Unique words list kommt vom Tokanizing oben.\n",
    "year = data['year'].min()\n",
    "\n",
    "while year <= data['year'].max():    \n",
    "    wordsets_fix = [ frozenset(document.split(' ')) for document in data.loc[data['year'] == year]['Text_Anforderungen'] ]\n",
    "    for word in u:\n",
    "        count = sum( 1 for s in wordsets_fix if word in s )\n",
    "        index = set_fix[set_fix['word']==word].index\n",
    "        set_fix.loc[index, year] = count\n",
    "        set_fix.loc[index, str(year) + ' %'] = (count / len(wordsets_phrases))\n",
    "    year += 1\n",
    "    \n",
    "anforderungen = set_phrases.append(set_fix, ignore_index=True)\n",
    "\n",
    "# Anforderungen mit den meisten Nennungen\n",
    "anforderungen.sort_values(by=2021,ascending=False).head(5)"
   ]
  },
  {
   "cell_type": "code",
   "execution_count": 18,
   "id": "b157a2e2",
   "metadata": {},
   "outputs": [
    {
     "data": {
      "text/html": [
       "<div>\n",
       "<style scoped>\n",
       "    .dataframe tbody tr th:only-of-type {\n",
       "        vertical-align: middle;\n",
       "    }\n",
       "\n",
       "    .dataframe tbody tr th {\n",
       "        vertical-align: top;\n",
       "    }\n",
       "\n",
       "    .dataframe thead th {\n",
       "        text-align: right;\n",
       "    }\n",
       "</style>\n",
       "<table border=\"1\" class=\"dataframe\">\n",
       "  <thead>\n",
       "    <tr style=\"text-align: right;\">\n",
       "      <th></th>\n",
       "      <th>Unnamed: 0.1</th>\n",
       "      <th>Unnamed: 0</th>\n",
       "      <th>word</th>\n",
       "      <th>kategorie</th>\n",
       "      <th>kategorie_name</th>\n",
       "      <th>hauptkategorie</th>\n",
       "      <th>2014</th>\n",
       "      <th>2014 %</th>\n",
       "      <th>2015</th>\n",
       "      <th>2015 %</th>\n",
       "      <th>...</th>\n",
       "      <th>2018 %</th>\n",
       "      <th>2019</th>\n",
       "      <th>2019 %</th>\n",
       "      <th>2020</th>\n",
       "      <th>2020 %</th>\n",
       "      <th>2021</th>\n",
       "      <th>2021 %</th>\n",
       "      <th>text_tok</th>\n",
       "      <th>total</th>\n",
       "      <th>2020_total</th>\n",
       "    </tr>\n",
       "  </thead>\n",
       "  <tbody>\n",
       "    <tr>\n",
       "      <th>558</th>\n",
       "      <td>558</td>\n",
       "      <td>558</td>\n",
       "      <td>projekt</td>\n",
       "      <td>21</td>\n",
       "      <td>Hardskill</td>\n",
       "      <td>Allgemein</td>\n",
       "      <td>72.0</td>\n",
       "      <td>0.184143</td>\n",
       "      <td>67.0</td>\n",
       "      <td>0.171355</td>\n",
       "      <td>...</td>\n",
       "      <td>0.199488</td>\n",
       "      <td>69.0</td>\n",
       "      <td>0.176471</td>\n",
       "      <td>93.0</td>\n",
       "      <td>0.237852</td>\n",
       "      <td>63.0</td>\n",
       "      <td>0.161125</td>\n",
       "      <td>['projekt']</td>\n",
       "      <td>500.0</td>\n",
       "      <td>0.165187</td>\n",
       "    </tr>\n",
       "    <tr>\n",
       "      <th>499</th>\n",
       "      <td>499</td>\n",
       "      <td>499</td>\n",
       "      <td>leiterin</td>\n",
       "      <td>20</td>\n",
       "      <td>Hardskill</td>\n",
       "      <td>Verwaltung/Bildung/Soziales</td>\n",
       "      <td>63.0</td>\n",
       "      <td>0.161125</td>\n",
       "      <td>64.0</td>\n",
       "      <td>0.163683</td>\n",
       "      <td>...</td>\n",
       "      <td>0.117647</td>\n",
       "      <td>45.0</td>\n",
       "      <td>0.115090</td>\n",
       "      <td>87.0</td>\n",
       "      <td>0.222506</td>\n",
       "      <td>64.0</td>\n",
       "      <td>0.163683</td>\n",
       "      <td>['leiterin']</td>\n",
       "      <td>386.0</td>\n",
       "      <td>0.193333</td>\n",
       "    </tr>\n",
       "    <tr>\n",
       "      <th>452</th>\n",
       "      <td>452</td>\n",
       "      <td>452</td>\n",
       "      <td>kaufmännisch</td>\n",
       "      <td>21</td>\n",
       "      <td>Hardskill</td>\n",
       "      <td>Allgemein</td>\n",
       "      <td>54.0</td>\n",
       "      <td>0.138107</td>\n",
       "      <td>51.0</td>\n",
       "      <td>0.130435</td>\n",
       "      <td>...</td>\n",
       "      <td>0.109974</td>\n",
       "      <td>34.0</td>\n",
       "      <td>0.086957</td>\n",
       "      <td>54.0</td>\n",
       "      <td>0.138107</td>\n",
       "      <td>40.0</td>\n",
       "      <td>0.102302</td>\n",
       "      <td>['kaufmännisch']</td>\n",
       "      <td>312.0</td>\n",
       "      <td>0.153409</td>\n",
       "    </tr>\n",
       "    <tr>\n",
       "      <th>546</th>\n",
       "      <td>546</td>\n",
       "      <td>546</td>\n",
       "      <td>planung</td>\n",
       "      <td>21</td>\n",
       "      <td>Hardskill</td>\n",
       "      <td>Allgemein</td>\n",
       "      <td>22.0</td>\n",
       "      <td>0.056266</td>\n",
       "      <td>26.0</td>\n",
       "      <td>0.066496</td>\n",
       "      <td>...</td>\n",
       "      <td>0.071611</td>\n",
       "      <td>32.0</td>\n",
       "      <td>0.081841</td>\n",
       "      <td>44.0</td>\n",
       "      <td>0.112532</td>\n",
       "      <td>31.0</td>\n",
       "      <td>0.079284</td>\n",
       "      <td>['planung']</td>\n",
       "      <td>206.0</td>\n",
       "      <td>0.185654</td>\n",
       "    </tr>\n",
       "    <tr>\n",
       "      <th>540</th>\n",
       "      <td>540</td>\n",
       "      <td>540</td>\n",
       "      <td>pflege</td>\n",
       "      <td>20</td>\n",
       "      <td>Hardskill</td>\n",
       "      <td>Verwaltung/Bildung/Soziales</td>\n",
       "      <td>26.0</td>\n",
       "      <td>0.066496</td>\n",
       "      <td>23.0</td>\n",
       "      <td>0.058824</td>\n",
       "      <td>...</td>\n",
       "      <td>0.046036</td>\n",
       "      <td>34.0</td>\n",
       "      <td>0.086957</td>\n",
       "      <td>44.0</td>\n",
       "      <td>0.112532</td>\n",
       "      <td>23.0</td>\n",
       "      <td>0.058824</td>\n",
       "      <td>['pflege']</td>\n",
       "      <td>187.0</td>\n",
       "      <td>0.209524</td>\n",
       "    </tr>\n",
       "  </tbody>\n",
       "</table>\n",
       "<p>5 rows × 25 columns</p>\n",
       "</div>"
      ],
      "text/plain": [
       "     Unnamed: 0.1  Unnamed: 0          word  kategorie kategorie_name  \\\n",
       "558           558         558       projekt         21      Hardskill   \n",
       "499           499         499      leiterin         20      Hardskill   \n",
       "452           452         452  kaufmännisch         21      Hardskill   \n",
       "546           546         546       planung         21      Hardskill   \n",
       "540           540         540        pflege         20      Hardskill   \n",
       "\n",
       "                  hauptkategorie  2014    2014 %  2015    2015 %  ...  \\\n",
       "558                    Allgemein  72.0  0.184143  67.0  0.171355  ...   \n",
       "499  Verwaltung/Bildung/Soziales  63.0  0.161125  64.0  0.163683  ...   \n",
       "452                    Allgemein  54.0  0.138107  51.0  0.130435  ...   \n",
       "546                    Allgemein  22.0  0.056266  26.0  0.066496  ...   \n",
       "540  Verwaltung/Bildung/Soziales  26.0  0.066496  23.0  0.058824  ...   \n",
       "\n",
       "       2018 %  2019    2019 %  2020    2020 %  2021    2021 %  \\\n",
       "558  0.199488  69.0  0.176471  93.0  0.237852  63.0  0.161125   \n",
       "499  0.117647  45.0  0.115090  87.0  0.222506  64.0  0.163683   \n",
       "452  0.109974  34.0  0.086957  54.0  0.138107  40.0  0.102302   \n",
       "546  0.071611  32.0  0.081841  44.0  0.112532  31.0  0.079284   \n",
       "540  0.046036  34.0  0.086957  44.0  0.112532  23.0  0.058824   \n",
       "\n",
       "             text_tok  total  2020_total  \n",
       "558       ['projekt']  500.0    0.165187  \n",
       "499      ['leiterin']  386.0    0.193333  \n",
       "452  ['kaufmännisch']  312.0    0.153409  \n",
       "546       ['planung']  206.0    0.185654  \n",
       "540        ['pflege']  187.0    0.209524  \n",
       "\n",
       "[5 rows x 25 columns]"
      ]
     },
     "execution_count": 18,
     "metadata": {},
     "output_type": "execute_result"
    }
   ],
   "source": [
    "# Nur für Daten mit Jobcloud\n",
    "anforderungen.to_csv(\"ausgewertete_Anforderungen.csv\", sep=\";\")\n",
    "\n",
    "# Ausgewertete Anforderungen einlesen\n",
    "anforderungen = pd.read_csv(\"ausgewertete_Anforderungen.csv\", sep=\";\")\n",
    "#anforderungen\n",
    "\n",
    "anforderungen['total'] = anforderungen['2014'] + anforderungen['2015'] + anforderungen['2016'] + anforderungen['2017'] + anforderungen['2018'] + anforderungen['2019'] + anforderungen['2020']\n",
    "#anforderungen.head()\n",
    "\n",
    "# Top 10 Hard Skills 2020 of the given data\n",
    "anforderungen.sort_values(by='2020', ascending=False).query('kategorie == ' + str(Kategorie) + ' or kategorie == 21').head(5)"
   ]
  },
  {
   "cell_type": "code",
   "execution_count": 19,
   "id": "1e83aeb0",
   "metadata": {},
   "outputs": [
    {
     "data": {
      "text/html": [
       "<div>\n",
       "<style scoped>\n",
       "    .dataframe tbody tr th:only-of-type {\n",
       "        vertical-align: middle;\n",
       "    }\n",
       "\n",
       "    .dataframe tbody tr th {\n",
       "        vertical-align: top;\n",
       "    }\n",
       "\n",
       "    .dataframe thead th {\n",
       "        text-align: right;\n",
       "    }\n",
       "</style>\n",
       "<table border=\"1\" class=\"dataframe\">\n",
       "  <thead>\n",
       "    <tr style=\"text-align: right;\">\n",
       "      <th></th>\n",
       "      <th>Unnamed: 0.1</th>\n",
       "      <th>Unnamed: 0</th>\n",
       "      <th>word</th>\n",
       "      <th>kategorie</th>\n",
       "      <th>kategorie_name</th>\n",
       "      <th>hauptkategorie</th>\n",
       "      <th>2014</th>\n",
       "      <th>2014 %</th>\n",
       "      <th>2015</th>\n",
       "      <th>2015 %</th>\n",
       "      <th>...</th>\n",
       "      <th>2018 %</th>\n",
       "      <th>2019</th>\n",
       "      <th>2019 %</th>\n",
       "      <th>2020</th>\n",
       "      <th>2020 %</th>\n",
       "      <th>2021</th>\n",
       "      <th>2021 %</th>\n",
       "      <th>text_tok</th>\n",
       "      <th>total</th>\n",
       "      <th>2020_total</th>\n",
       "    </tr>\n",
       "  </thead>\n",
       "  <tbody>\n",
       "    <tr>\n",
       "      <th>405</th>\n",
       "      <td>405</td>\n",
       "      <td>405</td>\n",
       "      <td>führen</td>\n",
       "      <td>24</td>\n",
       "      <td>Soft skill</td>\n",
       "      <td>Allgemein</td>\n",
       "      <td>81.0</td>\n",
       "      <td>0.207161</td>\n",
       "      <td>97.0</td>\n",
       "      <td>0.248082</td>\n",
       "      <td>...</td>\n",
       "      <td>0.171355</td>\n",
       "      <td>56.0</td>\n",
       "      <td>0.143223</td>\n",
       "      <td>73.0</td>\n",
       "      <td>0.186701</td>\n",
       "      <td>77.0</td>\n",
       "      <td>0.196931</td>\n",
       "      <td>['führen']</td>\n",
       "      <td>493.0</td>\n",
       "      <td>0.128070</td>\n",
       "    </tr>\n",
       "    <tr>\n",
       "      <th>334</th>\n",
       "      <td>334</td>\n",
       "      <td>334</td>\n",
       "      <td>betreuung</td>\n",
       "      <td>24</td>\n",
       "      <td>Soft skill</td>\n",
       "      <td>Allgemein</td>\n",
       "      <td>85.0</td>\n",
       "      <td>0.217391</td>\n",
       "      <td>86.0</td>\n",
       "      <td>0.219949</td>\n",
       "      <td>...</td>\n",
       "      <td>0.135550</td>\n",
       "      <td>51.0</td>\n",
       "      <td>0.130435</td>\n",
       "      <td>53.0</td>\n",
       "      <td>0.135550</td>\n",
       "      <td>57.0</td>\n",
       "      <td>0.145780</td>\n",
       "      <td>['betreuung']</td>\n",
       "      <td>410.0</td>\n",
       "      <td>0.113490</td>\n",
       "    </tr>\n",
       "    <tr>\n",
       "      <th>396</th>\n",
       "      <td>396</td>\n",
       "      <td>396</td>\n",
       "      <td>fördern</td>\n",
       "      <td>24</td>\n",
       "      <td>Soft skill</td>\n",
       "      <td>Allgemein</td>\n",
       "      <td>33.0</td>\n",
       "      <td>0.084399</td>\n",
       "      <td>46.0</td>\n",
       "      <td>0.117647</td>\n",
       "      <td>...</td>\n",
       "      <td>0.051151</td>\n",
       "      <td>27.0</td>\n",
       "      <td>0.069054</td>\n",
       "      <td>43.0</td>\n",
       "      <td>0.109974</td>\n",
       "      <td>56.0</td>\n",
       "      <td>0.143223</td>\n",
       "      <td>['fördern']</td>\n",
       "      <td>221.0</td>\n",
       "      <td>0.155235</td>\n",
       "    </tr>\n",
       "    <tr>\n",
       "      <th>456</th>\n",
       "      <td>456</td>\n",
       "      <td>456</td>\n",
       "      <td>kommunikationsfähigkeit</td>\n",
       "      <td>24</td>\n",
       "      <td>Soft skill</td>\n",
       "      <td>Allgemein</td>\n",
       "      <td>36.0</td>\n",
       "      <td>0.092072</td>\n",
       "      <td>31.0</td>\n",
       "      <td>0.079284</td>\n",
       "      <td>...</td>\n",
       "      <td>0.069054</td>\n",
       "      <td>36.0</td>\n",
       "      <td>0.092072</td>\n",
       "      <td>39.0</td>\n",
       "      <td>0.099744</td>\n",
       "      <td>44.0</td>\n",
       "      <td>0.112532</td>\n",
       "      <td>['kommunikationsfähigkeit']</td>\n",
       "      <td>210.0</td>\n",
       "      <td>0.153543</td>\n",
       "    </tr>\n",
       "    <tr>\n",
       "      <th>407</th>\n",
       "      <td>407</td>\n",
       "      <td>407</td>\n",
       "      <td>führung</td>\n",
       "      <td>24</td>\n",
       "      <td>Soft skill</td>\n",
       "      <td>Allgemein</td>\n",
       "      <td>47.0</td>\n",
       "      <td>0.120205</td>\n",
       "      <td>52.0</td>\n",
       "      <td>0.132992</td>\n",
       "      <td>...</td>\n",
       "      <td>0.092072</td>\n",
       "      <td>36.0</td>\n",
       "      <td>0.092072</td>\n",
       "      <td>49.0</td>\n",
       "      <td>0.125320</td>\n",
       "      <td>44.0</td>\n",
       "      <td>0.112532</td>\n",
       "      <td>['führung']</td>\n",
       "      <td>309.0</td>\n",
       "      <td>0.138810</td>\n",
       "    </tr>\n",
       "  </tbody>\n",
       "</table>\n",
       "<p>5 rows × 25 columns</p>\n",
       "</div>"
      ],
      "text/plain": [
       "     Unnamed: 0.1  Unnamed: 0                     word  kategorie  \\\n",
       "405           405         405                   führen         24   \n",
       "334           334         334                betreuung         24   \n",
       "396           396         396                  fördern         24   \n",
       "456           456         456  kommunikationsfähigkeit         24   \n",
       "407           407         407                  führung         24   \n",
       "\n",
       "    kategorie_name hauptkategorie  2014    2014 %  2015    2015 %  ...  \\\n",
       "405     Soft skill      Allgemein  81.0  0.207161  97.0  0.248082  ...   \n",
       "334     Soft skill      Allgemein  85.0  0.217391  86.0  0.219949  ...   \n",
       "396     Soft skill      Allgemein  33.0  0.084399  46.0  0.117647  ...   \n",
       "456     Soft skill      Allgemein  36.0  0.092072  31.0  0.079284  ...   \n",
       "407     Soft skill      Allgemein  47.0  0.120205  52.0  0.132992  ...   \n",
       "\n",
       "       2018 %  2019    2019 %  2020    2020 %  2021    2021 %  \\\n",
       "405  0.171355  56.0  0.143223  73.0  0.186701  77.0  0.196931   \n",
       "334  0.135550  51.0  0.130435  53.0  0.135550  57.0  0.145780   \n",
       "396  0.051151  27.0  0.069054  43.0  0.109974  56.0  0.143223   \n",
       "456  0.069054  36.0  0.092072  39.0  0.099744  44.0  0.112532   \n",
       "407  0.092072  36.0  0.092072  49.0  0.125320  44.0  0.112532   \n",
       "\n",
       "                        text_tok  total  2020_total  \n",
       "405                   ['führen']  493.0    0.128070  \n",
       "334                ['betreuung']  410.0    0.113490  \n",
       "396                  ['fördern']  221.0    0.155235  \n",
       "456  ['kommunikationsfähigkeit']  210.0    0.153543  \n",
       "407                  ['führung']  309.0    0.138810  \n",
       "\n",
       "[5 rows x 25 columns]"
      ]
     },
     "execution_count": 19,
     "metadata": {},
     "output_type": "execute_result"
    }
   ],
   "source": [
    "# Top 10 Soft Skills 2020\n",
    "anforderungen.sort_values(by ='2021', ascending=False).query('kategorie == 24').head(5)"
   ]
  },
  {
   "cell_type": "code",
   "execution_count": 20,
   "id": "7ee7d2ff",
   "metadata": {},
   "outputs": [
    {
     "data": {
      "text/html": [
       "<div>\n",
       "<style scoped>\n",
       "    .dataframe tbody tr th:only-of-type {\n",
       "        vertical-align: middle;\n",
       "    }\n",
       "\n",
       "    .dataframe tbody tr th {\n",
       "        vertical-align: top;\n",
       "    }\n",
       "\n",
       "    .dataframe thead th {\n",
       "        text-align: right;\n",
       "    }\n",
       "</style>\n",
       "<table border=\"1\" class=\"dataframe\">\n",
       "  <thead>\n",
       "    <tr style=\"text-align: right;\">\n",
       "      <th></th>\n",
       "      <th>Unnamed: 0.1</th>\n",
       "      <th>Unnamed: 0</th>\n",
       "      <th>word</th>\n",
       "      <th>kategorie</th>\n",
       "      <th>kategorie_name</th>\n",
       "      <th>hauptkategorie</th>\n",
       "      <th>2014</th>\n",
       "      <th>2014 %</th>\n",
       "      <th>2015</th>\n",
       "      <th>2015 %</th>\n",
       "      <th>...</th>\n",
       "      <th>2018 %</th>\n",
       "      <th>2019</th>\n",
       "      <th>2019 %</th>\n",
       "      <th>2020</th>\n",
       "      <th>2020 %</th>\n",
       "      <th>2021</th>\n",
       "      <th>2021 %</th>\n",
       "      <th>text_tok</th>\n",
       "      <th>total</th>\n",
       "      <th>2020_total</th>\n",
       "    </tr>\n",
       "  </thead>\n",
       "  <tbody>\n",
       "    <tr>\n",
       "      <th>245</th>\n",
       "      <td>245</td>\n",
       "      <td>245</td>\n",
       "      <td>teamfähig</td>\n",
       "      <td>25</td>\n",
       "      <td>Eigenschaften</td>\n",
       "      <td>Allgemein</td>\n",
       "      <td>226.0</td>\n",
       "      <td>0.374172</td>\n",
       "      <td>245.0</td>\n",
       "      <td>0.414552</td>\n",
       "      <td>...</td>\n",
       "      <td>0.365789</td>\n",
       "      <td>147.0</td>\n",
       "      <td>0.386842</td>\n",
       "      <td>189.0</td>\n",
       "      <td>0.419069</td>\n",
       "      <td>168.0</td>\n",
       "      <td>0.429668</td>\n",
       "      <td>NaN</td>\n",
       "      <td>1247.0</td>\n",
       "      <td>0.130249</td>\n",
       "    </tr>\n",
       "    <tr>\n",
       "      <th>380</th>\n",
       "      <td>380</td>\n",
       "      <td>380</td>\n",
       "      <td>erfahrung</td>\n",
       "      <td>25</td>\n",
       "      <td>Eigenschaften</td>\n",
       "      <td>Allgemein</td>\n",
       "      <td>173.0</td>\n",
       "      <td>0.442455</td>\n",
       "      <td>202.0</td>\n",
       "      <td>0.516624</td>\n",
       "      <td>...</td>\n",
       "      <td>0.358056</td>\n",
       "      <td>144.0</td>\n",
       "      <td>0.368286</td>\n",
       "      <td>169.0</td>\n",
       "      <td>0.432225</td>\n",
       "      <td>141.0</td>\n",
       "      <td>0.360614</td>\n",
       "      <td>['erfahrung']</td>\n",
       "      <td>1073.0</td>\n",
       "      <td>0.139209</td>\n",
       "    </tr>\n",
       "    <tr>\n",
       "      <th>618</th>\n",
       "      <td>618</td>\n",
       "      <td>618</td>\n",
       "      <td>teamfähig</td>\n",
       "      <td>25</td>\n",
       "      <td>Eigenschaften</td>\n",
       "      <td>Allgemein</td>\n",
       "      <td>170.0</td>\n",
       "      <td>0.434783</td>\n",
       "      <td>183.0</td>\n",
       "      <td>0.468031</td>\n",
       "      <td>...</td>\n",
       "      <td>0.227621</td>\n",
       "      <td>93.0</td>\n",
       "      <td>0.237852</td>\n",
       "      <td>132.0</td>\n",
       "      <td>0.337596</td>\n",
       "      <td>113.0</td>\n",
       "      <td>0.289003</td>\n",
       "      <td>['teamfähig']</td>\n",
       "      <td>886.0</td>\n",
       "      <td>0.132132</td>\n",
       "    </tr>\n",
       "    <tr>\n",
       "      <th>41</th>\n",
       "      <td>41</td>\n",
       "      <td>41</td>\n",
       "      <td>belastbar</td>\n",
       "      <td>25</td>\n",
       "      <td>Eigenschaften</td>\n",
       "      <td>Allgemein</td>\n",
       "      <td>145.0</td>\n",
       "      <td>0.240066</td>\n",
       "      <td>133.0</td>\n",
       "      <td>0.225042</td>\n",
       "      <td>...</td>\n",
       "      <td>0.263158</td>\n",
       "      <td>85.0</td>\n",
       "      <td>0.223684</td>\n",
       "      <td>98.0</td>\n",
       "      <td>0.217295</td>\n",
       "      <td>104.0</td>\n",
       "      <td>0.265985</td>\n",
       "      <td>NaN</td>\n",
       "      <td>732.0</td>\n",
       "      <td>0.114128</td>\n",
       "    </tr>\n",
       "    <tr>\n",
       "      <th>226</th>\n",
       "      <td>226</td>\n",
       "      <td>226</td>\n",
       "      <td>selbständig</td>\n",
       "      <td>25</td>\n",
       "      <td>Eigenschaften</td>\n",
       "      <td>Allgemein</td>\n",
       "      <td>129.0</td>\n",
       "      <td>0.213576</td>\n",
       "      <td>138.0</td>\n",
       "      <td>0.233503</td>\n",
       "      <td>...</td>\n",
       "      <td>0.273684</td>\n",
       "      <td>84.0</td>\n",
       "      <td>0.221053</td>\n",
       "      <td>126.0</td>\n",
       "      <td>0.279379</td>\n",
       "      <td>92.0</td>\n",
       "      <td>0.235294</td>\n",
       "      <td>NaN</td>\n",
       "      <td>738.0</td>\n",
       "      <td>0.147531</td>\n",
       "    </tr>\n",
       "  </tbody>\n",
       "</table>\n",
       "<p>5 rows × 25 columns</p>\n",
       "</div>"
      ],
      "text/plain": [
       "     Unnamed: 0.1  Unnamed: 0         word  kategorie kategorie_name  \\\n",
       "245           245         245    teamfähig         25  Eigenschaften   \n",
       "380           380         380    erfahrung         25  Eigenschaften   \n",
       "618           618         618    teamfähig         25  Eigenschaften   \n",
       "41             41          41    belastbar         25  Eigenschaften   \n",
       "226           226         226  selbständig         25  Eigenschaften   \n",
       "\n",
       "    hauptkategorie   2014    2014 %   2015    2015 %  ...    2018 %   2019  \\\n",
       "245      Allgemein  226.0  0.374172  245.0  0.414552  ...  0.365789  147.0   \n",
       "380      Allgemein  173.0  0.442455  202.0  0.516624  ...  0.358056  144.0   \n",
       "618      Allgemein  170.0  0.434783  183.0  0.468031  ...  0.227621   93.0   \n",
       "41       Allgemein  145.0  0.240066  133.0  0.225042  ...  0.263158   85.0   \n",
       "226      Allgemein  129.0  0.213576  138.0  0.233503  ...  0.273684   84.0   \n",
       "\n",
       "       2019 %   2020    2020 %   2021    2021 %       text_tok   total  \\\n",
       "245  0.386842  189.0  0.419069  168.0  0.429668            NaN  1247.0   \n",
       "380  0.368286  169.0  0.432225  141.0  0.360614  ['erfahrung']  1073.0   \n",
       "618  0.237852  132.0  0.337596  113.0  0.289003  ['teamfähig']   886.0   \n",
       "41   0.223684   98.0  0.217295  104.0  0.265985            NaN   732.0   \n",
       "226  0.221053  126.0  0.279379   92.0  0.235294            NaN   738.0   \n",
       "\n",
       "     2020_total  \n",
       "245    0.130249  \n",
       "380    0.139209  \n",
       "618    0.132132  \n",
       "41     0.114128  \n",
       "226    0.147531  \n",
       "\n",
       "[5 rows x 25 columns]"
      ]
     },
     "execution_count": 20,
     "metadata": {},
     "output_type": "execute_result"
    }
   ],
   "source": [
    "# Top 10 Soft Skills 2021 Attributes\n",
    "anforderungen.sort_values(by ='2021', ascending=False).query('kategorie == 25').head(5)"
   ]
  },
  {
   "cell_type": "code",
   "execution_count": 21,
   "id": "a67e2a8a",
   "metadata": {},
   "outputs": [
    {
     "data": {
      "text/html": [
       "<div>\n",
       "<style scoped>\n",
       "    .dataframe tbody tr th:only-of-type {\n",
       "        vertical-align: middle;\n",
       "    }\n",
       "\n",
       "    .dataframe tbody tr th {\n",
       "        vertical-align: top;\n",
       "    }\n",
       "\n",
       "    .dataframe thead th {\n",
       "        text-align: right;\n",
       "    }\n",
       "</style>\n",
       "<table border=\"1\" class=\"dataframe\">\n",
       "  <thead>\n",
       "    <tr style=\"text-align: right;\">\n",
       "      <th></th>\n",
       "      <th>Unnamed: 0.1</th>\n",
       "      <th>Unnamed: 0</th>\n",
       "      <th>word</th>\n",
       "      <th>kategorie</th>\n",
       "      <th>kategorie_name</th>\n",
       "      <th>hauptkategorie</th>\n",
       "      <th>2014</th>\n",
       "      <th>2014 %</th>\n",
       "      <th>2015</th>\n",
       "      <th>2015 %</th>\n",
       "      <th>...</th>\n",
       "      <th>2018 %</th>\n",
       "      <th>2019</th>\n",
       "      <th>2019 %</th>\n",
       "      <th>2020</th>\n",
       "      <th>2020 %</th>\n",
       "      <th>2021</th>\n",
       "      <th>2021 %</th>\n",
       "      <th>text_tok</th>\n",
       "      <th>total</th>\n",
       "      <th>2020_total</th>\n",
       "    </tr>\n",
       "  </thead>\n",
       "  <tbody>\n",
       "    <tr>\n",
       "      <th>72</th>\n",
       "      <td>72</td>\n",
       "      <td>72</td>\n",
       "      <td>deutsch</td>\n",
       "      <td>27</td>\n",
       "      <td>Sprache</td>\n",
       "      <td>Allgemein</td>\n",
       "      <td>232.0</td>\n",
       "      <td>0.384106</td>\n",
       "      <td>251.0</td>\n",
       "      <td>0.424704</td>\n",
       "      <td>...</td>\n",
       "      <td>0.300000</td>\n",
       "      <td>122.0</td>\n",
       "      <td>0.321053</td>\n",
       "      <td>188.0</td>\n",
       "      <td>0.416851</td>\n",
       "      <td>149.0</td>\n",
       "      <td>0.381074</td>\n",
       "      <td>NaN</td>\n",
       "      <td>1176.0</td>\n",
       "      <td>0.140387</td>\n",
       "    </tr>\n",
       "    <tr>\n",
       "      <th>353</th>\n",
       "      <td>353</td>\n",
       "      <td>353</td>\n",
       "      <td>deutsch</td>\n",
       "      <td>27</td>\n",
       "      <td>Sprache</td>\n",
       "      <td>Allgemein</td>\n",
       "      <td>195.0</td>\n",
       "      <td>0.498721</td>\n",
       "      <td>220.0</td>\n",
       "      <td>0.562660</td>\n",
       "      <td>...</td>\n",
       "      <td>0.209719</td>\n",
       "      <td>88.0</td>\n",
       "      <td>0.225064</td>\n",
       "      <td>127.0</td>\n",
       "      <td>0.324808</td>\n",
       "      <td>107.0</td>\n",
       "      <td>0.273657</td>\n",
       "      <td>['deutsch']</td>\n",
       "      <td>931.0</td>\n",
       "      <td>0.122351</td>\n",
       "    </tr>\n",
       "    <tr>\n",
       "      <th>97</th>\n",
       "      <td>97</td>\n",
       "      <td>97</td>\n",
       "      <td>englisch</td>\n",
       "      <td>27</td>\n",
       "      <td>Sprache</td>\n",
       "      <td>Allgemein</td>\n",
       "      <td>96.0</td>\n",
       "      <td>0.158940</td>\n",
       "      <td>76.0</td>\n",
       "      <td>0.128596</td>\n",
       "      <td>...</td>\n",
       "      <td>0.160526</td>\n",
       "      <td>65.0</td>\n",
       "      <td>0.171053</td>\n",
       "      <td>103.0</td>\n",
       "      <td>0.228381</td>\n",
       "      <td>85.0</td>\n",
       "      <td>0.217391</td>\n",
       "      <td>NaN</td>\n",
       "      <td>526.0</td>\n",
       "      <td>0.161478</td>\n",
       "    </tr>\n",
       "    <tr>\n",
       "      <th>114</th>\n",
       "      <td>114</td>\n",
       "      <td>114</td>\n",
       "      <td>französisch</td>\n",
       "      <td>27</td>\n",
       "      <td>Sprache</td>\n",
       "      <td>Allgemein</td>\n",
       "      <td>80.0</td>\n",
       "      <td>0.132450</td>\n",
       "      <td>88.0</td>\n",
       "      <td>0.148900</td>\n",
       "      <td>...</td>\n",
       "      <td>0.126316</td>\n",
       "      <td>40.0</td>\n",
       "      <td>0.105263</td>\n",
       "      <td>75.0</td>\n",
       "      <td>0.166297</td>\n",
       "      <td>70.0</td>\n",
       "      <td>0.179028</td>\n",
       "      <td>NaN</td>\n",
       "      <td>448.0</td>\n",
       "      <td>0.140457</td>\n",
       "    </tr>\n",
       "    <tr>\n",
       "      <th>397</th>\n",
       "      <td>397</td>\n",
       "      <td>397</td>\n",
       "      <td>französisch</td>\n",
       "      <td>27</td>\n",
       "      <td>Sprache</td>\n",
       "      <td>Allgemein</td>\n",
       "      <td>67.0</td>\n",
       "      <td>0.171355</td>\n",
       "      <td>65.0</td>\n",
       "      <td>0.166240</td>\n",
       "      <td>...</td>\n",
       "      <td>0.071611</td>\n",
       "      <td>22.0</td>\n",
       "      <td>0.056266</td>\n",
       "      <td>48.0</td>\n",
       "      <td>0.122762</td>\n",
       "      <td>42.0</td>\n",
       "      <td>0.107417</td>\n",
       "      <td>['französisch']</td>\n",
       "      <td>309.0</td>\n",
       "      <td>0.136752</td>\n",
       "    </tr>\n",
       "  </tbody>\n",
       "</table>\n",
       "<p>5 rows × 25 columns</p>\n",
       "</div>"
      ],
      "text/plain": [
       "     Unnamed: 0.1  Unnamed: 0         word  kategorie kategorie_name  \\\n",
       "72             72          72      deutsch         27        Sprache   \n",
       "353           353         353      deutsch         27        Sprache   \n",
       "97             97          97     englisch         27        Sprache   \n",
       "114           114         114  französisch         27        Sprache   \n",
       "397           397         397  französisch         27        Sprache   \n",
       "\n",
       "    hauptkategorie   2014    2014 %   2015    2015 %  ...    2018 %   2019  \\\n",
       "72       Allgemein  232.0  0.384106  251.0  0.424704  ...  0.300000  122.0   \n",
       "353      Allgemein  195.0  0.498721  220.0  0.562660  ...  0.209719   88.0   \n",
       "97       Allgemein   96.0  0.158940   76.0  0.128596  ...  0.160526   65.0   \n",
       "114      Allgemein   80.0  0.132450   88.0  0.148900  ...  0.126316   40.0   \n",
       "397      Allgemein   67.0  0.171355   65.0  0.166240  ...  0.071611   22.0   \n",
       "\n",
       "       2019 %   2020    2020 %   2021    2021 %         text_tok   total  \\\n",
       "72   0.321053  188.0  0.416851  149.0  0.381074              NaN  1176.0   \n",
       "353  0.225064  127.0  0.324808  107.0  0.273657      ['deutsch']   931.0   \n",
       "97   0.171053  103.0  0.228381   85.0  0.217391              NaN   526.0   \n",
       "114  0.105263   75.0  0.166297   70.0  0.179028              NaN   448.0   \n",
       "397  0.056266   48.0  0.122762   42.0  0.107417  ['französisch']   309.0   \n",
       "\n",
       "     2020_total  \n",
       "72     0.140387  \n",
       "353    0.122351  \n",
       "97     0.161478  \n",
       "114    0.140457  \n",
       "397    0.136752  \n",
       "\n",
       "[5 rows x 25 columns]"
      ]
     },
     "execution_count": 21,
     "metadata": {},
     "output_type": "execute_result"
    }
   ],
   "source": [
    "# Top 10 Soft Skills 2021 Languages\n",
    "anforderungen.sort_values(by ='2021', ascending=False).query('kategorie == 27').head(5)"
   ]
  },
  {
   "cell_type": "code",
   "execution_count": 22,
   "id": "6538d743",
   "metadata": {},
   "outputs": [
    {
     "name": "stdout",
     "output_type": "stream",
     "text": [
      "64\n"
     ]
    }
   ],
   "source": [
    "df = anforderungen.query('kategorie == '+str(Kategorie))\n",
    "a = int(df['2021'].nlargest(n=1))\n",
    "b = int(df['2014'].nlargest(n=1))\n",
    "\n",
    "if a >= b:\n",
    "    maximum = a\n",
    "else:\n",
    "    maximum = b\n",
    "\n",
    "print(str(maximum))\n",
    "\n",
    "#anforderungen.query('kategorie == '+str(Kategorie)).sort_values(by='2021', ascending=False).query('kategorie == ' + str(Kategorie)).head(1)"
   ]
  },
  {
   "cell_type": "code",
   "execution_count": 27,
   "id": "979b77d5",
   "metadata": {},
   "outputs": [
    {
     "data": {
      "application/vnd.plotly.v1+json": {
       "config": {
        "plotlyServerURL": "https://plot.ly"
       },
       "data": [
        {
         "fill": "toself",
         "name": "2021",
         "r": [
          64,
          37,
          28,
          26,
          23,
          22,
          22,
          18,
          17,
          17,
          16,
          15,
          15,
          14,
          12,
          11,
          11,
          10,
          9,
          8
         ],
         "theta": [
          "administrativ aufgabe",
          "hr consultant",
          "mensch behinderung",
          "öffentlich verwaltung",
          "organisation schule",
          "schulisch heilpädagogik",
          "sozial arbeit",
          "gesundheitswesen",
          "juristisch",
          "kinderbetreuung",
          "klassenlehrperson",
          "leiterin",
          "pädagogik",
          "pädagogisch",
          "pflege",
          "pflegen",
          "primarlehrperson",
          "primarstufe",
          "psychisch",
          "psychologie",
          "sachbearbeiterin",
          "sekundarstufe",
          "sozialarbeit",
          "sozialarbeiterin",
          "sozialberatung",
          "sozialhilfe",
          "sozialleistung",
          "sozialpädagogik",
          "sozialpädagogisch",
          "unterrichten",
          "unterrichtserfahrung"
         ],
         "type": "scatterpolar"
        },
        {
         "fill": "toself",
         "name": "2014",
         "r": [
          63,
          56,
          49,
          39,
          39,
          35,
          32,
          30,
          30,
          29,
          28,
          26,
          26,
          25,
          21,
          21,
          20,
          18,
          18,
          16
         ],
         "theta": [
          "administrativ aufgabe",
          "hr consultant",
          "mensch behinderung",
          "öffentlich verwaltung",
          "organisation schule",
          "schulisch heilpädagogik",
          "sozial arbeit",
          "gesundheitswesen",
          "juristisch",
          "kinderbetreuung",
          "klassenlehrperson",
          "leiterin",
          "pädagogik",
          "pädagogisch",
          "pflege",
          "pflegen",
          "primarlehrperson",
          "primarstufe",
          "psychisch",
          "psychologie",
          "sachbearbeiterin",
          "sekundarstufe",
          "sozialarbeit",
          "sozialarbeiterin",
          "sozialberatung",
          "sozialhilfe",
          "sozialleistung",
          "sozialpädagogik",
          "sozialpädagogisch",
          "unterrichten",
          "unterrichtserfahrung"
         ],
         "type": "scatterpolar"
        }
       ],
       "layout": {
        "legend": {
         "x": 0.7,
         "y": 0.99
        },
        "polar": {
         "radialaxis": {
          "range": [
           0,
           83.2
          ],
          "visible": true
         }
        },
        "showlegend": true,
        "template": {
         "data": {
          "bar": [
           {
            "error_x": {
             "color": "#2a3f5f"
            },
            "error_y": {
             "color": "#2a3f5f"
            },
            "marker": {
             "line": {
              "color": "#E5ECF6",
              "width": 0.5
             },
             "pattern": {
              "fillmode": "overlay",
              "size": 10,
              "solidity": 0.2
             }
            },
            "type": "bar"
           }
          ],
          "barpolar": [
           {
            "marker": {
             "line": {
              "color": "#E5ECF6",
              "width": 0.5
             },
             "pattern": {
              "fillmode": "overlay",
              "size": 10,
              "solidity": 0.2
             }
            },
            "type": "barpolar"
           }
          ],
          "carpet": [
           {
            "aaxis": {
             "endlinecolor": "#2a3f5f",
             "gridcolor": "white",
             "linecolor": "white",
             "minorgridcolor": "white",
             "startlinecolor": "#2a3f5f"
            },
            "baxis": {
             "endlinecolor": "#2a3f5f",
             "gridcolor": "white",
             "linecolor": "white",
             "minorgridcolor": "white",
             "startlinecolor": "#2a3f5f"
            },
            "type": "carpet"
           }
          ],
          "choropleth": [
           {
            "colorbar": {
             "outlinewidth": 0,
             "ticks": ""
            },
            "type": "choropleth"
           }
          ],
          "contour": [
           {
            "colorbar": {
             "outlinewidth": 0,
             "ticks": ""
            },
            "colorscale": [
             [
              0,
              "#0d0887"
             ],
             [
              0.1111111111111111,
              "#46039f"
             ],
             [
              0.2222222222222222,
              "#7201a8"
             ],
             [
              0.3333333333333333,
              "#9c179e"
             ],
             [
              0.4444444444444444,
              "#bd3786"
             ],
             [
              0.5555555555555556,
              "#d8576b"
             ],
             [
              0.6666666666666666,
              "#ed7953"
             ],
             [
              0.7777777777777778,
              "#fb9f3a"
             ],
             [
              0.8888888888888888,
              "#fdca26"
             ],
             [
              1,
              "#f0f921"
             ]
            ],
            "type": "contour"
           }
          ],
          "contourcarpet": [
           {
            "colorbar": {
             "outlinewidth": 0,
             "ticks": ""
            },
            "type": "contourcarpet"
           }
          ],
          "heatmap": [
           {
            "colorbar": {
             "outlinewidth": 0,
             "ticks": ""
            },
            "colorscale": [
             [
              0,
              "#0d0887"
             ],
             [
              0.1111111111111111,
              "#46039f"
             ],
             [
              0.2222222222222222,
              "#7201a8"
             ],
             [
              0.3333333333333333,
              "#9c179e"
             ],
             [
              0.4444444444444444,
              "#bd3786"
             ],
             [
              0.5555555555555556,
              "#d8576b"
             ],
             [
              0.6666666666666666,
              "#ed7953"
             ],
             [
              0.7777777777777778,
              "#fb9f3a"
             ],
             [
              0.8888888888888888,
              "#fdca26"
             ],
             [
              1,
              "#f0f921"
             ]
            ],
            "type": "heatmap"
           }
          ],
          "heatmapgl": [
           {
            "colorbar": {
             "outlinewidth": 0,
             "ticks": ""
            },
            "colorscale": [
             [
              0,
              "#0d0887"
             ],
             [
              0.1111111111111111,
              "#46039f"
             ],
             [
              0.2222222222222222,
              "#7201a8"
             ],
             [
              0.3333333333333333,
              "#9c179e"
             ],
             [
              0.4444444444444444,
              "#bd3786"
             ],
             [
              0.5555555555555556,
              "#d8576b"
             ],
             [
              0.6666666666666666,
              "#ed7953"
             ],
             [
              0.7777777777777778,
              "#fb9f3a"
             ],
             [
              0.8888888888888888,
              "#fdca26"
             ],
             [
              1,
              "#f0f921"
             ]
            ],
            "type": "heatmapgl"
           }
          ],
          "histogram": [
           {
            "marker": {
             "pattern": {
              "fillmode": "overlay",
              "size": 10,
              "solidity": 0.2
             }
            },
            "type": "histogram"
           }
          ],
          "histogram2d": [
           {
            "colorbar": {
             "outlinewidth": 0,
             "ticks": ""
            },
            "colorscale": [
             [
              0,
              "#0d0887"
             ],
             [
              0.1111111111111111,
              "#46039f"
             ],
             [
              0.2222222222222222,
              "#7201a8"
             ],
             [
              0.3333333333333333,
              "#9c179e"
             ],
             [
              0.4444444444444444,
              "#bd3786"
             ],
             [
              0.5555555555555556,
              "#d8576b"
             ],
             [
              0.6666666666666666,
              "#ed7953"
             ],
             [
              0.7777777777777778,
              "#fb9f3a"
             ],
             [
              0.8888888888888888,
              "#fdca26"
             ],
             [
              1,
              "#f0f921"
             ]
            ],
            "type": "histogram2d"
           }
          ],
          "histogram2dcontour": [
           {
            "colorbar": {
             "outlinewidth": 0,
             "ticks": ""
            },
            "colorscale": [
             [
              0,
              "#0d0887"
             ],
             [
              0.1111111111111111,
              "#46039f"
             ],
             [
              0.2222222222222222,
              "#7201a8"
             ],
             [
              0.3333333333333333,
              "#9c179e"
             ],
             [
              0.4444444444444444,
              "#bd3786"
             ],
             [
              0.5555555555555556,
              "#d8576b"
             ],
             [
              0.6666666666666666,
              "#ed7953"
             ],
             [
              0.7777777777777778,
              "#fb9f3a"
             ],
             [
              0.8888888888888888,
              "#fdca26"
             ],
             [
              1,
              "#f0f921"
             ]
            ],
            "type": "histogram2dcontour"
           }
          ],
          "mesh3d": [
           {
            "colorbar": {
             "outlinewidth": 0,
             "ticks": ""
            },
            "type": "mesh3d"
           }
          ],
          "parcoords": [
           {
            "line": {
             "colorbar": {
              "outlinewidth": 0,
              "ticks": ""
             }
            },
            "type": "parcoords"
           }
          ],
          "pie": [
           {
            "automargin": true,
            "type": "pie"
           }
          ],
          "scatter": [
           {
            "marker": {
             "colorbar": {
              "outlinewidth": 0,
              "ticks": ""
             }
            },
            "type": "scatter"
           }
          ],
          "scatter3d": [
           {
            "line": {
             "colorbar": {
              "outlinewidth": 0,
              "ticks": ""
             }
            },
            "marker": {
             "colorbar": {
              "outlinewidth": 0,
              "ticks": ""
             }
            },
            "type": "scatter3d"
           }
          ],
          "scattercarpet": [
           {
            "marker": {
             "colorbar": {
              "outlinewidth": 0,
              "ticks": ""
             }
            },
            "type": "scattercarpet"
           }
          ],
          "scattergeo": [
           {
            "marker": {
             "colorbar": {
              "outlinewidth": 0,
              "ticks": ""
             }
            },
            "type": "scattergeo"
           }
          ],
          "scattergl": [
           {
            "marker": {
             "colorbar": {
              "outlinewidth": 0,
              "ticks": ""
             }
            },
            "type": "scattergl"
           }
          ],
          "scattermapbox": [
           {
            "marker": {
             "colorbar": {
              "outlinewidth": 0,
              "ticks": ""
             }
            },
            "type": "scattermapbox"
           }
          ],
          "scatterpolar": [
           {
            "marker": {
             "colorbar": {
              "outlinewidth": 0,
              "ticks": ""
             }
            },
            "type": "scatterpolar"
           }
          ],
          "scatterpolargl": [
           {
            "marker": {
             "colorbar": {
              "outlinewidth": 0,
              "ticks": ""
             }
            },
            "type": "scatterpolargl"
           }
          ],
          "scatterternary": [
           {
            "marker": {
             "colorbar": {
              "outlinewidth": 0,
              "ticks": ""
             }
            },
            "type": "scatterternary"
           }
          ],
          "surface": [
           {
            "colorbar": {
             "outlinewidth": 0,
             "ticks": ""
            },
            "colorscale": [
             [
              0,
              "#0d0887"
             ],
             [
              0.1111111111111111,
              "#46039f"
             ],
             [
              0.2222222222222222,
              "#7201a8"
             ],
             [
              0.3333333333333333,
              "#9c179e"
             ],
             [
              0.4444444444444444,
              "#bd3786"
             ],
             [
              0.5555555555555556,
              "#d8576b"
             ],
             [
              0.6666666666666666,
              "#ed7953"
             ],
             [
              0.7777777777777778,
              "#fb9f3a"
             ],
             [
              0.8888888888888888,
              "#fdca26"
             ],
             [
              1,
              "#f0f921"
             ]
            ],
            "type": "surface"
           }
          ],
          "table": [
           {
            "cells": {
             "fill": {
              "color": "#EBF0F8"
             },
             "line": {
              "color": "white"
             }
            },
            "header": {
             "fill": {
              "color": "#C8D4E3"
             },
             "line": {
              "color": "white"
             }
            },
            "type": "table"
           }
          ]
         },
         "layout": {
          "annotationdefaults": {
           "arrowcolor": "#2a3f5f",
           "arrowhead": 0,
           "arrowwidth": 1
          },
          "autotypenumbers": "strict",
          "coloraxis": {
           "colorbar": {
            "outlinewidth": 0,
            "ticks": ""
           }
          },
          "colorscale": {
           "diverging": [
            [
             0,
             "#8e0152"
            ],
            [
             0.1,
             "#c51b7d"
            ],
            [
             0.2,
             "#de77ae"
            ],
            [
             0.3,
             "#f1b6da"
            ],
            [
             0.4,
             "#fde0ef"
            ],
            [
             0.5,
             "#f7f7f7"
            ],
            [
             0.6,
             "#e6f5d0"
            ],
            [
             0.7,
             "#b8e186"
            ],
            [
             0.8,
             "#7fbc41"
            ],
            [
             0.9,
             "#4d9221"
            ],
            [
             1,
             "#276419"
            ]
           ],
           "sequential": [
            [
             0,
             "#0d0887"
            ],
            [
             0.1111111111111111,
             "#46039f"
            ],
            [
             0.2222222222222222,
             "#7201a8"
            ],
            [
             0.3333333333333333,
             "#9c179e"
            ],
            [
             0.4444444444444444,
             "#bd3786"
            ],
            [
             0.5555555555555556,
             "#d8576b"
            ],
            [
             0.6666666666666666,
             "#ed7953"
            ],
            [
             0.7777777777777778,
             "#fb9f3a"
            ],
            [
             0.8888888888888888,
             "#fdca26"
            ],
            [
             1,
             "#f0f921"
            ]
           ],
           "sequentialminus": [
            [
             0,
             "#0d0887"
            ],
            [
             0.1111111111111111,
             "#46039f"
            ],
            [
             0.2222222222222222,
             "#7201a8"
            ],
            [
             0.3333333333333333,
             "#9c179e"
            ],
            [
             0.4444444444444444,
             "#bd3786"
            ],
            [
             0.5555555555555556,
             "#d8576b"
            ],
            [
             0.6666666666666666,
             "#ed7953"
            ],
            [
             0.7777777777777778,
             "#fb9f3a"
            ],
            [
             0.8888888888888888,
             "#fdca26"
            ],
            [
             1,
             "#f0f921"
            ]
           ]
          },
          "colorway": [
           "#636efa",
           "#EF553B",
           "#00cc96",
           "#ab63fa",
           "#FFA15A",
           "#19d3f3",
           "#FF6692",
           "#B6E880",
           "#FF97FF",
           "#FECB52"
          ],
          "font": {
           "color": "#2a3f5f"
          },
          "geo": {
           "bgcolor": "white",
           "lakecolor": "white",
           "landcolor": "#E5ECF6",
           "showlakes": true,
           "showland": true,
           "subunitcolor": "white"
          },
          "hoverlabel": {
           "align": "left"
          },
          "hovermode": "closest",
          "mapbox": {
           "style": "light"
          },
          "paper_bgcolor": "white",
          "plot_bgcolor": "#E5ECF6",
          "polar": {
           "angularaxis": {
            "gridcolor": "white",
            "linecolor": "white",
            "ticks": ""
           },
           "bgcolor": "#E5ECF6",
           "radialaxis": {
            "gridcolor": "white",
            "linecolor": "white",
            "ticks": ""
           }
          },
          "scene": {
           "xaxis": {
            "backgroundcolor": "#E5ECF6",
            "gridcolor": "white",
            "gridwidth": 2,
            "linecolor": "white",
            "showbackground": true,
            "ticks": "",
            "zerolinecolor": "white"
           },
           "yaxis": {
            "backgroundcolor": "#E5ECF6",
            "gridcolor": "white",
            "gridwidth": 2,
            "linecolor": "white",
            "showbackground": true,
            "ticks": "",
            "zerolinecolor": "white"
           },
           "zaxis": {
            "backgroundcolor": "#E5ECF6",
            "gridcolor": "white",
            "gridwidth": 2,
            "linecolor": "white",
            "showbackground": true,
            "ticks": "",
            "zerolinecolor": "white"
           }
          },
          "shapedefaults": {
           "line": {
            "color": "#2a3f5f"
           }
          },
          "ternary": {
           "aaxis": {
            "gridcolor": "white",
            "linecolor": "white",
            "ticks": ""
           },
           "baxis": {
            "gridcolor": "white",
            "linecolor": "white",
            "ticks": ""
           },
           "bgcolor": "#E5ECF6",
           "caxis": {
            "gridcolor": "white",
            "linecolor": "white",
            "ticks": ""
           }
          },
          "title": {
           "x": 0.05
          },
          "xaxis": {
           "automargin": true,
           "gridcolor": "white",
           "linecolor": "white",
           "ticks": "",
           "title": {
            "standoff": 15
           },
           "zerolinecolor": "white",
           "zerolinewidth": 2
          },
          "yaxis": {
           "automargin": true,
           "gridcolor": "white",
           "linecolor": "white",
           "ticks": "",
           "title": {
            "standoff": 15
           },
           "zerolinecolor": "white",
           "zerolinewidth": 2
          }
         }
        }
       }
      },
      "text/html": [
       "<div>                            <div id=\"d0dabeec-01f7-4236-b967-d0d8239df66c\" class=\"plotly-graph-div\" style=\"height:525px; width:100%;\"></div>            <script type=\"text/javascript\">                require([\"plotly\"], function(Plotly) {                    window.PLOTLYENV=window.PLOTLYENV || {};                                    if (document.getElementById(\"d0dabeec-01f7-4236-b967-d0d8239df66c\")) {                    Plotly.newPlot(                        \"d0dabeec-01f7-4236-b967-d0d8239df66c\",                        [{\"fill\":\"toself\",\"name\":\"2021\",\"r\":[64.0,37.0,28.0,26.0,23.0,22.0,22.0,18.0,17.0,17.0,16.0,15.0,15.0,14.0,12.0,11.0,11.0,10.0,9.0,8.0],\"theta\":[\"administrativ aufgabe\",\"hr consultant\",\"mensch behinderung\",\"\\u00f6ffentlich verwaltung\",\"organisation schule\",\"schulisch heilp\\u00e4dagogik\",\"sozial arbeit\",\"gesundheitswesen\",\"juristisch\",\"kinderbetreuung\",\"klassenlehrperson\",\"leiterin\",\"p\\u00e4dagogik\",\"p\\u00e4dagogisch\",\"pflege\",\"pflegen\",\"primarlehrperson\",\"primarstufe\",\"psychisch\",\"psychologie\",\"sachbearbeiterin\",\"sekundarstufe\",\"sozialarbeit\",\"sozialarbeiterin\",\"sozialberatung\",\"sozialhilfe\",\"sozialleistung\",\"sozialp\\u00e4dagogik\",\"sozialp\\u00e4dagogisch\",\"unterrichten\",\"unterrichtserfahrung\"],\"type\":\"scatterpolar\"},{\"fill\":\"toself\",\"name\":\"2014\",\"r\":[63.0,56.0,49.0,39.0,39.0,35.0,32.0,30.0,30.0,29.0,28.0,26.0,26.0,25.0,21.0,21.0,20.0,18.0,18.0,16.0],\"theta\":[\"administrativ aufgabe\",\"hr consultant\",\"mensch behinderung\",\"\\u00f6ffentlich verwaltung\",\"organisation schule\",\"schulisch heilp\\u00e4dagogik\",\"sozial arbeit\",\"gesundheitswesen\",\"juristisch\",\"kinderbetreuung\",\"klassenlehrperson\",\"leiterin\",\"p\\u00e4dagogik\",\"p\\u00e4dagogisch\",\"pflege\",\"pflegen\",\"primarlehrperson\",\"primarstufe\",\"psychisch\",\"psychologie\",\"sachbearbeiterin\",\"sekundarstufe\",\"sozialarbeit\",\"sozialarbeiterin\",\"sozialberatung\",\"sozialhilfe\",\"sozialleistung\",\"sozialp\\u00e4dagogik\",\"sozialp\\u00e4dagogisch\",\"unterrichten\",\"unterrichtserfahrung\"],\"type\":\"scatterpolar\"}],                        {\"template\":{\"data\":{\"bar\":[{\"error_x\":{\"color\":\"#2a3f5f\"},\"error_y\":{\"color\":\"#2a3f5f\"},\"marker\":{\"line\":{\"color\":\"#E5ECF6\",\"width\":0.5},\"pattern\":{\"fillmode\":\"overlay\",\"size\":10,\"solidity\":0.2}},\"type\":\"bar\"}],\"barpolar\":[{\"marker\":{\"line\":{\"color\":\"#E5ECF6\",\"width\":0.5},\"pattern\":{\"fillmode\":\"overlay\",\"size\":10,\"solidity\":0.2}},\"type\":\"barpolar\"}],\"carpet\":[{\"aaxis\":{\"endlinecolor\":\"#2a3f5f\",\"gridcolor\":\"white\",\"linecolor\":\"white\",\"minorgridcolor\":\"white\",\"startlinecolor\":\"#2a3f5f\"},\"baxis\":{\"endlinecolor\":\"#2a3f5f\",\"gridcolor\":\"white\",\"linecolor\":\"white\",\"minorgridcolor\":\"white\",\"startlinecolor\":\"#2a3f5f\"},\"type\":\"carpet\"}],\"choropleth\":[{\"colorbar\":{\"outlinewidth\":0,\"ticks\":\"\"},\"type\":\"choropleth\"}],\"contour\":[{\"colorbar\":{\"outlinewidth\":0,\"ticks\":\"\"},\"colorscale\":[[0.0,\"#0d0887\"],[0.1111111111111111,\"#46039f\"],[0.2222222222222222,\"#7201a8\"],[0.3333333333333333,\"#9c179e\"],[0.4444444444444444,\"#bd3786\"],[0.5555555555555556,\"#d8576b\"],[0.6666666666666666,\"#ed7953\"],[0.7777777777777778,\"#fb9f3a\"],[0.8888888888888888,\"#fdca26\"],[1.0,\"#f0f921\"]],\"type\":\"contour\"}],\"contourcarpet\":[{\"colorbar\":{\"outlinewidth\":0,\"ticks\":\"\"},\"type\":\"contourcarpet\"}],\"heatmap\":[{\"colorbar\":{\"outlinewidth\":0,\"ticks\":\"\"},\"colorscale\":[[0.0,\"#0d0887\"],[0.1111111111111111,\"#46039f\"],[0.2222222222222222,\"#7201a8\"],[0.3333333333333333,\"#9c179e\"],[0.4444444444444444,\"#bd3786\"],[0.5555555555555556,\"#d8576b\"],[0.6666666666666666,\"#ed7953\"],[0.7777777777777778,\"#fb9f3a\"],[0.8888888888888888,\"#fdca26\"],[1.0,\"#f0f921\"]],\"type\":\"heatmap\"}],\"heatmapgl\":[{\"colorbar\":{\"outlinewidth\":0,\"ticks\":\"\"},\"colorscale\":[[0.0,\"#0d0887\"],[0.1111111111111111,\"#46039f\"],[0.2222222222222222,\"#7201a8\"],[0.3333333333333333,\"#9c179e\"],[0.4444444444444444,\"#bd3786\"],[0.5555555555555556,\"#d8576b\"],[0.6666666666666666,\"#ed7953\"],[0.7777777777777778,\"#fb9f3a\"],[0.8888888888888888,\"#fdca26\"],[1.0,\"#f0f921\"]],\"type\":\"heatmapgl\"}],\"histogram\":[{\"marker\":{\"pattern\":{\"fillmode\":\"overlay\",\"size\":10,\"solidity\":0.2}},\"type\":\"histogram\"}],\"histogram2d\":[{\"colorbar\":{\"outlinewidth\":0,\"ticks\":\"\"},\"colorscale\":[[0.0,\"#0d0887\"],[0.1111111111111111,\"#46039f\"],[0.2222222222222222,\"#7201a8\"],[0.3333333333333333,\"#9c179e\"],[0.4444444444444444,\"#bd3786\"],[0.5555555555555556,\"#d8576b\"],[0.6666666666666666,\"#ed7953\"],[0.7777777777777778,\"#fb9f3a\"],[0.8888888888888888,\"#fdca26\"],[1.0,\"#f0f921\"]],\"type\":\"histogram2d\"}],\"histogram2dcontour\":[{\"colorbar\":{\"outlinewidth\":0,\"ticks\":\"\"},\"colorscale\":[[0.0,\"#0d0887\"],[0.1111111111111111,\"#46039f\"],[0.2222222222222222,\"#7201a8\"],[0.3333333333333333,\"#9c179e\"],[0.4444444444444444,\"#bd3786\"],[0.5555555555555556,\"#d8576b\"],[0.6666666666666666,\"#ed7953\"],[0.7777777777777778,\"#fb9f3a\"],[0.8888888888888888,\"#fdca26\"],[1.0,\"#f0f921\"]],\"type\":\"histogram2dcontour\"}],\"mesh3d\":[{\"colorbar\":{\"outlinewidth\":0,\"ticks\":\"\"},\"type\":\"mesh3d\"}],\"parcoords\":[{\"line\":{\"colorbar\":{\"outlinewidth\":0,\"ticks\":\"\"}},\"type\":\"parcoords\"}],\"pie\":[{\"automargin\":true,\"type\":\"pie\"}],\"scatter\":[{\"marker\":{\"colorbar\":{\"outlinewidth\":0,\"ticks\":\"\"}},\"type\":\"scatter\"}],\"scatter3d\":[{\"line\":{\"colorbar\":{\"outlinewidth\":0,\"ticks\":\"\"}},\"marker\":{\"colorbar\":{\"outlinewidth\":0,\"ticks\":\"\"}},\"type\":\"scatter3d\"}],\"scattercarpet\":[{\"marker\":{\"colorbar\":{\"outlinewidth\":0,\"ticks\":\"\"}},\"type\":\"scattercarpet\"}],\"scattergeo\":[{\"marker\":{\"colorbar\":{\"outlinewidth\":0,\"ticks\":\"\"}},\"type\":\"scattergeo\"}],\"scattergl\":[{\"marker\":{\"colorbar\":{\"outlinewidth\":0,\"ticks\":\"\"}},\"type\":\"scattergl\"}],\"scattermapbox\":[{\"marker\":{\"colorbar\":{\"outlinewidth\":0,\"ticks\":\"\"}},\"type\":\"scattermapbox\"}],\"scatterpolar\":[{\"marker\":{\"colorbar\":{\"outlinewidth\":0,\"ticks\":\"\"}},\"type\":\"scatterpolar\"}],\"scatterpolargl\":[{\"marker\":{\"colorbar\":{\"outlinewidth\":0,\"ticks\":\"\"}},\"type\":\"scatterpolargl\"}],\"scatterternary\":[{\"marker\":{\"colorbar\":{\"outlinewidth\":0,\"ticks\":\"\"}},\"type\":\"scatterternary\"}],\"surface\":[{\"colorbar\":{\"outlinewidth\":0,\"ticks\":\"\"},\"colorscale\":[[0.0,\"#0d0887\"],[0.1111111111111111,\"#46039f\"],[0.2222222222222222,\"#7201a8\"],[0.3333333333333333,\"#9c179e\"],[0.4444444444444444,\"#bd3786\"],[0.5555555555555556,\"#d8576b\"],[0.6666666666666666,\"#ed7953\"],[0.7777777777777778,\"#fb9f3a\"],[0.8888888888888888,\"#fdca26\"],[1.0,\"#f0f921\"]],\"type\":\"surface\"}],\"table\":[{\"cells\":{\"fill\":{\"color\":\"#EBF0F8\"},\"line\":{\"color\":\"white\"}},\"header\":{\"fill\":{\"color\":\"#C8D4E3\"},\"line\":{\"color\":\"white\"}},\"type\":\"table\"}]},\"layout\":{\"annotationdefaults\":{\"arrowcolor\":\"#2a3f5f\",\"arrowhead\":0,\"arrowwidth\":1},\"autotypenumbers\":\"strict\",\"coloraxis\":{\"colorbar\":{\"outlinewidth\":0,\"ticks\":\"\"}},\"colorscale\":{\"diverging\":[[0,\"#8e0152\"],[0.1,\"#c51b7d\"],[0.2,\"#de77ae\"],[0.3,\"#f1b6da\"],[0.4,\"#fde0ef\"],[0.5,\"#f7f7f7\"],[0.6,\"#e6f5d0\"],[0.7,\"#b8e186\"],[0.8,\"#7fbc41\"],[0.9,\"#4d9221\"],[1,\"#276419\"]],\"sequential\":[[0.0,\"#0d0887\"],[0.1111111111111111,\"#46039f\"],[0.2222222222222222,\"#7201a8\"],[0.3333333333333333,\"#9c179e\"],[0.4444444444444444,\"#bd3786\"],[0.5555555555555556,\"#d8576b\"],[0.6666666666666666,\"#ed7953\"],[0.7777777777777778,\"#fb9f3a\"],[0.8888888888888888,\"#fdca26\"],[1.0,\"#f0f921\"]],\"sequentialminus\":[[0.0,\"#0d0887\"],[0.1111111111111111,\"#46039f\"],[0.2222222222222222,\"#7201a8\"],[0.3333333333333333,\"#9c179e\"],[0.4444444444444444,\"#bd3786\"],[0.5555555555555556,\"#d8576b\"],[0.6666666666666666,\"#ed7953\"],[0.7777777777777778,\"#fb9f3a\"],[0.8888888888888888,\"#fdca26\"],[1.0,\"#f0f921\"]]},\"colorway\":[\"#636efa\",\"#EF553B\",\"#00cc96\",\"#ab63fa\",\"#FFA15A\",\"#19d3f3\",\"#FF6692\",\"#B6E880\",\"#FF97FF\",\"#FECB52\"],\"font\":{\"color\":\"#2a3f5f\"},\"geo\":{\"bgcolor\":\"white\",\"lakecolor\":\"white\",\"landcolor\":\"#E5ECF6\",\"showlakes\":true,\"showland\":true,\"subunitcolor\":\"white\"},\"hoverlabel\":{\"align\":\"left\"},\"hovermode\":\"closest\",\"mapbox\":{\"style\":\"light\"},\"paper_bgcolor\":\"white\",\"plot_bgcolor\":\"#E5ECF6\",\"polar\":{\"angularaxis\":{\"gridcolor\":\"white\",\"linecolor\":\"white\",\"ticks\":\"\"},\"bgcolor\":\"#E5ECF6\",\"radialaxis\":{\"gridcolor\":\"white\",\"linecolor\":\"white\",\"ticks\":\"\"}},\"scene\":{\"xaxis\":{\"backgroundcolor\":\"#E5ECF6\",\"gridcolor\":\"white\",\"gridwidth\":2,\"linecolor\":\"white\",\"showbackground\":true,\"ticks\":\"\",\"zerolinecolor\":\"white\"},\"yaxis\":{\"backgroundcolor\":\"#E5ECF6\",\"gridcolor\":\"white\",\"gridwidth\":2,\"linecolor\":\"white\",\"showbackground\":true,\"ticks\":\"\",\"zerolinecolor\":\"white\"},\"zaxis\":{\"backgroundcolor\":\"#E5ECF6\",\"gridcolor\":\"white\",\"gridwidth\":2,\"linecolor\":\"white\",\"showbackground\":true,\"ticks\":\"\",\"zerolinecolor\":\"white\"}},\"shapedefaults\":{\"line\":{\"color\":\"#2a3f5f\"}},\"ternary\":{\"aaxis\":{\"gridcolor\":\"white\",\"linecolor\":\"white\",\"ticks\":\"\"},\"baxis\":{\"gridcolor\":\"white\",\"linecolor\":\"white\",\"ticks\":\"\"},\"bgcolor\":\"#E5ECF6\",\"caxis\":{\"gridcolor\":\"white\",\"linecolor\":\"white\",\"ticks\":\"\"}},\"title\":{\"x\":0.05},\"xaxis\":{\"automargin\":true,\"gridcolor\":\"white\",\"linecolor\":\"white\",\"ticks\":\"\",\"title\":{\"standoff\":15},\"zerolinecolor\":\"white\",\"zerolinewidth\":2},\"yaxis\":{\"automargin\":true,\"gridcolor\":\"white\",\"linecolor\":\"white\",\"ticks\":\"\",\"title\":{\"standoff\":15},\"zerolinecolor\":\"white\",\"zerolinewidth\":2}}},\"polar\":{\"radialaxis\":{\"visible\":true,\"range\":[0,83.2]}},\"legend\":{\"y\":0.99,\"x\":0.7},\"showlegend\":true},                        {\"responsive\": true}                    ).then(function(){\n",
       "                            \n",
       "var gd = document.getElementById('d0dabeec-01f7-4236-b967-d0d8239df66c');\n",
       "var x = new MutationObserver(function (mutations, observer) {{\n",
       "        var display = window.getComputedStyle(gd).display;\n",
       "        if (!display || display === 'none') {{\n",
       "            console.log([gd, 'removed!']);\n",
       "            Plotly.purge(gd);\n",
       "            observer.disconnect();\n",
       "        }}\n",
       "}});\n",
       "\n",
       "// Listen for the removal of the full notebook cells\n",
       "var notebookContainer = gd.closest('#notebook-container');\n",
       "if (notebookContainer) {{\n",
       "    x.observe(notebookContainer, {childList: true});\n",
       "}}\n",
       "\n",
       "// Listen for the clearing of the current output cell\n",
       "var outputEl = gd.closest('.output');\n",
       "if (outputEl) {{\n",
       "    x.observe(outputEl, {childList: true});\n",
       "}}\n",
       "\n",
       "                        })                };                });            </script>        </div>"
      ]
     },
     "metadata": {},
     "output_type": "display_data"
    }
   ],
   "source": [
    "# Abbildung 18 (in Bachelorarbeit)\n",
    "# Verteilung der größten Anforderungen in der Kategorie\n",
    "\n",
    "df = anforderungen.query('kategorie == '+str(Kategorie))\n",
    "categories=list(df['word'])\n",
    "fig = go.Figure()\n",
    "\n",
    "a = int(df['2021'].nlargest(n=1))\n",
    "b = int(df['2014'].nlargest(n=1))\n",
    "\n",
    "if a >= b:\n",
    "    maximum = a\n",
    "else:\n",
    "    maximum = b\n",
    "\n",
    "fig.add_trace(go.Scatterpolar(r= df['2021'].nlargest(n=20).values.flatten().tolist(),      theta=categories,      fill='toself',\n",
    "      name='2021'))\n",
    "\n",
    "fig.add_trace(go.Scatterpolar(r= df['2014'].nlargest(n=20).values.flatten().tolist(),      theta=categories,      fill='toself',\n",
    "      name='2014'))\n",
    "\n",
    "fig.update_layout(\n",
    "  polar=dict(\n",
    "    radialaxis=dict(\n",
    "      visible=True,\n",
    "      range=[0, maximum+(maximum*0.3)]\n",
    "    )),\n",
    "  showlegend=True,\n",
    "  legend=dict(\n",
    "    y=0.99,\n",
    "    x=0.7))\n",
    "fig.show()"
   ]
  },
  {
   "cell_type": "code",
   "execution_count": 25,
   "id": "28837439",
   "metadata": {},
   "outputs": [
    {
     "data": {
      "application/vnd.plotly.v1+json": {
       "config": {
        "plotlyServerURL": "https://plot.ly"
       },
       "data": [
        {
         "fill": "toself",
         "name": "2021",
         "r": [
          13,
          8,
          24,
          1
         ],
         "theta": [
          "human resources",
          "abteilungsleiter",
          "direktion",
          "pharma"
         ],
         "type": "scatterpolar"
        },
        {
         "fill": "toself",
         "name": "2014",
         "r": [
          28,
          19,
          10,
          2
         ],
         "theta": [
          "human resources",
          "abteilungsleiter",
          "direktion",
          "pharma"
         ],
         "type": "scatterpolar"
        }
       ],
       "layout": {
        "legend": {
         "x": 0.8,
         "y": 0.99
        },
        "polar": {
         "radialaxis": {
          "range": [
           0,
           36.4
          ],
          "visible": true
         }
        },
        "showlegend": true,
        "template": {
         "data": {
          "bar": [
           {
            "error_x": {
             "color": "#2a3f5f"
            },
            "error_y": {
             "color": "#2a3f5f"
            },
            "marker": {
             "line": {
              "color": "#E5ECF6",
              "width": 0.5
             },
             "pattern": {
              "fillmode": "overlay",
              "size": 10,
              "solidity": 0.2
             }
            },
            "type": "bar"
           }
          ],
          "barpolar": [
           {
            "marker": {
             "line": {
              "color": "#E5ECF6",
              "width": 0.5
             },
             "pattern": {
              "fillmode": "overlay",
              "size": 10,
              "solidity": 0.2
             }
            },
            "type": "barpolar"
           }
          ],
          "carpet": [
           {
            "aaxis": {
             "endlinecolor": "#2a3f5f",
             "gridcolor": "white",
             "linecolor": "white",
             "minorgridcolor": "white",
             "startlinecolor": "#2a3f5f"
            },
            "baxis": {
             "endlinecolor": "#2a3f5f",
             "gridcolor": "white",
             "linecolor": "white",
             "minorgridcolor": "white",
             "startlinecolor": "#2a3f5f"
            },
            "type": "carpet"
           }
          ],
          "choropleth": [
           {
            "colorbar": {
             "outlinewidth": 0,
             "ticks": ""
            },
            "type": "choropleth"
           }
          ],
          "contour": [
           {
            "colorbar": {
             "outlinewidth": 0,
             "ticks": ""
            },
            "colorscale": [
             [
              0,
              "#0d0887"
             ],
             [
              0.1111111111111111,
              "#46039f"
             ],
             [
              0.2222222222222222,
              "#7201a8"
             ],
             [
              0.3333333333333333,
              "#9c179e"
             ],
             [
              0.4444444444444444,
              "#bd3786"
             ],
             [
              0.5555555555555556,
              "#d8576b"
             ],
             [
              0.6666666666666666,
              "#ed7953"
             ],
             [
              0.7777777777777778,
              "#fb9f3a"
             ],
             [
              0.8888888888888888,
              "#fdca26"
             ],
             [
              1,
              "#f0f921"
             ]
            ],
            "type": "contour"
           }
          ],
          "contourcarpet": [
           {
            "colorbar": {
             "outlinewidth": 0,
             "ticks": ""
            },
            "type": "contourcarpet"
           }
          ],
          "heatmap": [
           {
            "colorbar": {
             "outlinewidth": 0,
             "ticks": ""
            },
            "colorscale": [
             [
              0,
              "#0d0887"
             ],
             [
              0.1111111111111111,
              "#46039f"
             ],
             [
              0.2222222222222222,
              "#7201a8"
             ],
             [
              0.3333333333333333,
              "#9c179e"
             ],
             [
              0.4444444444444444,
              "#bd3786"
             ],
             [
              0.5555555555555556,
              "#d8576b"
             ],
             [
              0.6666666666666666,
              "#ed7953"
             ],
             [
              0.7777777777777778,
              "#fb9f3a"
             ],
             [
              0.8888888888888888,
              "#fdca26"
             ],
             [
              1,
              "#f0f921"
             ]
            ],
            "type": "heatmap"
           }
          ],
          "heatmapgl": [
           {
            "colorbar": {
             "outlinewidth": 0,
             "ticks": ""
            },
            "colorscale": [
             [
              0,
              "#0d0887"
             ],
             [
              0.1111111111111111,
              "#46039f"
             ],
             [
              0.2222222222222222,
              "#7201a8"
             ],
             [
              0.3333333333333333,
              "#9c179e"
             ],
             [
              0.4444444444444444,
              "#bd3786"
             ],
             [
              0.5555555555555556,
              "#d8576b"
             ],
             [
              0.6666666666666666,
              "#ed7953"
             ],
             [
              0.7777777777777778,
              "#fb9f3a"
             ],
             [
              0.8888888888888888,
              "#fdca26"
             ],
             [
              1,
              "#f0f921"
             ]
            ],
            "type": "heatmapgl"
           }
          ],
          "histogram": [
           {
            "marker": {
             "pattern": {
              "fillmode": "overlay",
              "size": 10,
              "solidity": 0.2
             }
            },
            "type": "histogram"
           }
          ],
          "histogram2d": [
           {
            "colorbar": {
             "outlinewidth": 0,
             "ticks": ""
            },
            "colorscale": [
             [
              0,
              "#0d0887"
             ],
             [
              0.1111111111111111,
              "#46039f"
             ],
             [
              0.2222222222222222,
              "#7201a8"
             ],
             [
              0.3333333333333333,
              "#9c179e"
             ],
             [
              0.4444444444444444,
              "#bd3786"
             ],
             [
              0.5555555555555556,
              "#d8576b"
             ],
             [
              0.6666666666666666,
              "#ed7953"
             ],
             [
              0.7777777777777778,
              "#fb9f3a"
             ],
             [
              0.8888888888888888,
              "#fdca26"
             ],
             [
              1,
              "#f0f921"
             ]
            ],
            "type": "histogram2d"
           }
          ],
          "histogram2dcontour": [
           {
            "colorbar": {
             "outlinewidth": 0,
             "ticks": ""
            },
            "colorscale": [
             [
              0,
              "#0d0887"
             ],
             [
              0.1111111111111111,
              "#46039f"
             ],
             [
              0.2222222222222222,
              "#7201a8"
             ],
             [
              0.3333333333333333,
              "#9c179e"
             ],
             [
              0.4444444444444444,
              "#bd3786"
             ],
             [
              0.5555555555555556,
              "#d8576b"
             ],
             [
              0.6666666666666666,
              "#ed7953"
             ],
             [
              0.7777777777777778,
              "#fb9f3a"
             ],
             [
              0.8888888888888888,
              "#fdca26"
             ],
             [
              1,
              "#f0f921"
             ]
            ],
            "type": "histogram2dcontour"
           }
          ],
          "mesh3d": [
           {
            "colorbar": {
             "outlinewidth": 0,
             "ticks": ""
            },
            "type": "mesh3d"
           }
          ],
          "parcoords": [
           {
            "line": {
             "colorbar": {
              "outlinewidth": 0,
              "ticks": ""
             }
            },
            "type": "parcoords"
           }
          ],
          "pie": [
           {
            "automargin": true,
            "type": "pie"
           }
          ],
          "scatter": [
           {
            "marker": {
             "colorbar": {
              "outlinewidth": 0,
              "ticks": ""
             }
            },
            "type": "scatter"
           }
          ],
          "scatter3d": [
           {
            "line": {
             "colorbar": {
              "outlinewidth": 0,
              "ticks": ""
             }
            },
            "marker": {
             "colorbar": {
              "outlinewidth": 0,
              "ticks": ""
             }
            },
            "type": "scatter3d"
           }
          ],
          "scattercarpet": [
           {
            "marker": {
             "colorbar": {
              "outlinewidth": 0,
              "ticks": ""
             }
            },
            "type": "scattercarpet"
           }
          ],
          "scattergeo": [
           {
            "marker": {
             "colorbar": {
              "outlinewidth": 0,
              "ticks": ""
             }
            },
            "type": "scattergeo"
           }
          ],
          "scattergl": [
           {
            "marker": {
             "colorbar": {
              "outlinewidth": 0,
              "ticks": ""
             }
            },
            "type": "scattergl"
           }
          ],
          "scattermapbox": [
           {
            "marker": {
             "colorbar": {
              "outlinewidth": 0,
              "ticks": ""
             }
            },
            "type": "scattermapbox"
           }
          ],
          "scatterpolar": [
           {
            "marker": {
             "colorbar": {
              "outlinewidth": 0,
              "ticks": ""
             }
            },
            "type": "scatterpolar"
           }
          ],
          "scatterpolargl": [
           {
            "marker": {
             "colorbar": {
              "outlinewidth": 0,
              "ticks": ""
             }
            },
            "type": "scatterpolargl"
           }
          ],
          "scatterternary": [
           {
            "marker": {
             "colorbar": {
              "outlinewidth": 0,
              "ticks": ""
             }
            },
            "type": "scatterternary"
           }
          ],
          "surface": [
           {
            "colorbar": {
             "outlinewidth": 0,
             "ticks": ""
            },
            "colorscale": [
             [
              0,
              "#0d0887"
             ],
             [
              0.1111111111111111,
              "#46039f"
             ],
             [
              0.2222222222222222,
              "#7201a8"
             ],
             [
              0.3333333333333333,
              "#9c179e"
             ],
             [
              0.4444444444444444,
              "#bd3786"
             ],
             [
              0.5555555555555556,
              "#d8576b"
             ],
             [
              0.6666666666666666,
              "#ed7953"
             ],
             [
              0.7777777777777778,
              "#fb9f3a"
             ],
             [
              0.8888888888888888,
              "#fdca26"
             ],
             [
              1,
              "#f0f921"
             ]
            ],
            "type": "surface"
           }
          ],
          "table": [
           {
            "cells": {
             "fill": {
              "color": "#EBF0F8"
             },
             "line": {
              "color": "white"
             }
            },
            "header": {
             "fill": {
              "color": "#C8D4E3"
             },
             "line": {
              "color": "white"
             }
            },
            "type": "table"
           }
          ]
         },
         "layout": {
          "annotationdefaults": {
           "arrowcolor": "#2a3f5f",
           "arrowhead": 0,
           "arrowwidth": 1
          },
          "autotypenumbers": "strict",
          "coloraxis": {
           "colorbar": {
            "outlinewidth": 0,
            "ticks": ""
           }
          },
          "colorscale": {
           "diverging": [
            [
             0,
             "#8e0152"
            ],
            [
             0.1,
             "#c51b7d"
            ],
            [
             0.2,
             "#de77ae"
            ],
            [
             0.3,
             "#f1b6da"
            ],
            [
             0.4,
             "#fde0ef"
            ],
            [
             0.5,
             "#f7f7f7"
            ],
            [
             0.6,
             "#e6f5d0"
            ],
            [
             0.7,
             "#b8e186"
            ],
            [
             0.8,
             "#7fbc41"
            ],
            [
             0.9,
             "#4d9221"
            ],
            [
             1,
             "#276419"
            ]
           ],
           "sequential": [
            [
             0,
             "#0d0887"
            ],
            [
             0.1111111111111111,
             "#46039f"
            ],
            [
             0.2222222222222222,
             "#7201a8"
            ],
            [
             0.3333333333333333,
             "#9c179e"
            ],
            [
             0.4444444444444444,
             "#bd3786"
            ],
            [
             0.5555555555555556,
             "#d8576b"
            ],
            [
             0.6666666666666666,
             "#ed7953"
            ],
            [
             0.7777777777777778,
             "#fb9f3a"
            ],
            [
             0.8888888888888888,
             "#fdca26"
            ],
            [
             1,
             "#f0f921"
            ]
           ],
           "sequentialminus": [
            [
             0,
             "#0d0887"
            ],
            [
             0.1111111111111111,
             "#46039f"
            ],
            [
             0.2222222222222222,
             "#7201a8"
            ],
            [
             0.3333333333333333,
             "#9c179e"
            ],
            [
             0.4444444444444444,
             "#bd3786"
            ],
            [
             0.5555555555555556,
             "#d8576b"
            ],
            [
             0.6666666666666666,
             "#ed7953"
            ],
            [
             0.7777777777777778,
             "#fb9f3a"
            ],
            [
             0.8888888888888888,
             "#fdca26"
            ],
            [
             1,
             "#f0f921"
            ]
           ]
          },
          "colorway": [
           "#636efa",
           "#EF553B",
           "#00cc96",
           "#ab63fa",
           "#FFA15A",
           "#19d3f3",
           "#FF6692",
           "#B6E880",
           "#FF97FF",
           "#FECB52"
          ],
          "font": {
           "color": "#2a3f5f"
          },
          "geo": {
           "bgcolor": "white",
           "lakecolor": "white",
           "landcolor": "#E5ECF6",
           "showlakes": true,
           "showland": true,
           "subunitcolor": "white"
          },
          "hoverlabel": {
           "align": "left"
          },
          "hovermode": "closest",
          "mapbox": {
           "style": "light"
          },
          "paper_bgcolor": "white",
          "plot_bgcolor": "#E5ECF6",
          "polar": {
           "angularaxis": {
            "gridcolor": "white",
            "linecolor": "white",
            "ticks": ""
           },
           "bgcolor": "#E5ECF6",
           "radialaxis": {
            "gridcolor": "white",
            "linecolor": "white",
            "ticks": ""
           }
          },
          "scene": {
           "xaxis": {
            "backgroundcolor": "#E5ECF6",
            "gridcolor": "white",
            "gridwidth": 2,
            "linecolor": "white",
            "showbackground": true,
            "ticks": "",
            "zerolinecolor": "white"
           },
           "yaxis": {
            "backgroundcolor": "#E5ECF6",
            "gridcolor": "white",
            "gridwidth": 2,
            "linecolor": "white",
            "showbackground": true,
            "ticks": "",
            "zerolinecolor": "white"
           },
           "zaxis": {
            "backgroundcolor": "#E5ECF6",
            "gridcolor": "white",
            "gridwidth": 2,
            "linecolor": "white",
            "showbackground": true,
            "ticks": "",
            "zerolinecolor": "white"
           }
          },
          "shapedefaults": {
           "line": {
            "color": "#2a3f5f"
           }
          },
          "ternary": {
           "aaxis": {
            "gridcolor": "white",
            "linecolor": "white",
            "ticks": ""
           },
           "baxis": {
            "gridcolor": "white",
            "linecolor": "white",
            "ticks": ""
           },
           "bgcolor": "#E5ECF6",
           "caxis": {
            "gridcolor": "white",
            "linecolor": "white",
            "ticks": ""
           }
          },
          "title": {
           "x": 0.05
          },
          "xaxis": {
           "automargin": true,
           "gridcolor": "white",
           "linecolor": "white",
           "ticks": "",
           "title": {
            "standoff": 15
           },
           "zerolinecolor": "white",
           "zerolinewidth": 2
          },
          "yaxis": {
           "automargin": true,
           "gridcolor": "white",
           "linecolor": "white",
           "ticks": "",
           "title": {
            "standoff": 15
           },
           "zerolinecolor": "white",
           "zerolinewidth": 2
          }
         }
        }
       }
      },
      "text/html": [
       "<div>                            <div id=\"a634f4b8-74a5-485f-aec8-275fe9b0ba61\" class=\"plotly-graph-div\" style=\"height:525px; width:100%;\"></div>            <script type=\"text/javascript\">                require([\"plotly\"], function(Plotly) {                    window.PLOTLYENV=window.PLOTLYENV || {};                                    if (document.getElementById(\"a634f4b8-74a5-485f-aec8-275fe9b0ba61\")) {                    Plotly.newPlot(                        \"a634f4b8-74a5-485f-aec8-275fe9b0ba61\",                        [{\"fill\":\"toself\",\"name\":\"2021\",\"r\":[13.0,8.0,24.0,1.0],\"theta\":[\"human resources\",\"abteilungsleiter\",\"direktion\",\"pharma\"],\"type\":\"scatterpolar\"},{\"fill\":\"toself\",\"name\":\"2014\",\"r\":[28.0,19.0,10.0,2.0],\"theta\":[\"human resources\",\"abteilungsleiter\",\"direktion\",\"pharma\"],\"type\":\"scatterpolar\"}],                        {\"template\":{\"data\":{\"bar\":[{\"error_x\":{\"color\":\"#2a3f5f\"},\"error_y\":{\"color\":\"#2a3f5f\"},\"marker\":{\"line\":{\"color\":\"#E5ECF6\",\"width\":0.5},\"pattern\":{\"fillmode\":\"overlay\",\"size\":10,\"solidity\":0.2}},\"type\":\"bar\"}],\"barpolar\":[{\"marker\":{\"line\":{\"color\":\"#E5ECF6\",\"width\":0.5},\"pattern\":{\"fillmode\":\"overlay\",\"size\":10,\"solidity\":0.2}},\"type\":\"barpolar\"}],\"carpet\":[{\"aaxis\":{\"endlinecolor\":\"#2a3f5f\",\"gridcolor\":\"white\",\"linecolor\":\"white\",\"minorgridcolor\":\"white\",\"startlinecolor\":\"#2a3f5f\"},\"baxis\":{\"endlinecolor\":\"#2a3f5f\",\"gridcolor\":\"white\",\"linecolor\":\"white\",\"minorgridcolor\":\"white\",\"startlinecolor\":\"#2a3f5f\"},\"type\":\"carpet\"}],\"choropleth\":[{\"colorbar\":{\"outlinewidth\":0,\"ticks\":\"\"},\"type\":\"choropleth\"}],\"contour\":[{\"colorbar\":{\"outlinewidth\":0,\"ticks\":\"\"},\"colorscale\":[[0.0,\"#0d0887\"],[0.1111111111111111,\"#46039f\"],[0.2222222222222222,\"#7201a8\"],[0.3333333333333333,\"#9c179e\"],[0.4444444444444444,\"#bd3786\"],[0.5555555555555556,\"#d8576b\"],[0.6666666666666666,\"#ed7953\"],[0.7777777777777778,\"#fb9f3a\"],[0.8888888888888888,\"#fdca26\"],[1.0,\"#f0f921\"]],\"type\":\"contour\"}],\"contourcarpet\":[{\"colorbar\":{\"outlinewidth\":0,\"ticks\":\"\"},\"type\":\"contourcarpet\"}],\"heatmap\":[{\"colorbar\":{\"outlinewidth\":0,\"ticks\":\"\"},\"colorscale\":[[0.0,\"#0d0887\"],[0.1111111111111111,\"#46039f\"],[0.2222222222222222,\"#7201a8\"],[0.3333333333333333,\"#9c179e\"],[0.4444444444444444,\"#bd3786\"],[0.5555555555555556,\"#d8576b\"],[0.6666666666666666,\"#ed7953\"],[0.7777777777777778,\"#fb9f3a\"],[0.8888888888888888,\"#fdca26\"],[1.0,\"#f0f921\"]],\"type\":\"heatmap\"}],\"heatmapgl\":[{\"colorbar\":{\"outlinewidth\":0,\"ticks\":\"\"},\"colorscale\":[[0.0,\"#0d0887\"],[0.1111111111111111,\"#46039f\"],[0.2222222222222222,\"#7201a8\"],[0.3333333333333333,\"#9c179e\"],[0.4444444444444444,\"#bd3786\"],[0.5555555555555556,\"#d8576b\"],[0.6666666666666666,\"#ed7953\"],[0.7777777777777778,\"#fb9f3a\"],[0.8888888888888888,\"#fdca26\"],[1.0,\"#f0f921\"]],\"type\":\"heatmapgl\"}],\"histogram\":[{\"marker\":{\"pattern\":{\"fillmode\":\"overlay\",\"size\":10,\"solidity\":0.2}},\"type\":\"histogram\"}],\"histogram2d\":[{\"colorbar\":{\"outlinewidth\":0,\"ticks\":\"\"},\"colorscale\":[[0.0,\"#0d0887\"],[0.1111111111111111,\"#46039f\"],[0.2222222222222222,\"#7201a8\"],[0.3333333333333333,\"#9c179e\"],[0.4444444444444444,\"#bd3786\"],[0.5555555555555556,\"#d8576b\"],[0.6666666666666666,\"#ed7953\"],[0.7777777777777778,\"#fb9f3a\"],[0.8888888888888888,\"#fdca26\"],[1.0,\"#f0f921\"]],\"type\":\"histogram2d\"}],\"histogram2dcontour\":[{\"colorbar\":{\"outlinewidth\":0,\"ticks\":\"\"},\"colorscale\":[[0.0,\"#0d0887\"],[0.1111111111111111,\"#46039f\"],[0.2222222222222222,\"#7201a8\"],[0.3333333333333333,\"#9c179e\"],[0.4444444444444444,\"#bd3786\"],[0.5555555555555556,\"#d8576b\"],[0.6666666666666666,\"#ed7953\"],[0.7777777777777778,\"#fb9f3a\"],[0.8888888888888888,\"#fdca26\"],[1.0,\"#f0f921\"]],\"type\":\"histogram2dcontour\"}],\"mesh3d\":[{\"colorbar\":{\"outlinewidth\":0,\"ticks\":\"\"},\"type\":\"mesh3d\"}],\"parcoords\":[{\"line\":{\"colorbar\":{\"outlinewidth\":0,\"ticks\":\"\"}},\"type\":\"parcoords\"}],\"pie\":[{\"automargin\":true,\"type\":\"pie\"}],\"scatter\":[{\"marker\":{\"colorbar\":{\"outlinewidth\":0,\"ticks\":\"\"}},\"type\":\"scatter\"}],\"scatter3d\":[{\"line\":{\"colorbar\":{\"outlinewidth\":0,\"ticks\":\"\"}},\"marker\":{\"colorbar\":{\"outlinewidth\":0,\"ticks\":\"\"}},\"type\":\"scatter3d\"}],\"scattercarpet\":[{\"marker\":{\"colorbar\":{\"outlinewidth\":0,\"ticks\":\"\"}},\"type\":\"scattercarpet\"}],\"scattergeo\":[{\"marker\":{\"colorbar\":{\"outlinewidth\":0,\"ticks\":\"\"}},\"type\":\"scattergeo\"}],\"scattergl\":[{\"marker\":{\"colorbar\":{\"outlinewidth\":0,\"ticks\":\"\"}},\"type\":\"scattergl\"}],\"scattermapbox\":[{\"marker\":{\"colorbar\":{\"outlinewidth\":0,\"ticks\":\"\"}},\"type\":\"scattermapbox\"}],\"scatterpolar\":[{\"marker\":{\"colorbar\":{\"outlinewidth\":0,\"ticks\":\"\"}},\"type\":\"scatterpolar\"}],\"scatterpolargl\":[{\"marker\":{\"colorbar\":{\"outlinewidth\":0,\"ticks\":\"\"}},\"type\":\"scatterpolargl\"}],\"scatterternary\":[{\"marker\":{\"colorbar\":{\"outlinewidth\":0,\"ticks\":\"\"}},\"type\":\"scatterternary\"}],\"surface\":[{\"colorbar\":{\"outlinewidth\":0,\"ticks\":\"\"},\"colorscale\":[[0.0,\"#0d0887\"],[0.1111111111111111,\"#46039f\"],[0.2222222222222222,\"#7201a8\"],[0.3333333333333333,\"#9c179e\"],[0.4444444444444444,\"#bd3786\"],[0.5555555555555556,\"#d8576b\"],[0.6666666666666666,\"#ed7953\"],[0.7777777777777778,\"#fb9f3a\"],[0.8888888888888888,\"#fdca26\"],[1.0,\"#f0f921\"]],\"type\":\"surface\"}],\"table\":[{\"cells\":{\"fill\":{\"color\":\"#EBF0F8\"},\"line\":{\"color\":\"white\"}},\"header\":{\"fill\":{\"color\":\"#C8D4E3\"},\"line\":{\"color\":\"white\"}},\"type\":\"table\"}]},\"layout\":{\"annotationdefaults\":{\"arrowcolor\":\"#2a3f5f\",\"arrowhead\":0,\"arrowwidth\":1},\"autotypenumbers\":\"strict\",\"coloraxis\":{\"colorbar\":{\"outlinewidth\":0,\"ticks\":\"\"}},\"colorscale\":{\"diverging\":[[0,\"#8e0152\"],[0.1,\"#c51b7d\"],[0.2,\"#de77ae\"],[0.3,\"#f1b6da\"],[0.4,\"#fde0ef\"],[0.5,\"#f7f7f7\"],[0.6,\"#e6f5d0\"],[0.7,\"#b8e186\"],[0.8,\"#7fbc41\"],[0.9,\"#4d9221\"],[1,\"#276419\"]],\"sequential\":[[0.0,\"#0d0887\"],[0.1111111111111111,\"#46039f\"],[0.2222222222222222,\"#7201a8\"],[0.3333333333333333,\"#9c179e\"],[0.4444444444444444,\"#bd3786\"],[0.5555555555555556,\"#d8576b\"],[0.6666666666666666,\"#ed7953\"],[0.7777777777777778,\"#fb9f3a\"],[0.8888888888888888,\"#fdca26\"],[1.0,\"#f0f921\"]],\"sequentialminus\":[[0.0,\"#0d0887\"],[0.1111111111111111,\"#46039f\"],[0.2222222222222222,\"#7201a8\"],[0.3333333333333333,\"#9c179e\"],[0.4444444444444444,\"#bd3786\"],[0.5555555555555556,\"#d8576b\"],[0.6666666666666666,\"#ed7953\"],[0.7777777777777778,\"#fb9f3a\"],[0.8888888888888888,\"#fdca26\"],[1.0,\"#f0f921\"]]},\"colorway\":[\"#636efa\",\"#EF553B\",\"#00cc96\",\"#ab63fa\",\"#FFA15A\",\"#19d3f3\",\"#FF6692\",\"#B6E880\",\"#FF97FF\",\"#FECB52\"],\"font\":{\"color\":\"#2a3f5f\"},\"geo\":{\"bgcolor\":\"white\",\"lakecolor\":\"white\",\"landcolor\":\"#E5ECF6\",\"showlakes\":true,\"showland\":true,\"subunitcolor\":\"white\"},\"hoverlabel\":{\"align\":\"left\"},\"hovermode\":\"closest\",\"mapbox\":{\"style\":\"light\"},\"paper_bgcolor\":\"white\",\"plot_bgcolor\":\"#E5ECF6\",\"polar\":{\"angularaxis\":{\"gridcolor\":\"white\",\"linecolor\":\"white\",\"ticks\":\"\"},\"bgcolor\":\"#E5ECF6\",\"radialaxis\":{\"gridcolor\":\"white\",\"linecolor\":\"white\",\"ticks\":\"\"}},\"scene\":{\"xaxis\":{\"backgroundcolor\":\"#E5ECF6\",\"gridcolor\":\"white\",\"gridwidth\":2,\"linecolor\":\"white\",\"showbackground\":true,\"ticks\":\"\",\"zerolinecolor\":\"white\"},\"yaxis\":{\"backgroundcolor\":\"#E5ECF6\",\"gridcolor\":\"white\",\"gridwidth\":2,\"linecolor\":\"white\",\"showbackground\":true,\"ticks\":\"\",\"zerolinecolor\":\"white\"},\"zaxis\":{\"backgroundcolor\":\"#E5ECF6\",\"gridcolor\":\"white\",\"gridwidth\":2,\"linecolor\":\"white\",\"showbackground\":true,\"ticks\":\"\",\"zerolinecolor\":\"white\"}},\"shapedefaults\":{\"line\":{\"color\":\"#2a3f5f\"}},\"ternary\":{\"aaxis\":{\"gridcolor\":\"white\",\"linecolor\":\"white\",\"ticks\":\"\"},\"baxis\":{\"gridcolor\":\"white\",\"linecolor\":\"white\",\"ticks\":\"\"},\"bgcolor\":\"#E5ECF6\",\"caxis\":{\"gridcolor\":\"white\",\"linecolor\":\"white\",\"ticks\":\"\"}},\"title\":{\"x\":0.05},\"xaxis\":{\"automargin\":true,\"gridcolor\":\"white\",\"linecolor\":\"white\",\"ticks\":\"\",\"title\":{\"standoff\":15},\"zerolinecolor\":\"white\",\"zerolinewidth\":2},\"yaxis\":{\"automargin\":true,\"gridcolor\":\"white\",\"linecolor\":\"white\",\"ticks\":\"\",\"title\":{\"standoff\":15},\"zerolinecolor\":\"white\",\"zerolinewidth\":2}}},\"polar\":{\"radialaxis\":{\"visible\":true,\"range\":[0,36.4]}},\"legend\":{\"y\":0.99,\"x\":0.8},\"showlegend\":true},                        {\"responsive\": true}                    ).then(function(){\n",
       "                            \n",
       "var gd = document.getElementById('a634f4b8-74a5-485f-aec8-275fe9b0ba61');\n",
       "var x = new MutationObserver(function (mutations, observer) {{\n",
       "        var display = window.getComputedStyle(gd).display;\n",
       "        if (!display || display === 'none') {{\n",
       "            console.log([gd, 'removed!']);\n",
       "            Plotly.purge(gd);\n",
       "            observer.disconnect();\n",
       "        }}\n",
       "}});\n",
       "\n",
       "// Listen for the removal of the full notebook cells\n",
       "var notebookContainer = gd.closest('#notebook-container');\n",
       "if (notebookContainer) {{\n",
       "    x.observe(notebookContainer, {childList: true});\n",
       "}}\n",
       "\n",
       "// Listen for the clearing of the current output cell\n",
       "var outputEl = gd.closest('.output');\n",
       "if (outputEl) {{\n",
       "    x.observe(outputEl, {childList: true});\n",
       "}}\n",
       "\n",
       "                        })                };                });            </script>        </div>"
      ]
     },
     "metadata": {},
     "output_type": "display_data"
    }
   ],
   "source": [
    "# Verteilung Datenmanagement 2020 un 2014\n",
    "df = anforderungen.query('kategorie == 26')\n",
    "categories=list(df['word'])\n",
    "\n",
    "a = int(df['2021'].nlargest(n=1))\n",
    "b = int(df['2014'].nlargest(n=1))\n",
    "\n",
    "if a >= b:\n",
    "    maximum = a\n",
    "else:\n",
    "    maximum = b\n",
    "    \n",
    "    \n",
    "fig = go.Figure()\n",
    "fig.add_trace(go.Scatterpolar(r= df['2021'].values.flatten().tolist(),    theta=categories,   fill='toself',  name='2021'))\n",
    "fig.add_trace(go.Scatterpolar(r= df['2014'].values.flatten().tolist(),    theta=categories,   fill='toself',  name='2014'))\n",
    "\n",
    "fig.update_layout(\n",
    "  polar=dict(\n",
    "    radialaxis=dict(\n",
    "      visible=True,\n",
    "      range=[0, maximum+(maximum*0.3)]\n",
    "    )),\n",
    "  showlegend=True,\n",
    "  legend=dict(\n",
    "    y=0.99,\n",
    "    x=0.8))\n",
    "\n",
    "fig.show()"
   ]
  },
  {
   "cell_type": "code",
   "execution_count": 33,
   "id": "48920665",
   "metadata": {},
   "outputs": [
    {
     "data": {
      "application/vnd.plotly.v1+json": {
       "config": {
        "linkText": "Export to plot.ly",
        "plotlyServerURL": "https://plot.ly",
        "showLink": false
       },
       "data": [
        {
         "colorscale": [
          [
           0,
           "#0b1d78"
          ],
          [
           0.143,
           "#0b1d78"
          ],
          [
           0.143,
           "#0045a5"
          ],
          [
           0.286,
           "#0045a5"
          ],
          [
           0.286,
           "#0069c0"
          ],
          [
           0.429,
           "#0069c0"
          ],
          [
           0.429,
           "#008ac5"
          ],
          [
           0.572,
           "#008ac5"
          ],
          [
           0.572,
           "#00c698"
          ],
          [
           0.715,
           "#00c698"
          ],
          [
           0.715,
           "#18b35c"
          ],
          [
           0.858,
           "#18b35c"
          ],
          [
           0.858,
           "#0f703a"
          ],
          [
           0.9,
           "#0f703a"
          ],
          [
           0.9,
           "#0f703a"
          ],
          [
           1,
           "#0f703a"
          ]
         ],
         "reversescale": false,
         "showscale": false,
         "type": "heatmap",
         "xaxis": "x",
         "xgap": 1.5,
         "yaxis": "y",
         "z": [
          [
           1,
           2,
           3,
           4,
           5,
           6,
           7,
           8
          ]
         ]
        },
        {
         "marker": {
          "color": "#0b1d78"
         },
         "name": "2014",
         "orientation": "h",
         "type": "bar",
         "x": [
          0.1509433962264151,
          0.06666666666666667,
          0.07079646017699115,
          0.16981132075471697,
          0.1509433962264151,
          0.17410714285714285,
          0.2184873949579832,
          0.14,
          0.1388888888888889,
          0.12380952380952381
         ],
         "xaxis": "x2",
         "y": [
          "gesundheitswesen",
          "öffentlich verwaltung",
          "juristisch",
          "unterrichtserfahrung",
          "psychisch",
          "sozial arbeit",
          "sekundarstufe",
          "leiterin",
          "sozialleistung",
          "pflege"
         ],
         "yaxis": "y2"
        },
        {
         "marker": {
          "color": "#0045a5"
         },
         "name": "2015",
         "orientation": "h",
         "type": "bar",
         "x": [
          0.05660377358490566,
          0.0761904761904762,
          0.11504424778761062,
          0.1792452830188679,
          0.1320754716981132,
          0.20535714285714285,
          0.16806722689075632,
          0.14222222222222222,
          0.12037037037037036,
          0.10952380952380952
         ],
         "xaxis": "x2",
         "y": [
          "gesundheitswesen",
          "öffentlich verwaltung",
          "juristisch",
          "unterrichtserfahrung",
          "psychisch",
          "sozial arbeit",
          "sekundarstufe",
          "leiterin",
          "sozialleistung",
          "pflege"
         ],
         "yaxis": "y2"
        },
        {
         "marker": {
          "color": "#0069c0"
         },
         "name": "2016",
         "orientation": "h",
         "type": "bar",
         "x": [
          0.11320754716981132,
          0.08571428571428572,
          0.07964601769911504,
          0.12264150943396226,
          0.07547169811320754,
          0.09375,
          0.12605042016806722,
          0.1,
          0.12037037037037036,
          0.12380952380952381
         ],
         "xaxis": "x2",
         "y": [
          "gesundheitswesen",
          "öffentlich verwaltung",
          "juristisch",
          "unterrichtserfahrung",
          "psychisch",
          "sozial arbeit",
          "sekundarstufe",
          "leiterin",
          "sozialleistung",
          "pflege"
         ],
         "yaxis": "y2"
        },
        {
         "marker": {
          "color": "#008ac5"
         },
         "name": "2017",
         "orientation": "h",
         "type": "bar",
         "x": [
          0.1509433962264151,
          0.14285714285714285,
          0.10619469026548672,
          0.09433962264150944,
          0.04716981132075472,
          0.05803571428571429,
          0.05042016806722689,
          0.08,
          0.08333333333333333,
          0.0761904761904762
         ],
         "xaxis": "x2",
         "y": [
          "gesundheitswesen",
          "öffentlich verwaltung",
          "juristisch",
          "unterrichtserfahrung",
          "psychisch",
          "sozial arbeit",
          "sekundarstufe",
          "leiterin",
          "sozialleistung",
          "pflege"
         ],
         "yaxis": "y2"
        },
        {
         "marker": {
          "color": "#00c698"
         },
         "name": "2018",
         "orientation": "h",
         "type": "bar",
         "x": [
          0.09433962264150944,
          0.13333333333333333,
          0.21238938053097345,
          0.08490566037735849,
          0.10377358490566038,
          0.10267857142857142,
          0.07563025210084033,
          0.10222222222222223,
          0.1111111111111111,
          0.08571428571428572
         ],
         "xaxis": "x2",
         "y": [
          "gesundheitswesen",
          "öffentlich verwaltung",
          "juristisch",
          "unterrichtserfahrung",
          "psychisch",
          "sozial arbeit",
          "sekundarstufe",
          "leiterin",
          "sozialleistung",
          "pflege"
         ],
         "yaxis": "y2"
        },
        {
         "marker": {
          "color": "#18b35c"
         },
         "name": "2019",
         "orientation": "h",
         "type": "bar",
         "x": [
          0.1509433962264151,
          0.13333333333333333,
          0.1415929203539823,
          0.08490566037735849,
          0.1320754716981132,
          0.08482142857142858,
          0.058823529411764705,
          0.1,
          0.08333333333333333,
          0.1619047619047619
         ],
         "xaxis": "x2",
         "y": [
          "gesundheitswesen",
          "öffentlich verwaltung",
          "juristisch",
          "unterrichtserfahrung",
          "psychisch",
          "sozial arbeit",
          "sekundarstufe",
          "leiterin",
          "sozialleistung",
          "pflege"
         ],
         "yaxis": "y2"
        },
        {
         "marker": {
          "color": "#18b35c"
         },
         "name": "2020",
         "orientation": "h",
         "type": "bar",
         "x": [
          0.1320754716981132,
          0.1523809523809524,
          0.1504424778761062,
          0.1509433962264151,
          0.1509433962264151,
          0.15625,
          0.16806722689075632,
          0.19333333333333333,
          0.2037037037037037,
          0.20952380952380953
         ],
         "xaxis": "x2",
         "y": [
          "gesundheitswesen",
          "öffentlich verwaltung",
          "juristisch",
          "unterrichtserfahrung",
          "psychisch",
          "sozial arbeit",
          "sekundarstufe",
          "leiterin",
          "sozialleistung",
          "pflege"
         ],
         "yaxis": "y2"
        },
        {
         "marker": {
          "color": "#0f703a"
         },
         "name": "2021",
         "orientation": "h",
         "text": [
          53,
          105,
          113,
          106,
          106,
          224,
          119,
          450,
          108,
          210
         ],
         "textposition": "outside",
         "type": "bar",
         "x": [
          0.1509433962264151,
          0.20952380952380953,
          0.12389380530973451,
          0.11320754716981132,
          0.20754716981132076,
          0.125,
          0.13445378151260504,
          0.14222222222222222,
          0.1388888888888889,
          0.10952380952380952
         ],
         "xaxis": "x2",
         "y": [
          "gesundheitswesen",
          "öffentlich verwaltung",
          "juristisch",
          "unterrichtserfahrung",
          "psychisch",
          "sozial arbeit",
          "sekundarstufe",
          "leiterin",
          "sozialleistung",
          "pflege"
         ],
         "yaxis": "y2"
        }
       ],
       "layout": {
        "annotations": [
         {
          "font": {
           "color": "white"
          },
          "showarrow": false,
          "text": "2014",
          "x": 0,
          "xref": "x",
          "y": 0,
          "yref": "y"
         },
         {
          "font": {
           "color": "white"
          },
          "showarrow": false,
          "text": "2015",
          "x": 1,
          "xref": "x",
          "y": 0,
          "yref": "y"
         },
         {
          "font": {
           "color": "white"
          },
          "showarrow": false,
          "text": "2016",
          "x": 2,
          "xref": "x",
          "y": 0,
          "yref": "y"
         },
         {
          "font": {
           "color": "white"
          },
          "showarrow": false,
          "text": "2017",
          "x": 3,
          "xref": "x",
          "y": 0,
          "yref": "y"
         },
         {
          "font": {
           "color": "white"
          },
          "showarrow": false,
          "text": "2018",
          "x": 4,
          "xref": "x",
          "y": 0,
          "yref": "y"
         },
         {
          "font": {
           "color": "white"
          },
          "showarrow": false,
          "text": "2019",
          "x": 5,
          "xref": "x",
          "y": 0,
          "yref": "y"
         },
         {
          "font": {
           "color": "white"
          },
          "showarrow": false,
          "text": "2020",
          "x": 6,
          "xref": "x",
          "y": 0,
          "yref": "y"
         },
         {
          "font": {
           "color": "white"
          },
          "showarrow": false,
          "text": "2021",
          "x": 7,
          "xref": "x",
          "y": 0,
          "yref": "y"
         }
        ],
        "bargap": 0.05,
        "barmode": "stack",
        "margin": {
         "b": 25,
         "l": 15,
         "t": 50
        },
        "plot_bgcolor": "#fff",
        "showlegend": false,
        "template": {
         "data": {
          "bar": [
           {
            "error_x": {
             "color": "#2a3f5f"
            },
            "error_y": {
             "color": "#2a3f5f"
            },
            "marker": {
             "line": {
              "color": "#E5ECF6",
              "width": 0.5
             },
             "pattern": {
              "fillmode": "overlay",
              "size": 10,
              "solidity": 0.2
             }
            },
            "type": "bar"
           }
          ],
          "barpolar": [
           {
            "marker": {
             "line": {
              "color": "#E5ECF6",
              "width": 0.5
             },
             "pattern": {
              "fillmode": "overlay",
              "size": 10,
              "solidity": 0.2
             }
            },
            "type": "barpolar"
           }
          ],
          "carpet": [
           {
            "aaxis": {
             "endlinecolor": "#2a3f5f",
             "gridcolor": "white",
             "linecolor": "white",
             "minorgridcolor": "white",
             "startlinecolor": "#2a3f5f"
            },
            "baxis": {
             "endlinecolor": "#2a3f5f",
             "gridcolor": "white",
             "linecolor": "white",
             "minorgridcolor": "white",
             "startlinecolor": "#2a3f5f"
            },
            "type": "carpet"
           }
          ],
          "choropleth": [
           {
            "colorbar": {
             "outlinewidth": 0,
             "ticks": ""
            },
            "type": "choropleth"
           }
          ],
          "contour": [
           {
            "colorbar": {
             "outlinewidth": 0,
             "ticks": ""
            },
            "colorscale": [
             [
              0,
              "#0d0887"
             ],
             [
              0.1111111111111111,
              "#46039f"
             ],
             [
              0.2222222222222222,
              "#7201a8"
             ],
             [
              0.3333333333333333,
              "#9c179e"
             ],
             [
              0.4444444444444444,
              "#bd3786"
             ],
             [
              0.5555555555555556,
              "#d8576b"
             ],
             [
              0.6666666666666666,
              "#ed7953"
             ],
             [
              0.7777777777777778,
              "#fb9f3a"
             ],
             [
              0.8888888888888888,
              "#fdca26"
             ],
             [
              1,
              "#f0f921"
             ]
            ],
            "type": "contour"
           }
          ],
          "contourcarpet": [
           {
            "colorbar": {
             "outlinewidth": 0,
             "ticks": ""
            },
            "type": "contourcarpet"
           }
          ],
          "heatmap": [
           {
            "colorbar": {
             "outlinewidth": 0,
             "ticks": ""
            },
            "colorscale": [
             [
              0,
              "#0d0887"
             ],
             [
              0.1111111111111111,
              "#46039f"
             ],
             [
              0.2222222222222222,
              "#7201a8"
             ],
             [
              0.3333333333333333,
              "#9c179e"
             ],
             [
              0.4444444444444444,
              "#bd3786"
             ],
             [
              0.5555555555555556,
              "#d8576b"
             ],
             [
              0.6666666666666666,
              "#ed7953"
             ],
             [
              0.7777777777777778,
              "#fb9f3a"
             ],
             [
              0.8888888888888888,
              "#fdca26"
             ],
             [
              1,
              "#f0f921"
             ]
            ],
            "type": "heatmap"
           }
          ],
          "heatmapgl": [
           {
            "colorbar": {
             "outlinewidth": 0,
             "ticks": ""
            },
            "colorscale": [
             [
              0,
              "#0d0887"
             ],
             [
              0.1111111111111111,
              "#46039f"
             ],
             [
              0.2222222222222222,
              "#7201a8"
             ],
             [
              0.3333333333333333,
              "#9c179e"
             ],
             [
              0.4444444444444444,
              "#bd3786"
             ],
             [
              0.5555555555555556,
              "#d8576b"
             ],
             [
              0.6666666666666666,
              "#ed7953"
             ],
             [
              0.7777777777777778,
              "#fb9f3a"
             ],
             [
              0.8888888888888888,
              "#fdca26"
             ],
             [
              1,
              "#f0f921"
             ]
            ],
            "type": "heatmapgl"
           }
          ],
          "histogram": [
           {
            "marker": {
             "pattern": {
              "fillmode": "overlay",
              "size": 10,
              "solidity": 0.2
             }
            },
            "type": "histogram"
           }
          ],
          "histogram2d": [
           {
            "colorbar": {
             "outlinewidth": 0,
             "ticks": ""
            },
            "colorscale": [
             [
              0,
              "#0d0887"
             ],
             [
              0.1111111111111111,
              "#46039f"
             ],
             [
              0.2222222222222222,
              "#7201a8"
             ],
             [
              0.3333333333333333,
              "#9c179e"
             ],
             [
              0.4444444444444444,
              "#bd3786"
             ],
             [
              0.5555555555555556,
              "#d8576b"
             ],
             [
              0.6666666666666666,
              "#ed7953"
             ],
             [
              0.7777777777777778,
              "#fb9f3a"
             ],
             [
              0.8888888888888888,
              "#fdca26"
             ],
             [
              1,
              "#f0f921"
             ]
            ],
            "type": "histogram2d"
           }
          ],
          "histogram2dcontour": [
           {
            "colorbar": {
             "outlinewidth": 0,
             "ticks": ""
            },
            "colorscale": [
             [
              0,
              "#0d0887"
             ],
             [
              0.1111111111111111,
              "#46039f"
             ],
             [
              0.2222222222222222,
              "#7201a8"
             ],
             [
              0.3333333333333333,
              "#9c179e"
             ],
             [
              0.4444444444444444,
              "#bd3786"
             ],
             [
              0.5555555555555556,
              "#d8576b"
             ],
             [
              0.6666666666666666,
              "#ed7953"
             ],
             [
              0.7777777777777778,
              "#fb9f3a"
             ],
             [
              0.8888888888888888,
              "#fdca26"
             ],
             [
              1,
              "#f0f921"
             ]
            ],
            "type": "histogram2dcontour"
           }
          ],
          "mesh3d": [
           {
            "colorbar": {
             "outlinewidth": 0,
             "ticks": ""
            },
            "type": "mesh3d"
           }
          ],
          "parcoords": [
           {
            "line": {
             "colorbar": {
              "outlinewidth": 0,
              "ticks": ""
             }
            },
            "type": "parcoords"
           }
          ],
          "pie": [
           {
            "automargin": true,
            "type": "pie"
           }
          ],
          "scatter": [
           {
            "marker": {
             "colorbar": {
              "outlinewidth": 0,
              "ticks": ""
             }
            },
            "type": "scatter"
           }
          ],
          "scatter3d": [
           {
            "line": {
             "colorbar": {
              "outlinewidth": 0,
              "ticks": ""
             }
            },
            "marker": {
             "colorbar": {
              "outlinewidth": 0,
              "ticks": ""
             }
            },
            "type": "scatter3d"
           }
          ],
          "scattercarpet": [
           {
            "marker": {
             "colorbar": {
              "outlinewidth": 0,
              "ticks": ""
             }
            },
            "type": "scattercarpet"
           }
          ],
          "scattergeo": [
           {
            "marker": {
             "colorbar": {
              "outlinewidth": 0,
              "ticks": ""
             }
            },
            "type": "scattergeo"
           }
          ],
          "scattergl": [
           {
            "marker": {
             "colorbar": {
              "outlinewidth": 0,
              "ticks": ""
             }
            },
            "type": "scattergl"
           }
          ],
          "scattermapbox": [
           {
            "marker": {
             "colorbar": {
              "outlinewidth": 0,
              "ticks": ""
             }
            },
            "type": "scattermapbox"
           }
          ],
          "scatterpolar": [
           {
            "marker": {
             "colorbar": {
              "outlinewidth": 0,
              "ticks": ""
             }
            },
            "type": "scatterpolar"
           }
          ],
          "scatterpolargl": [
           {
            "marker": {
             "colorbar": {
              "outlinewidth": 0,
              "ticks": ""
             }
            },
            "type": "scatterpolargl"
           }
          ],
          "scatterternary": [
           {
            "marker": {
             "colorbar": {
              "outlinewidth": 0,
              "ticks": ""
             }
            },
            "type": "scatterternary"
           }
          ],
          "surface": [
           {
            "colorbar": {
             "outlinewidth": 0,
             "ticks": ""
            },
            "colorscale": [
             [
              0,
              "#0d0887"
             ],
             [
              0.1111111111111111,
              "#46039f"
             ],
             [
              0.2222222222222222,
              "#7201a8"
             ],
             [
              0.3333333333333333,
              "#9c179e"
             ],
             [
              0.4444444444444444,
              "#bd3786"
             ],
             [
              0.5555555555555556,
              "#d8576b"
             ],
             [
              0.6666666666666666,
              "#ed7953"
             ],
             [
              0.7777777777777778,
              "#fb9f3a"
             ],
             [
              0.8888888888888888,
              "#fdca26"
             ],
             [
              1,
              "#f0f921"
             ]
            ],
            "type": "surface"
           }
          ],
          "table": [
           {
            "cells": {
             "fill": {
              "color": "#EBF0F8"
             },
             "line": {
              "color": "white"
             }
            },
            "header": {
             "fill": {
              "color": "#C8D4E3"
             },
             "line": {
              "color": "white"
             }
            },
            "type": "table"
           }
          ]
         },
         "layout": {
          "annotationdefaults": {
           "arrowcolor": "#2a3f5f",
           "arrowhead": 0,
           "arrowwidth": 1
          },
          "autotypenumbers": "strict",
          "coloraxis": {
           "colorbar": {
            "outlinewidth": 0,
            "ticks": ""
           }
          },
          "colorscale": {
           "diverging": [
            [
             0,
             "#8e0152"
            ],
            [
             0.1,
             "#c51b7d"
            ],
            [
             0.2,
             "#de77ae"
            ],
            [
             0.3,
             "#f1b6da"
            ],
            [
             0.4,
             "#fde0ef"
            ],
            [
             0.5,
             "#f7f7f7"
            ],
            [
             0.6,
             "#e6f5d0"
            ],
            [
             0.7,
             "#b8e186"
            ],
            [
             0.8,
             "#7fbc41"
            ],
            [
             0.9,
             "#4d9221"
            ],
            [
             1,
             "#276419"
            ]
           ],
           "sequential": [
            [
             0,
             "#0d0887"
            ],
            [
             0.1111111111111111,
             "#46039f"
            ],
            [
             0.2222222222222222,
             "#7201a8"
            ],
            [
             0.3333333333333333,
             "#9c179e"
            ],
            [
             0.4444444444444444,
             "#bd3786"
            ],
            [
             0.5555555555555556,
             "#d8576b"
            ],
            [
             0.6666666666666666,
             "#ed7953"
            ],
            [
             0.7777777777777778,
             "#fb9f3a"
            ],
            [
             0.8888888888888888,
             "#fdca26"
            ],
            [
             1,
             "#f0f921"
            ]
           ],
           "sequentialminus": [
            [
             0,
             "#0d0887"
            ],
            [
             0.1111111111111111,
             "#46039f"
            ],
            [
             0.2222222222222222,
             "#7201a8"
            ],
            [
             0.3333333333333333,
             "#9c179e"
            ],
            [
             0.4444444444444444,
             "#bd3786"
            ],
            [
             0.5555555555555556,
             "#d8576b"
            ],
            [
             0.6666666666666666,
             "#ed7953"
            ],
            [
             0.7777777777777778,
             "#fb9f3a"
            ],
            [
             0.8888888888888888,
             "#fdca26"
            ],
            [
             1,
             "#f0f921"
            ]
           ]
          },
          "colorway": [
           "#636efa",
           "#EF553B",
           "#00cc96",
           "#ab63fa",
           "#FFA15A",
           "#19d3f3",
           "#FF6692",
           "#B6E880",
           "#FF97FF",
           "#FECB52"
          ],
          "font": {
           "color": "#2a3f5f"
          },
          "geo": {
           "bgcolor": "white",
           "lakecolor": "white",
           "landcolor": "#E5ECF6",
           "showlakes": true,
           "showland": true,
           "subunitcolor": "white"
          },
          "hoverlabel": {
           "align": "left"
          },
          "hovermode": "closest",
          "mapbox": {
           "style": "light"
          },
          "paper_bgcolor": "white",
          "plot_bgcolor": "#E5ECF6",
          "polar": {
           "angularaxis": {
            "gridcolor": "white",
            "linecolor": "white",
            "ticks": ""
           },
           "bgcolor": "#E5ECF6",
           "radialaxis": {
            "gridcolor": "white",
            "linecolor": "white",
            "ticks": ""
           }
          },
          "scene": {
           "xaxis": {
            "backgroundcolor": "#E5ECF6",
            "gridcolor": "white",
            "gridwidth": 2,
            "linecolor": "white",
            "showbackground": true,
            "ticks": "",
            "zerolinecolor": "white"
           },
           "yaxis": {
            "backgroundcolor": "#E5ECF6",
            "gridcolor": "white",
            "gridwidth": 2,
            "linecolor": "white",
            "showbackground": true,
            "ticks": "",
            "zerolinecolor": "white"
           },
           "zaxis": {
            "backgroundcolor": "#E5ECF6",
            "gridcolor": "white",
            "gridwidth": 2,
            "linecolor": "white",
            "showbackground": true,
            "ticks": "",
            "zerolinecolor": "white"
           }
          },
          "shapedefaults": {
           "line": {
            "color": "#2a3f5f"
           }
          },
          "ternary": {
           "aaxis": {
            "gridcolor": "white",
            "linecolor": "white",
            "ticks": ""
           },
           "baxis": {
            "gridcolor": "white",
            "linecolor": "white",
            "ticks": ""
           },
           "bgcolor": "#E5ECF6",
           "caxis": {
            "gridcolor": "white",
            "linecolor": "white",
            "ticks": ""
           }
          },
          "title": {
           "x": 0.05
          },
          "xaxis": {
           "automargin": true,
           "gridcolor": "white",
           "linecolor": "white",
           "ticks": "",
           "title": {
            "standoff": 15
           },
           "zerolinecolor": "white",
           "zerolinewidth": 2
          },
          "yaxis": {
           "automargin": true,
           "gridcolor": "white",
           "linecolor": "white",
           "ticks": "",
           "title": {
            "standoff": 15
           },
           "zerolinecolor": "white",
           "zerolinewidth": 2
          }
         }
        },
        "title": {
         "text": "<span style='font-size:13px;'>Total</span>",
         "x": 0.9,
         "y": 0.81
        },
        "width": 1000,
        "xaxis": {
         "anchor": "y",
         "domain": [
          0,
          0.95
         ],
         "showticklabels": false,
         "side": "top",
         "title": {
          "standoff": 0,
          "text": "<span style='font-size:13px;'>Farben: Jahre</span>"
         }
        },
        "xaxis2": {
         "anchor": "y2",
         "domain": [
          0,
          1
         ],
         "tickformat": "%",
         "title": {
          "text": "<span style='font-size:13px;'>In Prozent totaler Nennungen</span>"
         }
        },
        "yaxis": {
         "anchor": "x",
         "domain": [
          0.85,
          1
         ],
         "showticklabels": false,
         "title": {
          "text": "<span style='font-size:13px;'>Anforderung</span>"
         }
        },
        "yaxis2": {
         "anchor": "x2",
         "categoryorder": "array",
         "domain": [
          0,
          0.83
         ]
        }
       }
      },
      "text/html": [
       "<div>                            <div id=\"42350c21-6b66-4dec-8f62-4296b18b79fb\" class=\"plotly-graph-div\" style=\"height:525px; width:1000px;\"></div>            <script type=\"text/javascript\">                require([\"plotly\"], function(Plotly) {                    window.PLOTLYENV=window.PLOTLYENV || {};                                    if (document.getElementById(\"42350c21-6b66-4dec-8f62-4296b18b79fb\")) {                    Plotly.newPlot(                        \"42350c21-6b66-4dec-8f62-4296b18b79fb\",                        [{\"colorscale\":[[0.0,\"#0b1d78\"],[0.143,\"#0b1d78\"],[0.143,\"#0045a5\"],[0.286,\"#0045a5\"],[0.286,\"#0069c0\"],[0.429,\"#0069c0\"],[0.429,\"#008ac5\"],[0.572,\"#008ac5\"],[0.572,\"#00c698\"],[0.715,\"#00c698\"],[0.715,\"#18b35c\"],[0.858,\"#18b35c\"],[0.858,\"#0f703a\"],[0.9,\"#0f703a\"],[0.9,\"#0f703a\"],[1.0,\"#0f703a\"]],\"reversescale\":false,\"showscale\":false,\"xaxis\":\"x\",\"xgap\":1.5,\"yaxis\":\"y\",\"z\":[[1,2,3,4,5,6,7,8]],\"type\":\"heatmap\"},{\"marker\":{\"color\":\"#0b1d78\"},\"name\":\"2014\",\"orientation\":\"h\",\"x\":[0.1509433962264151,0.06666666666666667,0.07079646017699115,0.16981132075471697,0.1509433962264151,0.17410714285714285,0.2184873949579832,0.14,0.1388888888888889,0.12380952380952381],\"xaxis\":\"x2\",\"y\":[\"gesundheitswesen\",\"\\u00f6ffentlich verwaltung\",\"juristisch\",\"unterrichtserfahrung\",\"psychisch\",\"sozial arbeit\",\"sekundarstufe\",\"leiterin\",\"sozialleistung\",\"pflege\"],\"yaxis\":\"y2\",\"type\":\"bar\"},{\"marker\":{\"color\":\"#0045a5\"},\"name\":\"2015\",\"orientation\":\"h\",\"x\":[0.05660377358490566,0.0761904761904762,0.11504424778761062,0.1792452830188679,0.1320754716981132,0.20535714285714285,0.16806722689075632,0.14222222222222222,0.12037037037037036,0.10952380952380952],\"xaxis\":\"x2\",\"y\":[\"gesundheitswesen\",\"\\u00f6ffentlich verwaltung\",\"juristisch\",\"unterrichtserfahrung\",\"psychisch\",\"sozial arbeit\",\"sekundarstufe\",\"leiterin\",\"sozialleistung\",\"pflege\"],\"yaxis\":\"y2\",\"type\":\"bar\"},{\"marker\":{\"color\":\"#0069c0\"},\"name\":\"2016\",\"orientation\":\"h\",\"x\":[0.11320754716981132,0.08571428571428572,0.07964601769911504,0.12264150943396226,0.07547169811320754,0.09375,0.12605042016806722,0.1,0.12037037037037036,0.12380952380952381],\"xaxis\":\"x2\",\"y\":[\"gesundheitswesen\",\"\\u00f6ffentlich verwaltung\",\"juristisch\",\"unterrichtserfahrung\",\"psychisch\",\"sozial arbeit\",\"sekundarstufe\",\"leiterin\",\"sozialleistung\",\"pflege\"],\"yaxis\":\"y2\",\"type\":\"bar\"},{\"marker\":{\"color\":\"#008ac5\"},\"name\":\"2017\",\"orientation\":\"h\",\"x\":[0.1509433962264151,0.14285714285714285,0.10619469026548672,0.09433962264150944,0.04716981132075472,0.05803571428571429,0.05042016806722689,0.08,0.08333333333333333,0.0761904761904762],\"xaxis\":\"x2\",\"y\":[\"gesundheitswesen\",\"\\u00f6ffentlich verwaltung\",\"juristisch\",\"unterrichtserfahrung\",\"psychisch\",\"sozial arbeit\",\"sekundarstufe\",\"leiterin\",\"sozialleistung\",\"pflege\"],\"yaxis\":\"y2\",\"type\":\"bar\"},{\"marker\":{\"color\":\"#00c698\"},\"name\":\"2018\",\"orientation\":\"h\",\"x\":[0.09433962264150944,0.13333333333333333,0.21238938053097345,0.08490566037735849,0.10377358490566038,0.10267857142857142,0.07563025210084033,0.10222222222222223,0.1111111111111111,0.08571428571428572],\"xaxis\":\"x2\",\"y\":[\"gesundheitswesen\",\"\\u00f6ffentlich verwaltung\",\"juristisch\",\"unterrichtserfahrung\",\"psychisch\",\"sozial arbeit\",\"sekundarstufe\",\"leiterin\",\"sozialleistung\",\"pflege\"],\"yaxis\":\"y2\",\"type\":\"bar\"},{\"marker\":{\"color\":\"#18b35c\"},\"name\":\"2019\",\"orientation\":\"h\",\"x\":[0.1509433962264151,0.13333333333333333,0.1415929203539823,0.08490566037735849,0.1320754716981132,0.08482142857142858,0.058823529411764705,0.1,0.08333333333333333,0.1619047619047619],\"xaxis\":\"x2\",\"y\":[\"gesundheitswesen\",\"\\u00f6ffentlich verwaltung\",\"juristisch\",\"unterrichtserfahrung\",\"psychisch\",\"sozial arbeit\",\"sekundarstufe\",\"leiterin\",\"sozialleistung\",\"pflege\"],\"yaxis\":\"y2\",\"type\":\"bar\"},{\"marker\":{\"color\":\"#18b35c\"},\"name\":\"2020\",\"orientation\":\"h\",\"x\":[0.1320754716981132,0.1523809523809524,0.1504424778761062,0.1509433962264151,0.1509433962264151,0.15625,0.16806722689075632,0.19333333333333333,0.2037037037037037,0.20952380952380953],\"xaxis\":\"x2\",\"y\":[\"gesundheitswesen\",\"\\u00f6ffentlich verwaltung\",\"juristisch\",\"unterrichtserfahrung\",\"psychisch\",\"sozial arbeit\",\"sekundarstufe\",\"leiterin\",\"sozialleistung\",\"pflege\"],\"yaxis\":\"y2\",\"type\":\"bar\"},{\"marker\":{\"color\":\"#0f703a\"},\"name\":\"2021\",\"orientation\":\"h\",\"text\":[53.0,105.0,113.0,106.0,106.0,224.0,119.0,450.0,108.0,210.0],\"textposition\":\"outside\",\"x\":[0.1509433962264151,0.20952380952380953,0.12389380530973451,0.11320754716981132,0.20754716981132076,0.125,0.13445378151260504,0.14222222222222222,0.1388888888888889,0.10952380952380952],\"xaxis\":\"x2\",\"y\":[\"gesundheitswesen\",\"\\u00f6ffentlich verwaltung\",\"juristisch\",\"unterrichtserfahrung\",\"psychisch\",\"sozial arbeit\",\"sekundarstufe\",\"leiterin\",\"sozialleistung\",\"pflege\"],\"yaxis\":\"y2\",\"type\":\"bar\"}],                        {\"annotations\":[{\"font\":{\"color\":\"white\"},\"showarrow\":false,\"text\":\"2014\",\"x\":0,\"xref\":\"x\",\"y\":0,\"yref\":\"y\"},{\"font\":{\"color\":\"white\"},\"showarrow\":false,\"text\":\"2015\",\"x\":1,\"xref\":\"x\",\"y\":0,\"yref\":\"y\"},{\"font\":{\"color\":\"white\"},\"showarrow\":false,\"text\":\"2016\",\"x\":2,\"xref\":\"x\",\"y\":0,\"yref\":\"y\"},{\"font\":{\"color\":\"white\"},\"showarrow\":false,\"text\":\"2017\",\"x\":3,\"xref\":\"x\",\"y\":0,\"yref\":\"y\"},{\"font\":{\"color\":\"white\"},\"showarrow\":false,\"text\":\"2018\",\"x\":4,\"xref\":\"x\",\"y\":0,\"yref\":\"y\"},{\"font\":{\"color\":\"white\"},\"showarrow\":false,\"text\":\"2019\",\"x\":5,\"xref\":\"x\",\"y\":0,\"yref\":\"y\"},{\"font\":{\"color\":\"white\"},\"showarrow\":false,\"text\":\"2020\",\"x\":6,\"xref\":\"x\",\"y\":0,\"yref\":\"y\"},{\"font\":{\"color\":\"white\"},\"showarrow\":false,\"text\":\"2021\",\"x\":7,\"xref\":\"x\",\"y\":0,\"yref\":\"y\"}],\"bargap\":0.05,\"barmode\":\"stack\",\"margin\":{\"b\":25,\"l\":15,\"t\":50},\"plot_bgcolor\":\"#fff\",\"showlegend\":false,\"template\":{\"data\":{\"barpolar\":[{\"marker\":{\"line\":{\"color\":\"#E5ECF6\",\"width\":0.5},\"pattern\":{\"fillmode\":\"overlay\",\"size\":10,\"solidity\":0.2}},\"type\":\"barpolar\"}],\"bar\":[{\"error_x\":{\"color\":\"#2a3f5f\"},\"error_y\":{\"color\":\"#2a3f5f\"},\"marker\":{\"line\":{\"color\":\"#E5ECF6\",\"width\":0.5},\"pattern\":{\"fillmode\":\"overlay\",\"size\":10,\"solidity\":0.2}},\"type\":\"bar\"}],\"carpet\":[{\"aaxis\":{\"endlinecolor\":\"#2a3f5f\",\"gridcolor\":\"white\",\"linecolor\":\"white\",\"minorgridcolor\":\"white\",\"startlinecolor\":\"#2a3f5f\"},\"baxis\":{\"endlinecolor\":\"#2a3f5f\",\"gridcolor\":\"white\",\"linecolor\":\"white\",\"minorgridcolor\":\"white\",\"startlinecolor\":\"#2a3f5f\"},\"type\":\"carpet\"}],\"choropleth\":[{\"colorbar\":{\"outlinewidth\":0,\"ticks\":\"\"},\"type\":\"choropleth\"}],\"contourcarpet\":[{\"colorbar\":{\"outlinewidth\":0,\"ticks\":\"\"},\"type\":\"contourcarpet\"}],\"contour\":[{\"colorbar\":{\"outlinewidth\":0,\"ticks\":\"\"},\"colorscale\":[[0.0,\"#0d0887\"],[0.1111111111111111,\"#46039f\"],[0.2222222222222222,\"#7201a8\"],[0.3333333333333333,\"#9c179e\"],[0.4444444444444444,\"#bd3786\"],[0.5555555555555556,\"#d8576b\"],[0.6666666666666666,\"#ed7953\"],[0.7777777777777778,\"#fb9f3a\"],[0.8888888888888888,\"#fdca26\"],[1.0,\"#f0f921\"]],\"type\":\"contour\"}],\"heatmapgl\":[{\"colorbar\":{\"outlinewidth\":0,\"ticks\":\"\"},\"colorscale\":[[0.0,\"#0d0887\"],[0.1111111111111111,\"#46039f\"],[0.2222222222222222,\"#7201a8\"],[0.3333333333333333,\"#9c179e\"],[0.4444444444444444,\"#bd3786\"],[0.5555555555555556,\"#d8576b\"],[0.6666666666666666,\"#ed7953\"],[0.7777777777777778,\"#fb9f3a\"],[0.8888888888888888,\"#fdca26\"],[1.0,\"#f0f921\"]],\"type\":\"heatmapgl\"}],\"heatmap\":[{\"colorbar\":{\"outlinewidth\":0,\"ticks\":\"\"},\"colorscale\":[[0.0,\"#0d0887\"],[0.1111111111111111,\"#46039f\"],[0.2222222222222222,\"#7201a8\"],[0.3333333333333333,\"#9c179e\"],[0.4444444444444444,\"#bd3786\"],[0.5555555555555556,\"#d8576b\"],[0.6666666666666666,\"#ed7953\"],[0.7777777777777778,\"#fb9f3a\"],[0.8888888888888888,\"#fdca26\"],[1.0,\"#f0f921\"]],\"type\":\"heatmap\"}],\"histogram2dcontour\":[{\"colorbar\":{\"outlinewidth\":0,\"ticks\":\"\"},\"colorscale\":[[0.0,\"#0d0887\"],[0.1111111111111111,\"#46039f\"],[0.2222222222222222,\"#7201a8\"],[0.3333333333333333,\"#9c179e\"],[0.4444444444444444,\"#bd3786\"],[0.5555555555555556,\"#d8576b\"],[0.6666666666666666,\"#ed7953\"],[0.7777777777777778,\"#fb9f3a\"],[0.8888888888888888,\"#fdca26\"],[1.0,\"#f0f921\"]],\"type\":\"histogram2dcontour\"}],\"histogram2d\":[{\"colorbar\":{\"outlinewidth\":0,\"ticks\":\"\"},\"colorscale\":[[0.0,\"#0d0887\"],[0.1111111111111111,\"#46039f\"],[0.2222222222222222,\"#7201a8\"],[0.3333333333333333,\"#9c179e\"],[0.4444444444444444,\"#bd3786\"],[0.5555555555555556,\"#d8576b\"],[0.6666666666666666,\"#ed7953\"],[0.7777777777777778,\"#fb9f3a\"],[0.8888888888888888,\"#fdca26\"],[1.0,\"#f0f921\"]],\"type\":\"histogram2d\"}],\"histogram\":[{\"marker\":{\"pattern\":{\"fillmode\":\"overlay\",\"size\":10,\"solidity\":0.2}},\"type\":\"histogram\"}],\"mesh3d\":[{\"colorbar\":{\"outlinewidth\":0,\"ticks\":\"\"},\"type\":\"mesh3d\"}],\"parcoords\":[{\"line\":{\"colorbar\":{\"outlinewidth\":0,\"ticks\":\"\"}},\"type\":\"parcoords\"}],\"pie\":[{\"automargin\":true,\"type\":\"pie\"}],\"scatter3d\":[{\"line\":{\"colorbar\":{\"outlinewidth\":0,\"ticks\":\"\"}},\"marker\":{\"colorbar\":{\"outlinewidth\":0,\"ticks\":\"\"}},\"type\":\"scatter3d\"}],\"scattercarpet\":[{\"marker\":{\"colorbar\":{\"outlinewidth\":0,\"ticks\":\"\"}},\"type\":\"scattercarpet\"}],\"scattergeo\":[{\"marker\":{\"colorbar\":{\"outlinewidth\":0,\"ticks\":\"\"}},\"type\":\"scattergeo\"}],\"scattergl\":[{\"marker\":{\"colorbar\":{\"outlinewidth\":0,\"ticks\":\"\"}},\"type\":\"scattergl\"}],\"scattermapbox\":[{\"marker\":{\"colorbar\":{\"outlinewidth\":0,\"ticks\":\"\"}},\"type\":\"scattermapbox\"}],\"scatterpolargl\":[{\"marker\":{\"colorbar\":{\"outlinewidth\":0,\"ticks\":\"\"}},\"type\":\"scatterpolargl\"}],\"scatterpolar\":[{\"marker\":{\"colorbar\":{\"outlinewidth\":0,\"ticks\":\"\"}},\"type\":\"scatterpolar\"}],\"scatter\":[{\"marker\":{\"colorbar\":{\"outlinewidth\":0,\"ticks\":\"\"}},\"type\":\"scatter\"}],\"scatterternary\":[{\"marker\":{\"colorbar\":{\"outlinewidth\":0,\"ticks\":\"\"}},\"type\":\"scatterternary\"}],\"surface\":[{\"colorbar\":{\"outlinewidth\":0,\"ticks\":\"\"},\"colorscale\":[[0.0,\"#0d0887\"],[0.1111111111111111,\"#46039f\"],[0.2222222222222222,\"#7201a8\"],[0.3333333333333333,\"#9c179e\"],[0.4444444444444444,\"#bd3786\"],[0.5555555555555556,\"#d8576b\"],[0.6666666666666666,\"#ed7953\"],[0.7777777777777778,\"#fb9f3a\"],[0.8888888888888888,\"#fdca26\"],[1.0,\"#f0f921\"]],\"type\":\"surface\"}],\"table\":[{\"cells\":{\"fill\":{\"color\":\"#EBF0F8\"},\"line\":{\"color\":\"white\"}},\"header\":{\"fill\":{\"color\":\"#C8D4E3\"},\"line\":{\"color\":\"white\"}},\"type\":\"table\"}]},\"layout\":{\"annotationdefaults\":{\"arrowcolor\":\"#2a3f5f\",\"arrowhead\":0,\"arrowwidth\":1},\"autotypenumbers\":\"strict\",\"coloraxis\":{\"colorbar\":{\"outlinewidth\":0,\"ticks\":\"\"}},\"colorscale\":{\"diverging\":[[0,\"#8e0152\"],[0.1,\"#c51b7d\"],[0.2,\"#de77ae\"],[0.3,\"#f1b6da\"],[0.4,\"#fde0ef\"],[0.5,\"#f7f7f7\"],[0.6,\"#e6f5d0\"],[0.7,\"#b8e186\"],[0.8,\"#7fbc41\"],[0.9,\"#4d9221\"],[1,\"#276419\"]],\"sequential\":[[0.0,\"#0d0887\"],[0.1111111111111111,\"#46039f\"],[0.2222222222222222,\"#7201a8\"],[0.3333333333333333,\"#9c179e\"],[0.4444444444444444,\"#bd3786\"],[0.5555555555555556,\"#d8576b\"],[0.6666666666666666,\"#ed7953\"],[0.7777777777777778,\"#fb9f3a\"],[0.8888888888888888,\"#fdca26\"],[1.0,\"#f0f921\"]],\"sequentialminus\":[[0.0,\"#0d0887\"],[0.1111111111111111,\"#46039f\"],[0.2222222222222222,\"#7201a8\"],[0.3333333333333333,\"#9c179e\"],[0.4444444444444444,\"#bd3786\"],[0.5555555555555556,\"#d8576b\"],[0.6666666666666666,\"#ed7953\"],[0.7777777777777778,\"#fb9f3a\"],[0.8888888888888888,\"#fdca26\"],[1.0,\"#f0f921\"]]},\"colorway\":[\"#636efa\",\"#EF553B\",\"#00cc96\",\"#ab63fa\",\"#FFA15A\",\"#19d3f3\",\"#FF6692\",\"#B6E880\",\"#FF97FF\",\"#FECB52\"],\"font\":{\"color\":\"#2a3f5f\"},\"geo\":{\"bgcolor\":\"white\",\"lakecolor\":\"white\",\"landcolor\":\"#E5ECF6\",\"showlakes\":true,\"showland\":true,\"subunitcolor\":\"white\"},\"hoverlabel\":{\"align\":\"left\"},\"hovermode\":\"closest\",\"mapbox\":{\"style\":\"light\"},\"paper_bgcolor\":\"white\",\"plot_bgcolor\":\"#E5ECF6\",\"polar\":{\"angularaxis\":{\"gridcolor\":\"white\",\"linecolor\":\"white\",\"ticks\":\"\"},\"bgcolor\":\"#E5ECF6\",\"radialaxis\":{\"gridcolor\":\"white\",\"linecolor\":\"white\",\"ticks\":\"\"}},\"scene\":{\"xaxis\":{\"backgroundcolor\":\"#E5ECF6\",\"gridcolor\":\"white\",\"gridwidth\":2,\"linecolor\":\"white\",\"showbackground\":true,\"ticks\":\"\",\"zerolinecolor\":\"white\"},\"yaxis\":{\"backgroundcolor\":\"#E5ECF6\",\"gridcolor\":\"white\",\"gridwidth\":2,\"linecolor\":\"white\",\"showbackground\":true,\"ticks\":\"\",\"zerolinecolor\":\"white\"},\"zaxis\":{\"backgroundcolor\":\"#E5ECF6\",\"gridcolor\":\"white\",\"gridwidth\":2,\"linecolor\":\"white\",\"showbackground\":true,\"ticks\":\"\",\"zerolinecolor\":\"white\"}},\"shapedefaults\":{\"line\":{\"color\":\"#2a3f5f\"}},\"ternary\":{\"aaxis\":{\"gridcolor\":\"white\",\"linecolor\":\"white\",\"ticks\":\"\"},\"baxis\":{\"gridcolor\":\"white\",\"linecolor\":\"white\",\"ticks\":\"\"},\"bgcolor\":\"#E5ECF6\",\"caxis\":{\"gridcolor\":\"white\",\"linecolor\":\"white\",\"ticks\":\"\"}},\"title\":{\"x\":0.05},\"xaxis\":{\"automargin\":true,\"gridcolor\":\"white\",\"linecolor\":\"white\",\"ticks\":\"\",\"title\":{\"standoff\":15},\"zerolinecolor\":\"white\",\"zerolinewidth\":2},\"yaxis\":{\"automargin\":true,\"gridcolor\":\"white\",\"linecolor\":\"white\",\"ticks\":\"\",\"title\":{\"standoff\":15},\"zerolinecolor\":\"white\",\"zerolinewidth\":2}}},\"title\":{\"text\":\"<span style='font-size:13px;'>Total</span>\",\"x\":0.9,\"y\":0.81},\"width\":1000,\"xaxis\":{\"anchor\":\"y\",\"domain\":[0,0.95],\"showticklabels\":false,\"side\":\"top\",\"title\":{\"standoff\":0,\"text\":\"<span style='font-size:13px;'>Farben: Jahre</span>\"}},\"yaxis\":{\"anchor\":\"x\",\"domain\":[0.85,1],\"showticklabels\":false,\"title\":{\"text\":\"<span style='font-size:13px;'>Anforderung</span>\"}},\"xaxis2\":{\"anchor\":\"y2\",\"domain\":[0.0,1.0],\"tickformat\":\"%\",\"title\":{\"text\":\"<span style='font-size:13px;'>In Prozent totaler Nennungen</span>\"}},\"yaxis2\":{\"anchor\":\"x2\",\"categoryorder\":\"array\",\"domain\":[0,0.83]}},                        {\"responsive\": true}                    ).then(function(){\n",
       "                            \n",
       "var gd = document.getElementById('42350c21-6b66-4dec-8f62-4296b18b79fb');\n",
       "var x = new MutationObserver(function (mutations, observer) {{\n",
       "        var display = window.getComputedStyle(gd).display;\n",
       "        if (!display || display === 'none') {{\n",
       "            console.log([gd, 'removed!']);\n",
       "            Plotly.purge(gd);\n",
       "            observer.disconnect();\n",
       "        }}\n",
       "}});\n",
       "\n",
       "// Listen for the removal of the full notebook cells\n",
       "var notebookContainer = gd.closest('#notebook-container');\n",
       "if (notebookContainer) {{\n",
       "    x.observe(notebookContainer, {childList: true});\n",
       "}}\n",
       "\n",
       "// Listen for the clearing of the current output cell\n",
       "var outputEl = gd.closest('.output');\n",
       "if (outputEl) {{\n",
       "    x.observe(outputEl, {childList: true});\n",
       "}}\n",
       "\n",
       "                        })                };                });            </script>        </div>"
      ]
     },
     "metadata": {},
     "output_type": "display_data"
    }
   ],
   "source": [
    "# Abbildung 16 (in Bachelorarbeit)\n",
    "# Top 10 veränderter Anforderungen 2020 Hauptkategorie IT-Kenntnisse in relativen Zahlen\n",
    "# Datengrundlage\n",
    "total = anforderungen['2014 %'] + anforderungen['2015 %'] + anforderungen['2016 %'] + anforderungen['2017 %'] + anforderungen['2018 %'] + anforderungen['2019 %'] + anforderungen['2020 %']+ anforderungen['2021 %']\n",
    "anforderungen['2020_total'] = anforderungen['2020 %'] / total\n",
    "df_WIN = anforderungen.sort_values(by=('2020_total'), ascending=False).query('hauptkategorie == \"'+Hauptkategorie+'\"').head(10)\n",
    "df_WIN = df_WIN.sort_values(by=('2020_total'), ascending=True)\n",
    "\n",
    "words = df_WIN['word']\n",
    "total = df_WIN['2014'] + df_WIN['2015'] + df_WIN['2016'] + df_WIN['2017'] + df_WIN['2018'] + df_WIN['2019'] + df_WIN['2020'] + df_WIN['2021']\n",
    "\n",
    "trace1 = go.Bar(y = words, x = df_WIN['2014'] / total, name = \"2014\", marker = dict(color= '#0b1d78'), orientation = \"h\",)\n",
    "trace2 = go.Bar(y = words, x = df_WIN['2015'] / total, name = \"2015\", marker = dict(color= '#0045a5'), orientation = \"h\")\n",
    "trace3 = go.Bar(y = words, x = df_WIN['2016'] / total, name = \"2016\", marker = dict(color= '#0069c0'), orientation = \"h\")\n",
    "trace4 = go.Bar(y = words, x = df_WIN['2017'] / total, name = \"2017\", marker = dict(color= '#008ac5'), orientation = \"h\")\n",
    "trace5 = go.Bar(y = words, x = df_WIN['2018'] / total, name = \"2018\", marker = dict(color= '#00c698'), orientation = \"h\")\n",
    "trace6 = go.Bar(y = words, x = df_WIN['2019'] / total, name = \"2019\", marker = dict(color= '#18b35c'), orientation = \"h\")\n",
    "trace7 = go.Bar(y = words, x = df_WIN['2020'] / total, name = \"2020\", marker = dict(color= '#18b35c'), orientation = \"h\")\n",
    "trace8 = go.Bar(y = words, x = df_WIN['2021'] / total, name = \"2021\", marker = dict(color= '#0f703a'), orientation = \"h\",\n",
    "    text=total,    textposition = 'outside',)\n",
    "large_title_format = \"<span style='font-size:13px; writing-mode:horizontal-lr;'>Total</span>\"\n",
    "\n",
    "layout = dict(\n",
    "    title = dict(text = large_title_format  ,x=0.9, y=0.81),\n",
    "    margin = dict(t=50, l=15,b=25),\n",
    "    xaxis = dict(title=\"<span style='font-size:13px;'>Farben: Jahre</span>\", side=\"top\",title_standoff=0, domain=[0,0.95], showticklabels = False),\n",
    "    xaxis2 = dict(domain=[0,1], tickformat = '%', title=\"<span style='font-size:13px;'>In Prozent totaler Nennungen</span>\"),\n",
    "    yaxis = dict(domain=[0.85,1], showticklabels = False, title=\"<span style='font-size:13px;'>Anforderung</span>\"),\n",
    "    yaxis2={'categoryorder': 'array',\n",
    "            'domain':[0,0.83],\n",
    "           },\n",
    "    barmode = \"stack\",\n",
    "    bargap = 0.05,\n",
    "    showlegend = False,\n",
    "    width = 1000,\n",
    "    plot_bgcolor = \"#fff\"\n",
    ")\n",
    "colorscale = ff.create_annotated_heatmap(\n",
    "    z=[[1,2,3,4,5,6,7,8]],\n",
    "        annotation_text =[[text for text in [\"2014\", \"2015\", \"2016\", \"2017\", \"2018\", \"2019\",\"2020\",\"2021\"]]],\n",
    "    colorscale= [\n",
    "        [0.000,\"#0b1d78\"],[0.143,\"#0b1d78\"],\n",
    "        [0.143,\"#0045a5\"],[0.286,\"#0045a5\"],\n",
    "        [0.286,\"#0069c0\"],[0.429,\"#0069c0\"],\n",
    "        [0.429,\"#008ac5\"],[0.572,\"#008ac5\"],\n",
    "        [0.572,\"#00c698\"],[0.715,\"#00c698\"],\n",
    "        [0.715,\"#18b35c\"],[0.858,\"#18b35c\"],\n",
    "        [0.858,\"#0f703a\"],[0.900,\"#0f703a\"],\n",
    "        [0.900,\"#0f703a\"],[1.000,\"#0f703a\"],\n",
    "    ],\n",
    "    font_colors = [\"white\", \"white\", \"white\", \"white\", \"white\", \"white\", \"white\", \"white\"],\n",
    "    xgap = 1.5,\n",
    "    showscale = False\n",
    ")\n",
    "data = [trace1, trace2, trace3, trace4, trace5, trace6, trace7, trace8]\n",
    "\n",
    "fig = subplots.make_subplots(\n",
    "    rows=2, \n",
    "    cols=1, \n",
    "    shared_yaxes=True, \n",
    "    shared_xaxes=False, \n",
    "    horizontal_spacing = 0.02, \n",
    "    vertical_spacing = 0.01,)\n",
    "fig.append_trace(colorscale.data[0],1,1); \n",
    "fig.append_trace(trace1,2,1); \n",
    "fig.append_trace(trace2,2,1); \n",
    "fig.append_trace(trace3,2,1);\n",
    "fig.append_trace(trace4,2,1);\n",
    "fig.append_trace(trace5,2,1);\n",
    "fig.append_trace(trace6,2,1);\n",
    "fig.append_trace(trace7,2,1);\n",
    "fig.append_trace(trace8,2,1);\n",
    "annot1 = list(colorscale.layout.annotations)\n",
    "for k in range(len(annot1)):    \n",
    "    annot1[k]['xref'] = 'x'\n",
    "    annot1[k]['yref'] = 'y'  \n",
    "fig.update_layout(annotations=annot1) \n",
    "fig.update_layout(layout)\n",
    "iplot(fig)"
   ]
  },
  {
   "cell_type": "code",
   "execution_count": 17,
   "id": "8c975b0c",
   "metadata": {},
   "outputs": [
    {
     "data": {
      "application/vnd.plotly.v1+json": {
       "config": {
        "plotlyServerURL": "https://plot.ly"
       },
       "data": [
        {
         "name": "Total Stellenanzeigen",
         "type": "scatter",
         "x": [
          2014,
          2015,
          2016,
          2017,
          2018,
          2019,
          2020,
          2021
         ],
         "y": [
          20652,
          18268,
          16630,
          17696,
          16638,
          14350,
          16087,
          12444
         ]
        },
        {
         "name": "Stellenanzeigen, die \"Verwaltung/Bildung/Soziales\" anfordern",
         "text": [
          "23%",
          "25%",
          "25%",
          "25%",
          "24%",
          "27%",
          "26%",
          "27%"
         ],
         "textposition": "inside",
         "type": "bar",
         "x": [
          2014,
          2015,
          2016,
          2017,
          2018,
          2019,
          2020,
          2021
         ],
         "y": [
          4745,
          4507,
          4163,
          4397,
          4059,
          3893,
          4240,
          3416
         ]
        }
       ],
       "layout": {
        "legend": {
         "x": 0.62,
         "y": 1.15
        },
        "template": {
         "data": {
          "bar": [
           {
            "error_x": {
             "color": "#2a3f5f"
            },
            "error_y": {
             "color": "#2a3f5f"
            },
            "marker": {
             "line": {
              "color": "#E5ECF6",
              "width": 0.5
             },
             "pattern": {
              "fillmode": "overlay",
              "size": 10,
              "solidity": 0.2
             }
            },
            "type": "bar"
           }
          ],
          "barpolar": [
           {
            "marker": {
             "line": {
              "color": "#E5ECF6",
              "width": 0.5
             },
             "pattern": {
              "fillmode": "overlay",
              "size": 10,
              "solidity": 0.2
             }
            },
            "type": "barpolar"
           }
          ],
          "carpet": [
           {
            "aaxis": {
             "endlinecolor": "#2a3f5f",
             "gridcolor": "white",
             "linecolor": "white",
             "minorgridcolor": "white",
             "startlinecolor": "#2a3f5f"
            },
            "baxis": {
             "endlinecolor": "#2a3f5f",
             "gridcolor": "white",
             "linecolor": "white",
             "minorgridcolor": "white",
             "startlinecolor": "#2a3f5f"
            },
            "type": "carpet"
           }
          ],
          "choropleth": [
           {
            "colorbar": {
             "outlinewidth": 0,
             "ticks": ""
            },
            "type": "choropleth"
           }
          ],
          "contour": [
           {
            "colorbar": {
             "outlinewidth": 0,
             "ticks": ""
            },
            "colorscale": [
             [
              0,
              "#0d0887"
             ],
             [
              0.1111111111111111,
              "#46039f"
             ],
             [
              0.2222222222222222,
              "#7201a8"
             ],
             [
              0.3333333333333333,
              "#9c179e"
             ],
             [
              0.4444444444444444,
              "#bd3786"
             ],
             [
              0.5555555555555556,
              "#d8576b"
             ],
             [
              0.6666666666666666,
              "#ed7953"
             ],
             [
              0.7777777777777778,
              "#fb9f3a"
             ],
             [
              0.8888888888888888,
              "#fdca26"
             ],
             [
              1,
              "#f0f921"
             ]
            ],
            "type": "contour"
           }
          ],
          "contourcarpet": [
           {
            "colorbar": {
             "outlinewidth": 0,
             "ticks": ""
            },
            "type": "contourcarpet"
           }
          ],
          "heatmap": [
           {
            "colorbar": {
             "outlinewidth": 0,
             "ticks": ""
            },
            "colorscale": [
             [
              0,
              "#0d0887"
             ],
             [
              0.1111111111111111,
              "#46039f"
             ],
             [
              0.2222222222222222,
              "#7201a8"
             ],
             [
              0.3333333333333333,
              "#9c179e"
             ],
             [
              0.4444444444444444,
              "#bd3786"
             ],
             [
              0.5555555555555556,
              "#d8576b"
             ],
             [
              0.6666666666666666,
              "#ed7953"
             ],
             [
              0.7777777777777778,
              "#fb9f3a"
             ],
             [
              0.8888888888888888,
              "#fdca26"
             ],
             [
              1,
              "#f0f921"
             ]
            ],
            "type": "heatmap"
           }
          ],
          "heatmapgl": [
           {
            "colorbar": {
             "outlinewidth": 0,
             "ticks": ""
            },
            "colorscale": [
             [
              0,
              "#0d0887"
             ],
             [
              0.1111111111111111,
              "#46039f"
             ],
             [
              0.2222222222222222,
              "#7201a8"
             ],
             [
              0.3333333333333333,
              "#9c179e"
             ],
             [
              0.4444444444444444,
              "#bd3786"
             ],
             [
              0.5555555555555556,
              "#d8576b"
             ],
             [
              0.6666666666666666,
              "#ed7953"
             ],
             [
              0.7777777777777778,
              "#fb9f3a"
             ],
             [
              0.8888888888888888,
              "#fdca26"
             ],
             [
              1,
              "#f0f921"
             ]
            ],
            "type": "heatmapgl"
           }
          ],
          "histogram": [
           {
            "marker": {
             "pattern": {
              "fillmode": "overlay",
              "size": 10,
              "solidity": 0.2
             }
            },
            "type": "histogram"
           }
          ],
          "histogram2d": [
           {
            "colorbar": {
             "outlinewidth": 0,
             "ticks": ""
            },
            "colorscale": [
             [
              0,
              "#0d0887"
             ],
             [
              0.1111111111111111,
              "#46039f"
             ],
             [
              0.2222222222222222,
              "#7201a8"
             ],
             [
              0.3333333333333333,
              "#9c179e"
             ],
             [
              0.4444444444444444,
              "#bd3786"
             ],
             [
              0.5555555555555556,
              "#d8576b"
             ],
             [
              0.6666666666666666,
              "#ed7953"
             ],
             [
              0.7777777777777778,
              "#fb9f3a"
             ],
             [
              0.8888888888888888,
              "#fdca26"
             ],
             [
              1,
              "#f0f921"
             ]
            ],
            "type": "histogram2d"
           }
          ],
          "histogram2dcontour": [
           {
            "colorbar": {
             "outlinewidth": 0,
             "ticks": ""
            },
            "colorscale": [
             [
              0,
              "#0d0887"
             ],
             [
              0.1111111111111111,
              "#46039f"
             ],
             [
              0.2222222222222222,
              "#7201a8"
             ],
             [
              0.3333333333333333,
              "#9c179e"
             ],
             [
              0.4444444444444444,
              "#bd3786"
             ],
             [
              0.5555555555555556,
              "#d8576b"
             ],
             [
              0.6666666666666666,
              "#ed7953"
             ],
             [
              0.7777777777777778,
              "#fb9f3a"
             ],
             [
              0.8888888888888888,
              "#fdca26"
             ],
             [
              1,
              "#f0f921"
             ]
            ],
            "type": "histogram2dcontour"
           }
          ],
          "mesh3d": [
           {
            "colorbar": {
             "outlinewidth": 0,
             "ticks": ""
            },
            "type": "mesh3d"
           }
          ],
          "parcoords": [
           {
            "line": {
             "colorbar": {
              "outlinewidth": 0,
              "ticks": ""
             }
            },
            "type": "parcoords"
           }
          ],
          "pie": [
           {
            "automargin": true,
            "type": "pie"
           }
          ],
          "scatter": [
           {
            "marker": {
             "colorbar": {
              "outlinewidth": 0,
              "ticks": ""
             }
            },
            "type": "scatter"
           }
          ],
          "scatter3d": [
           {
            "line": {
             "colorbar": {
              "outlinewidth": 0,
              "ticks": ""
             }
            },
            "marker": {
             "colorbar": {
              "outlinewidth": 0,
              "ticks": ""
             }
            },
            "type": "scatter3d"
           }
          ],
          "scattercarpet": [
           {
            "marker": {
             "colorbar": {
              "outlinewidth": 0,
              "ticks": ""
             }
            },
            "type": "scattercarpet"
           }
          ],
          "scattergeo": [
           {
            "marker": {
             "colorbar": {
              "outlinewidth": 0,
              "ticks": ""
             }
            },
            "type": "scattergeo"
           }
          ],
          "scattergl": [
           {
            "marker": {
             "colorbar": {
              "outlinewidth": 0,
              "ticks": ""
             }
            },
            "type": "scattergl"
           }
          ],
          "scattermapbox": [
           {
            "marker": {
             "colorbar": {
              "outlinewidth": 0,
              "ticks": ""
             }
            },
            "type": "scattermapbox"
           }
          ],
          "scatterpolar": [
           {
            "marker": {
             "colorbar": {
              "outlinewidth": 0,
              "ticks": ""
             }
            },
            "type": "scatterpolar"
           }
          ],
          "scatterpolargl": [
           {
            "marker": {
             "colorbar": {
              "outlinewidth": 0,
              "ticks": ""
             }
            },
            "type": "scatterpolargl"
           }
          ],
          "scatterternary": [
           {
            "marker": {
             "colorbar": {
              "outlinewidth": 0,
              "ticks": ""
             }
            },
            "type": "scatterternary"
           }
          ],
          "surface": [
           {
            "colorbar": {
             "outlinewidth": 0,
             "ticks": ""
            },
            "colorscale": [
             [
              0,
              "#0d0887"
             ],
             [
              0.1111111111111111,
              "#46039f"
             ],
             [
              0.2222222222222222,
              "#7201a8"
             ],
             [
              0.3333333333333333,
              "#9c179e"
             ],
             [
              0.4444444444444444,
              "#bd3786"
             ],
             [
              0.5555555555555556,
              "#d8576b"
             ],
             [
              0.6666666666666666,
              "#ed7953"
             ],
             [
              0.7777777777777778,
              "#fb9f3a"
             ],
             [
              0.8888888888888888,
              "#fdca26"
             ],
             [
              1,
              "#f0f921"
             ]
            ],
            "type": "surface"
           }
          ],
          "table": [
           {
            "cells": {
             "fill": {
              "color": "#EBF0F8"
             },
             "line": {
              "color": "white"
             }
            },
            "header": {
             "fill": {
              "color": "#C8D4E3"
             },
             "line": {
              "color": "white"
             }
            },
            "type": "table"
           }
          ]
         },
         "layout": {
          "annotationdefaults": {
           "arrowcolor": "#2a3f5f",
           "arrowhead": 0,
           "arrowwidth": 1
          },
          "autotypenumbers": "strict",
          "coloraxis": {
           "colorbar": {
            "outlinewidth": 0,
            "ticks": ""
           }
          },
          "colorscale": {
           "diverging": [
            [
             0,
             "#8e0152"
            ],
            [
             0.1,
             "#c51b7d"
            ],
            [
             0.2,
             "#de77ae"
            ],
            [
             0.3,
             "#f1b6da"
            ],
            [
             0.4,
             "#fde0ef"
            ],
            [
             0.5,
             "#f7f7f7"
            ],
            [
             0.6,
             "#e6f5d0"
            ],
            [
             0.7,
             "#b8e186"
            ],
            [
             0.8,
             "#7fbc41"
            ],
            [
             0.9,
             "#4d9221"
            ],
            [
             1,
             "#276419"
            ]
           ],
           "sequential": [
            [
             0,
             "#0d0887"
            ],
            [
             0.1111111111111111,
             "#46039f"
            ],
            [
             0.2222222222222222,
             "#7201a8"
            ],
            [
             0.3333333333333333,
             "#9c179e"
            ],
            [
             0.4444444444444444,
             "#bd3786"
            ],
            [
             0.5555555555555556,
             "#d8576b"
            ],
            [
             0.6666666666666666,
             "#ed7953"
            ],
            [
             0.7777777777777778,
             "#fb9f3a"
            ],
            [
             0.8888888888888888,
             "#fdca26"
            ],
            [
             1,
             "#f0f921"
            ]
           ],
           "sequentialminus": [
            [
             0,
             "#0d0887"
            ],
            [
             0.1111111111111111,
             "#46039f"
            ],
            [
             0.2222222222222222,
             "#7201a8"
            ],
            [
             0.3333333333333333,
             "#9c179e"
            ],
            [
             0.4444444444444444,
             "#bd3786"
            ],
            [
             0.5555555555555556,
             "#d8576b"
            ],
            [
             0.6666666666666666,
             "#ed7953"
            ],
            [
             0.7777777777777778,
             "#fb9f3a"
            ],
            [
             0.8888888888888888,
             "#fdca26"
            ],
            [
             1,
             "#f0f921"
            ]
           ]
          },
          "colorway": [
           "#636efa",
           "#EF553B",
           "#00cc96",
           "#ab63fa",
           "#FFA15A",
           "#19d3f3",
           "#FF6692",
           "#B6E880",
           "#FF97FF",
           "#FECB52"
          ],
          "font": {
           "color": "#2a3f5f"
          },
          "geo": {
           "bgcolor": "white",
           "lakecolor": "white",
           "landcolor": "#E5ECF6",
           "showlakes": true,
           "showland": true,
           "subunitcolor": "white"
          },
          "hoverlabel": {
           "align": "left"
          },
          "hovermode": "closest",
          "mapbox": {
           "style": "light"
          },
          "paper_bgcolor": "white",
          "plot_bgcolor": "#E5ECF6",
          "polar": {
           "angularaxis": {
            "gridcolor": "white",
            "linecolor": "white",
            "ticks": ""
           },
           "bgcolor": "#E5ECF6",
           "radialaxis": {
            "gridcolor": "white",
            "linecolor": "white",
            "ticks": ""
           }
          },
          "scene": {
           "xaxis": {
            "backgroundcolor": "#E5ECF6",
            "gridcolor": "white",
            "gridwidth": 2,
            "linecolor": "white",
            "showbackground": true,
            "ticks": "",
            "zerolinecolor": "white"
           },
           "yaxis": {
            "backgroundcolor": "#E5ECF6",
            "gridcolor": "white",
            "gridwidth": 2,
            "linecolor": "white",
            "showbackground": true,
            "ticks": "",
            "zerolinecolor": "white"
           },
           "zaxis": {
            "backgroundcolor": "#E5ECF6",
            "gridcolor": "white",
            "gridwidth": 2,
            "linecolor": "white",
            "showbackground": true,
            "ticks": "",
            "zerolinecolor": "white"
           }
          },
          "shapedefaults": {
           "line": {
            "color": "#2a3f5f"
           }
          },
          "ternary": {
           "aaxis": {
            "gridcolor": "white",
            "linecolor": "white",
            "ticks": ""
           },
           "baxis": {
            "gridcolor": "white",
            "linecolor": "white",
            "ticks": ""
           },
           "bgcolor": "#E5ECF6",
           "caxis": {
            "gridcolor": "white",
            "linecolor": "white",
            "ticks": ""
           }
          },
          "title": {
           "x": 0.05
          },
          "xaxis": {
           "automargin": true,
           "gridcolor": "white",
           "linecolor": "white",
           "ticks": "",
           "title": {
            "standoff": 15
           },
           "zerolinecolor": "white",
           "zerolinewidth": 2
          },
          "yaxis": {
           "automargin": true,
           "gridcolor": "white",
           "linecolor": "white",
           "ticks": "",
           "title": {
            "standoff": 15
           },
           "zerolinecolor": "white",
           "zerolinewidth": 2
          }
         }
        },
        "xaxis": {
         "title": {
          "font": {
           "size": 13
          },
          "text": "Jahr"
         }
        },
        "yaxis": {
         "title": {
          "font": {
           "size": 13
          },
          "text": "Anzahl Stellenanzeigen"
         }
        }
       }
      },
      "text/html": [
       "<div>                            <div id=\"ef2c2786-14ee-423b-b763-894bdcd85eb9\" class=\"plotly-graph-div\" style=\"height:525px; width:100%;\"></div>            <script type=\"text/javascript\">                require([\"plotly\"], function(Plotly) {                    window.PLOTLYENV=window.PLOTLYENV || {};                                    if (document.getElementById(\"ef2c2786-14ee-423b-b763-894bdcd85eb9\")) {                    Plotly.newPlot(                        \"ef2c2786-14ee-423b-b763-894bdcd85eb9\",                        [{\"name\":\"Total Stellenanzeigen\",\"x\":[2014,2015,2016,2017,2018,2019,2020,2021],\"y\":[20652,18268,16630,17696,16638,14350,16087,12444],\"type\":\"scatter\"},{\"name\":\"Stellenanzeigen, die \\\"Verwaltung/Bildung/Soziales\\\" anfordern\",\"text\":[\"23%\",\"25%\",\"25%\",\"25%\",\"24%\",\"27%\",\"26%\",\"27%\"],\"textposition\":\"inside\",\"x\":[2014,2015,2016,2017,2018,2019,2020,2021],\"y\":[4745,4507,4163,4397,4059,3893,4240,3416],\"type\":\"bar\"}],                        {\"template\":{\"data\":{\"bar\":[{\"error_x\":{\"color\":\"#2a3f5f\"},\"error_y\":{\"color\":\"#2a3f5f\"},\"marker\":{\"line\":{\"color\":\"#E5ECF6\",\"width\":0.5},\"pattern\":{\"fillmode\":\"overlay\",\"size\":10,\"solidity\":0.2}},\"type\":\"bar\"}],\"barpolar\":[{\"marker\":{\"line\":{\"color\":\"#E5ECF6\",\"width\":0.5},\"pattern\":{\"fillmode\":\"overlay\",\"size\":10,\"solidity\":0.2}},\"type\":\"barpolar\"}],\"carpet\":[{\"aaxis\":{\"endlinecolor\":\"#2a3f5f\",\"gridcolor\":\"white\",\"linecolor\":\"white\",\"minorgridcolor\":\"white\",\"startlinecolor\":\"#2a3f5f\"},\"baxis\":{\"endlinecolor\":\"#2a3f5f\",\"gridcolor\":\"white\",\"linecolor\":\"white\",\"minorgridcolor\":\"white\",\"startlinecolor\":\"#2a3f5f\"},\"type\":\"carpet\"}],\"choropleth\":[{\"colorbar\":{\"outlinewidth\":0,\"ticks\":\"\"},\"type\":\"choropleth\"}],\"contour\":[{\"colorbar\":{\"outlinewidth\":0,\"ticks\":\"\"},\"colorscale\":[[0.0,\"#0d0887\"],[0.1111111111111111,\"#46039f\"],[0.2222222222222222,\"#7201a8\"],[0.3333333333333333,\"#9c179e\"],[0.4444444444444444,\"#bd3786\"],[0.5555555555555556,\"#d8576b\"],[0.6666666666666666,\"#ed7953\"],[0.7777777777777778,\"#fb9f3a\"],[0.8888888888888888,\"#fdca26\"],[1.0,\"#f0f921\"]],\"type\":\"contour\"}],\"contourcarpet\":[{\"colorbar\":{\"outlinewidth\":0,\"ticks\":\"\"},\"type\":\"contourcarpet\"}],\"heatmap\":[{\"colorbar\":{\"outlinewidth\":0,\"ticks\":\"\"},\"colorscale\":[[0.0,\"#0d0887\"],[0.1111111111111111,\"#46039f\"],[0.2222222222222222,\"#7201a8\"],[0.3333333333333333,\"#9c179e\"],[0.4444444444444444,\"#bd3786\"],[0.5555555555555556,\"#d8576b\"],[0.6666666666666666,\"#ed7953\"],[0.7777777777777778,\"#fb9f3a\"],[0.8888888888888888,\"#fdca26\"],[1.0,\"#f0f921\"]],\"type\":\"heatmap\"}],\"heatmapgl\":[{\"colorbar\":{\"outlinewidth\":0,\"ticks\":\"\"},\"colorscale\":[[0.0,\"#0d0887\"],[0.1111111111111111,\"#46039f\"],[0.2222222222222222,\"#7201a8\"],[0.3333333333333333,\"#9c179e\"],[0.4444444444444444,\"#bd3786\"],[0.5555555555555556,\"#d8576b\"],[0.6666666666666666,\"#ed7953\"],[0.7777777777777778,\"#fb9f3a\"],[0.8888888888888888,\"#fdca26\"],[1.0,\"#f0f921\"]],\"type\":\"heatmapgl\"}],\"histogram\":[{\"marker\":{\"pattern\":{\"fillmode\":\"overlay\",\"size\":10,\"solidity\":0.2}},\"type\":\"histogram\"}],\"histogram2d\":[{\"colorbar\":{\"outlinewidth\":0,\"ticks\":\"\"},\"colorscale\":[[0.0,\"#0d0887\"],[0.1111111111111111,\"#46039f\"],[0.2222222222222222,\"#7201a8\"],[0.3333333333333333,\"#9c179e\"],[0.4444444444444444,\"#bd3786\"],[0.5555555555555556,\"#d8576b\"],[0.6666666666666666,\"#ed7953\"],[0.7777777777777778,\"#fb9f3a\"],[0.8888888888888888,\"#fdca26\"],[1.0,\"#f0f921\"]],\"type\":\"histogram2d\"}],\"histogram2dcontour\":[{\"colorbar\":{\"outlinewidth\":0,\"ticks\":\"\"},\"colorscale\":[[0.0,\"#0d0887\"],[0.1111111111111111,\"#46039f\"],[0.2222222222222222,\"#7201a8\"],[0.3333333333333333,\"#9c179e\"],[0.4444444444444444,\"#bd3786\"],[0.5555555555555556,\"#d8576b\"],[0.6666666666666666,\"#ed7953\"],[0.7777777777777778,\"#fb9f3a\"],[0.8888888888888888,\"#fdca26\"],[1.0,\"#f0f921\"]],\"type\":\"histogram2dcontour\"}],\"mesh3d\":[{\"colorbar\":{\"outlinewidth\":0,\"ticks\":\"\"},\"type\":\"mesh3d\"}],\"parcoords\":[{\"line\":{\"colorbar\":{\"outlinewidth\":0,\"ticks\":\"\"}},\"type\":\"parcoords\"}],\"pie\":[{\"automargin\":true,\"type\":\"pie\"}],\"scatter\":[{\"marker\":{\"colorbar\":{\"outlinewidth\":0,\"ticks\":\"\"}},\"type\":\"scatter\"}],\"scatter3d\":[{\"line\":{\"colorbar\":{\"outlinewidth\":0,\"ticks\":\"\"}},\"marker\":{\"colorbar\":{\"outlinewidth\":0,\"ticks\":\"\"}},\"type\":\"scatter3d\"}],\"scattercarpet\":[{\"marker\":{\"colorbar\":{\"outlinewidth\":0,\"ticks\":\"\"}},\"type\":\"scattercarpet\"}],\"scattergeo\":[{\"marker\":{\"colorbar\":{\"outlinewidth\":0,\"ticks\":\"\"}},\"type\":\"scattergeo\"}],\"scattergl\":[{\"marker\":{\"colorbar\":{\"outlinewidth\":0,\"ticks\":\"\"}},\"type\":\"scattergl\"}],\"scattermapbox\":[{\"marker\":{\"colorbar\":{\"outlinewidth\":0,\"ticks\":\"\"}},\"type\":\"scattermapbox\"}],\"scatterpolar\":[{\"marker\":{\"colorbar\":{\"outlinewidth\":0,\"ticks\":\"\"}},\"type\":\"scatterpolar\"}],\"scatterpolargl\":[{\"marker\":{\"colorbar\":{\"outlinewidth\":0,\"ticks\":\"\"}},\"type\":\"scatterpolargl\"}],\"scatterternary\":[{\"marker\":{\"colorbar\":{\"outlinewidth\":0,\"ticks\":\"\"}},\"type\":\"scatterternary\"}],\"surface\":[{\"colorbar\":{\"outlinewidth\":0,\"ticks\":\"\"},\"colorscale\":[[0.0,\"#0d0887\"],[0.1111111111111111,\"#46039f\"],[0.2222222222222222,\"#7201a8\"],[0.3333333333333333,\"#9c179e\"],[0.4444444444444444,\"#bd3786\"],[0.5555555555555556,\"#d8576b\"],[0.6666666666666666,\"#ed7953\"],[0.7777777777777778,\"#fb9f3a\"],[0.8888888888888888,\"#fdca26\"],[1.0,\"#f0f921\"]],\"type\":\"surface\"}],\"table\":[{\"cells\":{\"fill\":{\"color\":\"#EBF0F8\"},\"line\":{\"color\":\"white\"}},\"header\":{\"fill\":{\"color\":\"#C8D4E3\"},\"line\":{\"color\":\"white\"}},\"type\":\"table\"}]},\"layout\":{\"annotationdefaults\":{\"arrowcolor\":\"#2a3f5f\",\"arrowhead\":0,\"arrowwidth\":1},\"autotypenumbers\":\"strict\",\"coloraxis\":{\"colorbar\":{\"outlinewidth\":0,\"ticks\":\"\"}},\"colorscale\":{\"diverging\":[[0,\"#8e0152\"],[0.1,\"#c51b7d\"],[0.2,\"#de77ae\"],[0.3,\"#f1b6da\"],[0.4,\"#fde0ef\"],[0.5,\"#f7f7f7\"],[0.6,\"#e6f5d0\"],[0.7,\"#b8e186\"],[0.8,\"#7fbc41\"],[0.9,\"#4d9221\"],[1,\"#276419\"]],\"sequential\":[[0.0,\"#0d0887\"],[0.1111111111111111,\"#46039f\"],[0.2222222222222222,\"#7201a8\"],[0.3333333333333333,\"#9c179e\"],[0.4444444444444444,\"#bd3786\"],[0.5555555555555556,\"#d8576b\"],[0.6666666666666666,\"#ed7953\"],[0.7777777777777778,\"#fb9f3a\"],[0.8888888888888888,\"#fdca26\"],[1.0,\"#f0f921\"]],\"sequentialminus\":[[0.0,\"#0d0887\"],[0.1111111111111111,\"#46039f\"],[0.2222222222222222,\"#7201a8\"],[0.3333333333333333,\"#9c179e\"],[0.4444444444444444,\"#bd3786\"],[0.5555555555555556,\"#d8576b\"],[0.6666666666666666,\"#ed7953\"],[0.7777777777777778,\"#fb9f3a\"],[0.8888888888888888,\"#fdca26\"],[1.0,\"#f0f921\"]]},\"colorway\":[\"#636efa\",\"#EF553B\",\"#00cc96\",\"#ab63fa\",\"#FFA15A\",\"#19d3f3\",\"#FF6692\",\"#B6E880\",\"#FF97FF\",\"#FECB52\"],\"font\":{\"color\":\"#2a3f5f\"},\"geo\":{\"bgcolor\":\"white\",\"lakecolor\":\"white\",\"landcolor\":\"#E5ECF6\",\"showlakes\":true,\"showland\":true,\"subunitcolor\":\"white\"},\"hoverlabel\":{\"align\":\"left\"},\"hovermode\":\"closest\",\"mapbox\":{\"style\":\"light\"},\"paper_bgcolor\":\"white\",\"plot_bgcolor\":\"#E5ECF6\",\"polar\":{\"angularaxis\":{\"gridcolor\":\"white\",\"linecolor\":\"white\",\"ticks\":\"\"},\"bgcolor\":\"#E5ECF6\",\"radialaxis\":{\"gridcolor\":\"white\",\"linecolor\":\"white\",\"ticks\":\"\"}},\"scene\":{\"xaxis\":{\"backgroundcolor\":\"#E5ECF6\",\"gridcolor\":\"white\",\"gridwidth\":2,\"linecolor\":\"white\",\"showbackground\":true,\"ticks\":\"\",\"zerolinecolor\":\"white\"},\"yaxis\":{\"backgroundcolor\":\"#E5ECF6\",\"gridcolor\":\"white\",\"gridwidth\":2,\"linecolor\":\"white\",\"showbackground\":true,\"ticks\":\"\",\"zerolinecolor\":\"white\"},\"zaxis\":{\"backgroundcolor\":\"#E5ECF6\",\"gridcolor\":\"white\",\"gridwidth\":2,\"linecolor\":\"white\",\"showbackground\":true,\"ticks\":\"\",\"zerolinecolor\":\"white\"}},\"shapedefaults\":{\"line\":{\"color\":\"#2a3f5f\"}},\"ternary\":{\"aaxis\":{\"gridcolor\":\"white\",\"linecolor\":\"white\",\"ticks\":\"\"},\"baxis\":{\"gridcolor\":\"white\",\"linecolor\":\"white\",\"ticks\":\"\"},\"bgcolor\":\"#E5ECF6\",\"caxis\":{\"gridcolor\":\"white\",\"linecolor\":\"white\",\"ticks\":\"\"}},\"title\":{\"x\":0.05},\"xaxis\":{\"automargin\":true,\"gridcolor\":\"white\",\"linecolor\":\"white\",\"ticks\":\"\",\"title\":{\"standoff\":15},\"zerolinecolor\":\"white\",\"zerolinewidth\":2},\"yaxis\":{\"automargin\":true,\"gridcolor\":\"white\",\"linecolor\":\"white\",\"ticks\":\"\",\"title\":{\"standoff\":15},\"zerolinecolor\":\"white\",\"zerolinewidth\":2}}},\"yaxis\":{\"title\":{\"text\":\"Anzahl Stellenanzeigen\",\"font\":{\"size\":13}}},\"xaxis\":{\"title\":{\"text\":\"Jahr\",\"font\":{\"size\":13}}},\"legend\":{\"y\":1.15,\"x\":0.62}},                        {\"responsive\": true}                    ).then(function(){\n",
       "                            \n",
       "var gd = document.getElementById('ef2c2786-14ee-423b-b763-894bdcd85eb9');\n",
       "var x = new MutationObserver(function (mutations, observer) {{\n",
       "        var display = window.getComputedStyle(gd).display;\n",
       "        if (!display || display === 'none') {{\n",
       "            console.log([gd, 'removed!']);\n",
       "            Plotly.purge(gd);\n",
       "            observer.disconnect();\n",
       "        }}\n",
       "}});\n",
       "\n",
       "// Listen for the removal of the full notebook cells\n",
       "var notebookContainer = gd.closest('#notebook-container');\n",
       "if (notebookContainer) {{\n",
       "    x.observe(notebookContainer, {childList: true});\n",
       "}}\n",
       "\n",
       "// Listen for the clearing of the current output cell\n",
       "var outputEl = gd.closest('.output');\n",
       "if (outputEl) {{\n",
       "    x.observe(outputEl, {childList: true});\n",
       "}}\n",
       "\n",
       "                        })                };                });            </script>        </div>"
      ]
     },
     "metadata": {},
     "output_type": "display_data"
    }
   ],
   "source": [
    "#Einlesen der Inserate\n",
    "data = pd.read_csv(\"Inserate_clean_Gesamtdatenanalyse.csv\", sep=\";\")\n",
    "# Abbildung 13 (in Bachelorarbeit)\n",
    "# Historische Veränderungen der IT-Kenntnisse\n",
    "# Geht nur mit Text-Daten\n",
    "# Visualisierung prüft die Texte, da geschaut wird, ob eine Anforderung im Bereich IT-Kenntnisse vorhanden ist. \n",
    "new_words = ''\n",
    "count = 0\n",
    "for w in anforderungen.query('hauptkategorie == \"'+Hauptkategorie+'\"')['word']:\n",
    "    new_words = ' '+w+' ' + new_words\n",
    "    count += 1\n",
    "    if len(anforderungen.query('hauptkategorie == \"'+Hauptkategorie+'\"')) > count:\n",
    "        new_words = '|' + new_words\n",
    "year = data['year'].min()\n",
    "years = []\n",
    "total = []\n",
    "technisch = []\n",
    "prozent = []\n",
    "while year <= data['year'].max():\n",
    "    new_data = data.loc[data['year'] == year]\n",
    "    years.append(year)\n",
    "    total.append(len(new_data))\n",
    "    technisch.append(len(new_data[new_data['Text_Anforderungen'].str.contains(new_words, regex=True, flags=re.IGNORECASE, na=False)]))\n",
    "    prozent.append(str(round(len(new_data[new_data['Text_Anforderungen'].str.contains(new_words, regex=True, flags=re.IGNORECASE, na=False)]) / len(new_data)*100))+'%')\n",
    "    year +=1\n",
    "fig = go.Figure()\n",
    "fig.add_trace(\n",
    "    go.Scatter(\n",
    "        x=years,\n",
    "        y=total,\n",
    "        name = 'Total Stellenanzeigen'\n",
    "    ))\n",
    "fig.add_trace(\n",
    "    go.Bar(\n",
    "        x=years,\n",
    "        y=technisch,\n",
    "        name = 'Stellenanzeigen, die \"'+Hauptkategorie+'\" anfordern',\n",
    "        text= prozent,\n",
    "        textposition='inside'\n",
    "    ))\n",
    "fig.update_layout(\n",
    "    yaxis=dict(\n",
    "        title='Anzahl Stellenanzeigen',\n",
    "        titlefont_size=13),\n",
    "    xaxis=dict(\n",
    "        title='Jahr',\n",
    "        titlefont_size=13),\n",
    "    legend=dict(\n",
    "        y=1.15,\n",
    "        x=0.62))\n",
    "#fig.write_image(\"IT-Kenntnisse.svg\",width=1000, height=580)\n",
    "fig.show()"
   ]
  },
  {
   "cell_type": "code",
   "execution_count": null,
   "id": "77faf8cb",
   "metadata": {},
   "outputs": [],
   "source": []
  }
 ],
 "metadata": {
  "kernelspec": {
   "display_name": "Python 3 (ipykernel)",
   "language": "python",
   "name": "python3"
  },
  "language_info": {
   "codemirror_mode": {
    "name": "ipython",
    "version": 3
   },
   "file_extension": ".py",
   "mimetype": "text/x-python",
   "name": "python",
   "nbconvert_exporter": "python",
   "pygments_lexer": "ipython3",
   "version": "3.8.12"
  }
 },
 "nbformat": 4,
 "nbformat_minor": 5
}
