{
 "cells": [
  {
   "cell_type": "markdown",
   "metadata": {},
   "source": [
    "# __Gesamtdatenanalyse__\n",
    "\n",
    "In diesem Teil werden die Stelleninserate untersucht, indem die Wörter aus dem Wörterbuch im Inserat gezählt werden."
   ]
  },
  {
   "cell_type": "code",
   "execution_count": 2,
   "metadata": {},
   "outputs": [
    {
     "name": "stdout",
     "output_type": "stream",
     "text": [
      "C:\\Users\\Sven Konermann\\Documents\\Master\\2_Semester\\aF_E_Faelle\\Unterlagen\\00_all\n",
      "['Anzahl_Inserate_Anforderungsdaten.pdf', 'Anzahl_Inserate_Gesamtdaten.pdf', 'Inserate_Anforderungsanalyse.csv', 'Inserate_clean_Anforderungsanalyse.csv', 'Inserate_clean_Gesamtdatenanalyse.csv', 'Inserate_clean_Test.csv', 'Inserate_Gesamtdatenanalyse.csv', 'Inserate_Gesamtdatenanalyse_.csv', 'my_fig.pdf', 'ngram_count_all_Data.csv', 'Subset_Accounting.csv', 'Subset_all.csv', 'Subset_ApplManager.csv', 'Subset_Business_Analyst.csv', 'Subset_Data_Science.csv', 'Subset_HR.csv', 'Subset_IT_Consulting.csv', 'Subset_IT_Projektmanagement.csv']\n"
     ]
    }
   ],
   "source": [
    "# Import der benötigten Libraries\n",
    "import pandas as pd\n",
    "import nltk\n",
    "import numpy as np\n",
    "import re\n",
    "import os\n",
    "\n",
    "pd.set_option('display.max_colwidth', 50)\n",
    "\n",
    "# Working-Directory\n",
    "os.chdir('C:/Users/Sven Konermann/Documents/Master/2_Semester/aF_E_Faelle/Unterlagen/00_all')\n",
    "print(os.getcwd())\n",
    "\n",
    "# Files im Directory\n",
    "print(os.listdir())"
   ]
  },
  {
   "cell_type": "code",
   "execution_count": 3,
   "metadata": {},
   "outputs": [
    {
     "name": "stdout",
     "output_type": "stream",
     "text": [
      "(40821, 10)\n"
     ]
    }
   ],
   "source": [
    "data = pd.read_csv(\"Inserate_clean_Gesamtdatenanalyse.csv\", sep=\";\")\n",
    "data = data[~data['Text_Anforderungen'].isnull()] # Wenn NULL-Werte, lösche diese\n",
    "print(data.shape)"
   ]
  },
  {
   "cell_type": "markdown",
   "metadata": {},
   "source": [
    "Suche nach Teil-Wörtern und Phrasen"
   ]
  },
  {
   "cell_type": "code",
   "execution_count": 4,
   "metadata": {},
   "outputs": [
    {
     "ename": "FileNotFoundError",
     "evalue": "[Errno 2] No such file or directory: 'Phrasenwoerter.xlsx'",
     "output_type": "error",
     "traceback": [
      "\u001b[1;31m---------------------------------------------------------------------------\u001b[0m",
      "\u001b[1;31mFileNotFoundError\u001b[0m                         Traceback (most recent call last)",
      "Input \u001b[1;32mIn [4]\u001b[0m, in \u001b[0;36m<cell line: 2>\u001b[1;34m()\u001b[0m\n\u001b[0;32m      1\u001b[0m \u001b[38;5;66;03m# Einlesen vordefiniertes Wörterbuch\u001b[39;00m\n\u001b[1;32m----> 2\u001b[0m set_phrases \u001b[38;5;241m=\u001b[39m \u001b[43mpd\u001b[49m\u001b[38;5;241;43m.\u001b[39;49m\u001b[43mread_excel\u001b[49m\u001b[43m(\u001b[49m\u001b[38;5;124;43m'\u001b[39;49m\u001b[38;5;124;43mPhrasenwoerter.xlsx\u001b[39;49m\u001b[38;5;124;43m'\u001b[39;49m\u001b[43m)\u001b[49m\n\u001b[0;32m      3\u001b[0m set_phrases\u001b[38;5;241m.\u001b[39mhead()\n",
      "File \u001b[1;32m~\\anaconda3\\lib\\site-packages\\pandas\\util\\_decorators.py:311\u001b[0m, in \u001b[0;36mdeprecate_nonkeyword_arguments.<locals>.decorate.<locals>.wrapper\u001b[1;34m(*args, **kwargs)\u001b[0m\n\u001b[0;32m    305\u001b[0m \u001b[38;5;28;01mif\u001b[39;00m \u001b[38;5;28mlen\u001b[39m(args) \u001b[38;5;241m>\u001b[39m num_allow_args:\n\u001b[0;32m    306\u001b[0m     warnings\u001b[38;5;241m.\u001b[39mwarn(\n\u001b[0;32m    307\u001b[0m         msg\u001b[38;5;241m.\u001b[39mformat(arguments\u001b[38;5;241m=\u001b[39marguments),\n\u001b[0;32m    308\u001b[0m         \u001b[38;5;167;01mFutureWarning\u001b[39;00m,\n\u001b[0;32m    309\u001b[0m         stacklevel\u001b[38;5;241m=\u001b[39mstacklevel,\n\u001b[0;32m    310\u001b[0m     )\n\u001b[1;32m--> 311\u001b[0m \u001b[38;5;28;01mreturn\u001b[39;00m \u001b[43mfunc\u001b[49m\u001b[43m(\u001b[49m\u001b[38;5;241;43m*\u001b[39;49m\u001b[43margs\u001b[49m\u001b[43m,\u001b[49m\u001b[43m \u001b[49m\u001b[38;5;241;43m*\u001b[39;49m\u001b[38;5;241;43m*\u001b[39;49m\u001b[43mkwargs\u001b[49m\u001b[43m)\u001b[49m\n",
      "File \u001b[1;32m~\\anaconda3\\lib\\site-packages\\pandas\\io\\excel\\_base.py:457\u001b[0m, in \u001b[0;36mread_excel\u001b[1;34m(io, sheet_name, header, names, index_col, usecols, squeeze, dtype, engine, converters, true_values, false_values, skiprows, nrows, na_values, keep_default_na, na_filter, verbose, parse_dates, date_parser, thousands, decimal, comment, skipfooter, convert_float, mangle_dupe_cols, storage_options)\u001b[0m\n\u001b[0;32m    455\u001b[0m \u001b[38;5;28;01mif\u001b[39;00m \u001b[38;5;129;01mnot\u001b[39;00m \u001b[38;5;28misinstance\u001b[39m(io, ExcelFile):\n\u001b[0;32m    456\u001b[0m     should_close \u001b[38;5;241m=\u001b[39m \u001b[38;5;28;01mTrue\u001b[39;00m\n\u001b[1;32m--> 457\u001b[0m     io \u001b[38;5;241m=\u001b[39m \u001b[43mExcelFile\u001b[49m\u001b[43m(\u001b[49m\u001b[43mio\u001b[49m\u001b[43m,\u001b[49m\u001b[43m \u001b[49m\u001b[43mstorage_options\u001b[49m\u001b[38;5;241;43m=\u001b[39;49m\u001b[43mstorage_options\u001b[49m\u001b[43m,\u001b[49m\u001b[43m \u001b[49m\u001b[43mengine\u001b[49m\u001b[38;5;241;43m=\u001b[39;49m\u001b[43mengine\u001b[49m\u001b[43m)\u001b[49m\n\u001b[0;32m    458\u001b[0m \u001b[38;5;28;01melif\u001b[39;00m engine \u001b[38;5;129;01mand\u001b[39;00m engine \u001b[38;5;241m!=\u001b[39m io\u001b[38;5;241m.\u001b[39mengine:\n\u001b[0;32m    459\u001b[0m     \u001b[38;5;28;01mraise\u001b[39;00m \u001b[38;5;167;01mValueError\u001b[39;00m(\n\u001b[0;32m    460\u001b[0m         \u001b[38;5;124m\"\u001b[39m\u001b[38;5;124mEngine should not be specified when passing \u001b[39m\u001b[38;5;124m\"\u001b[39m\n\u001b[0;32m    461\u001b[0m         \u001b[38;5;124m\"\u001b[39m\u001b[38;5;124man ExcelFile - ExcelFile already has the engine set\u001b[39m\u001b[38;5;124m\"\u001b[39m\n\u001b[0;32m    462\u001b[0m     )\n",
      "File \u001b[1;32m~\\anaconda3\\lib\\site-packages\\pandas\\io\\excel\\_base.py:1376\u001b[0m, in \u001b[0;36mExcelFile.__init__\u001b[1;34m(self, path_or_buffer, engine, storage_options)\u001b[0m\n\u001b[0;32m   1374\u001b[0m     ext \u001b[38;5;241m=\u001b[39m \u001b[38;5;124m\"\u001b[39m\u001b[38;5;124mxls\u001b[39m\u001b[38;5;124m\"\u001b[39m\n\u001b[0;32m   1375\u001b[0m \u001b[38;5;28;01melse\u001b[39;00m:\n\u001b[1;32m-> 1376\u001b[0m     ext \u001b[38;5;241m=\u001b[39m \u001b[43minspect_excel_format\u001b[49m\u001b[43m(\u001b[49m\n\u001b[0;32m   1377\u001b[0m \u001b[43m        \u001b[49m\u001b[43mcontent_or_path\u001b[49m\u001b[38;5;241;43m=\u001b[39;49m\u001b[43mpath_or_buffer\u001b[49m\u001b[43m,\u001b[49m\u001b[43m \u001b[49m\u001b[43mstorage_options\u001b[49m\u001b[38;5;241;43m=\u001b[39;49m\u001b[43mstorage_options\u001b[49m\n\u001b[0;32m   1378\u001b[0m \u001b[43m    \u001b[49m\u001b[43m)\u001b[49m\n\u001b[0;32m   1379\u001b[0m     \u001b[38;5;28;01mif\u001b[39;00m ext \u001b[38;5;129;01mis\u001b[39;00m \u001b[38;5;28;01mNone\u001b[39;00m:\n\u001b[0;32m   1380\u001b[0m         \u001b[38;5;28;01mraise\u001b[39;00m \u001b[38;5;167;01mValueError\u001b[39;00m(\n\u001b[0;32m   1381\u001b[0m             \u001b[38;5;124m\"\u001b[39m\u001b[38;5;124mExcel file format cannot be determined, you must specify \u001b[39m\u001b[38;5;124m\"\u001b[39m\n\u001b[0;32m   1382\u001b[0m             \u001b[38;5;124m\"\u001b[39m\u001b[38;5;124man engine manually.\u001b[39m\u001b[38;5;124m\"\u001b[39m\n\u001b[0;32m   1383\u001b[0m         )\n",
      "File \u001b[1;32m~\\anaconda3\\lib\\site-packages\\pandas\\io\\excel\\_base.py:1250\u001b[0m, in \u001b[0;36minspect_excel_format\u001b[1;34m(content_or_path, storage_options)\u001b[0m\n\u001b[0;32m   1247\u001b[0m \u001b[38;5;28;01mif\u001b[39;00m \u001b[38;5;28misinstance\u001b[39m(content_or_path, \u001b[38;5;28mbytes\u001b[39m):\n\u001b[0;32m   1248\u001b[0m     content_or_path \u001b[38;5;241m=\u001b[39m BytesIO(content_or_path)\n\u001b[1;32m-> 1250\u001b[0m \u001b[38;5;28;01mwith\u001b[39;00m \u001b[43mget_handle\u001b[49m\u001b[43m(\u001b[49m\n\u001b[0;32m   1251\u001b[0m \u001b[43m    \u001b[49m\u001b[43mcontent_or_path\u001b[49m\u001b[43m,\u001b[49m\u001b[43m \u001b[49m\u001b[38;5;124;43m\"\u001b[39;49m\u001b[38;5;124;43mrb\u001b[39;49m\u001b[38;5;124;43m\"\u001b[39;49m\u001b[43m,\u001b[49m\u001b[43m \u001b[49m\u001b[43mstorage_options\u001b[49m\u001b[38;5;241;43m=\u001b[39;49m\u001b[43mstorage_options\u001b[49m\u001b[43m,\u001b[49m\u001b[43m \u001b[49m\u001b[43mis_text\u001b[49m\u001b[38;5;241;43m=\u001b[39;49m\u001b[38;5;28;43;01mFalse\u001b[39;49;00m\n\u001b[0;32m   1252\u001b[0m \u001b[43m\u001b[49m\u001b[43m)\u001b[49m \u001b[38;5;28;01mas\u001b[39;00m handle:\n\u001b[0;32m   1253\u001b[0m     stream \u001b[38;5;241m=\u001b[39m handle\u001b[38;5;241m.\u001b[39mhandle\n\u001b[0;32m   1254\u001b[0m     stream\u001b[38;5;241m.\u001b[39mseek(\u001b[38;5;241m0\u001b[39m)\n",
      "File \u001b[1;32m~\\anaconda3\\lib\\site-packages\\pandas\\io\\common.py:798\u001b[0m, in \u001b[0;36mget_handle\u001b[1;34m(path_or_buf, mode, encoding, compression, memory_map, is_text, errors, storage_options)\u001b[0m\n\u001b[0;32m    789\u001b[0m         handle \u001b[38;5;241m=\u001b[39m \u001b[38;5;28mopen\u001b[39m(\n\u001b[0;32m    790\u001b[0m             handle,\n\u001b[0;32m    791\u001b[0m             ioargs\u001b[38;5;241m.\u001b[39mmode,\n\u001b[1;32m   (...)\u001b[0m\n\u001b[0;32m    794\u001b[0m             newline\u001b[38;5;241m=\u001b[39m\u001b[38;5;124m\"\u001b[39m\u001b[38;5;124m\"\u001b[39m,\n\u001b[0;32m    795\u001b[0m         )\n\u001b[0;32m    796\u001b[0m     \u001b[38;5;28;01melse\u001b[39;00m:\n\u001b[0;32m    797\u001b[0m         \u001b[38;5;66;03m# Binary mode\u001b[39;00m\n\u001b[1;32m--> 798\u001b[0m         handle \u001b[38;5;241m=\u001b[39m \u001b[38;5;28;43mopen\u001b[39;49m\u001b[43m(\u001b[49m\u001b[43mhandle\u001b[49m\u001b[43m,\u001b[49m\u001b[43m \u001b[49m\u001b[43mioargs\u001b[49m\u001b[38;5;241;43m.\u001b[39;49m\u001b[43mmode\u001b[49m\u001b[43m)\u001b[49m\n\u001b[0;32m    799\u001b[0m     handles\u001b[38;5;241m.\u001b[39mappend(handle)\n\u001b[0;32m    801\u001b[0m \u001b[38;5;66;03m# Convert BytesIO or file objects passed with an encoding\u001b[39;00m\n",
      "\u001b[1;31mFileNotFoundError\u001b[0m: [Errno 2] No such file or directory: 'Phrasenwoerter.xlsx'"
     ]
    }
   ],
   "source": [
    "# Einlesen vordefiniertes Wörterbuch\n",
    "set_phrases = pd.read_excel('Phrasenwoerter.xlsx')\n",
    "set_phrases.head()"
   ]
  },
  {
   "cell_type": "code",
   "execution_count": 5,
   "metadata": {},
   "outputs": [],
   "source": [
    "# Vergleichen unique words, ob sie vorkommen im Text_new. Unique words list kommt vom Tokanizing oben.\n",
    "year = data['year'].min()\n",
    "count = 0\n",
    "while year <= data['year'].max():\n",
    "    wordsets_phrases = data.loc[data['year'] == year]['Text_Anforderungen'] # Text Detok, da n-grams nach dem gesucht wurden\n",
    "    for word in set_phrases['word']:\n",
    "        count = sum(1 for s in wordsets_phrases if word in s)\n",
    "        index = set_phrases[set_phrases['word']==word].index\n",
    "        set_phrases.loc[index, year] = count\n",
    "        set_phrases.loc[index, str(year) + ' %'] = (count / len(wordsets_phrases))    \n",
    "    \n",
    "    year += 1"
   ]
  },
  {
   "cell_type": "markdown",
   "metadata": {},
   "source": [
    "Suche nach Fix-Wörtern, die genau so vorkommen müssen"
   ]
  },
  {
   "cell_type": "code",
   "execution_count": 7,
   "metadata": {},
   "outputs": [],
   "source": [
    "set_fix = pd.read_excel(\"Fixwoerter.xlsx\")"
   ]
  },
  {
   "cell_type": "code",
   "execution_count": 8,
   "metadata": {},
   "outputs": [
    {
     "data": {
      "text/plain": [
       "0      [abap]\n",
       "1         [c]\n",
       "2      [java]\n",
       "3     [plsql]\n",
       "4    [python]\n",
       "5         [r]\n",
       "6    [apache]\n",
       "7     [azure]\n",
       "8    [citrix]\n",
       "9      [hana]\n",
       "Name: text_tok, dtype: object"
      ]
     },
     "execution_count": 8,
     "metadata": {},
     "output_type": "execute_result"
    }
   ],
   "source": [
    "# Anforderungen Tokenisieren\n",
    "set_fix['text_tok'] = set_fix.apply(lambda row: nltk.word_tokenize(row['word']), axis=1)\n",
    "set_fix['text_tok'].head(10)"
   ]
  },
  {
   "cell_type": "code",
   "execution_count": 9,
   "metadata": {},
   "outputs": [],
   "source": [
    "# Anforderungen in einem Set speichern\n",
    "new_set = set()\n",
    "set_fix['text_tok'].apply(new_set.update)\n",
    "u = new_set"
   ]
  },
  {
   "cell_type": "code",
   "execution_count": 10,
   "metadata": {},
   "outputs": [],
   "source": [
    "# Vergleiche unique words, ob sie vorkommen im Text_new. Unique words list kommt vom Tokanizing oben.\n",
    "year = data['year'].min()\n",
    "\n",
    "while year <= data['year'].max():    \n",
    "    wordsets_fix = [ frozenset(document.split(' ')) for document in data.loc[data['year'] == year]['Text_Anforderungen'] ]\n",
    "    for word in u:\n",
    "        count = sum( 1 for s in wordsets_fix if word in s )\n",
    "        index = set_fix[set_fix['word']==word].index\n",
    "        set_fix.loc[index, year] = count\n",
    "        set_fix.loc[index, str(year) + ' %'] = (count / len(wordsets_phrases))\n",
    "\n",
    "    year += 1"
   ]
  },
  {
   "cell_type": "code",
   "execution_count": 11,
   "metadata": {},
   "outputs": [
    {
     "name": "stderr",
     "output_type": "stream",
     "text": [
      "C:\\Users\\Sven Konermann\\AppData\\Local\\Temp\\ipykernel_61460\\2611590460.py:1: FutureWarning: The frame.append method is deprecated and will be removed from pandas in a future version. Use pandas.concat instead.\n",
      "  anforderungen = set_phrases.append(set_fix, ignore_index=True)\n"
     ]
    }
   ],
   "source": [
    "anforderungen = set_phrases.append(set_fix, ignore_index=True)"
   ]
  },
  {
   "cell_type": "code",
   "execution_count": 12,
   "metadata": {},
   "outputs": [
    {
     "data": {
      "text/html": [
       "<div>\n",
       "<style scoped>\n",
       "    .dataframe tbody tr th:only-of-type {\n",
       "        vertical-align: middle;\n",
       "    }\n",
       "\n",
       "    .dataframe tbody tr th {\n",
       "        vertical-align: top;\n",
       "    }\n",
       "\n",
       "    .dataframe thead th {\n",
       "        text-align: right;\n",
       "    }\n",
       "</style>\n",
       "<table border=\"1\" class=\"dataframe\">\n",
       "  <thead>\n",
       "    <tr style=\"text-align: right;\">\n",
       "      <th></th>\n",
       "      <th>word</th>\n",
       "      <th>kategorie</th>\n",
       "      <th>kategorie_name</th>\n",
       "      <th>hauptkategorie</th>\n",
       "      <th>2014</th>\n",
       "      <th>2014 %</th>\n",
       "      <th>2015</th>\n",
       "      <th>2015 %</th>\n",
       "      <th>2016</th>\n",
       "      <th>2016 %</th>\n",
       "      <th>...</th>\n",
       "      <th>2017 %</th>\n",
       "      <th>2018</th>\n",
       "      <th>2018 %</th>\n",
       "      <th>2019</th>\n",
       "      <th>2019 %</th>\n",
       "      <th>2020</th>\n",
       "      <th>2020 %</th>\n",
       "      <th>2021</th>\n",
       "      <th>2021 %</th>\n",
       "      <th>text_tok</th>\n",
       "    </tr>\n",
       "  </thead>\n",
       "  <tbody>\n",
       "    <tr>\n",
       "      <th>10</th>\n",
       "      <td>deutsch</td>\n",
       "      <td>8</td>\n",
       "      <td>Sprachkenntnisse</td>\n",
       "      <td>Sprachen</td>\n",
       "      <td>501.0</td>\n",
       "      <td>0.673387</td>\n",
       "      <td>412.0</td>\n",
       "      <td>0.642746</td>\n",
       "      <td>445.0</td>\n",
       "      <td>0.645864</td>\n",
       "      <td>...</td>\n",
       "      <td>0.656552</td>\n",
       "      <td>511.0</td>\n",
       "      <td>0.687752</td>\n",
       "      <td>465.0</td>\n",
       "      <td>0.665236</td>\n",
       "      <td>441.0</td>\n",
       "      <td>0.732558</td>\n",
       "      <td>334.0</td>\n",
       "      <td>0.668</td>\n",
       "      <td>NaN</td>\n",
       "    </tr>\n",
       "    <tr>\n",
       "      <th>11</th>\n",
       "      <td>englisch</td>\n",
       "      <td>8</td>\n",
       "      <td>Sprachkenntnisse</td>\n",
       "      <td>Sprachen</td>\n",
       "      <td>406.0</td>\n",
       "      <td>0.545699</td>\n",
       "      <td>311.0</td>\n",
       "      <td>0.485179</td>\n",
       "      <td>353.0</td>\n",
       "      <td>0.512337</td>\n",
       "      <td>...</td>\n",
       "      <td>0.544828</td>\n",
       "      <td>413.0</td>\n",
       "      <td>0.555855</td>\n",
       "      <td>378.0</td>\n",
       "      <td>0.540773</td>\n",
       "      <td>332.0</td>\n",
       "      <td>0.551495</td>\n",
       "      <td>256.0</td>\n",
       "      <td>0.512</td>\n",
       "      <td>NaN</td>\n",
       "    </tr>\n",
       "    <tr>\n",
       "      <th>21</th>\n",
       "      <td>teamfähig</td>\n",
       "      <td>12</td>\n",
       "      <td>Soft Skills</td>\n",
       "      <td>Soft Skills</td>\n",
       "      <td>296.0</td>\n",
       "      <td>0.397849</td>\n",
       "      <td>208.0</td>\n",
       "      <td>0.324493</td>\n",
       "      <td>232.0</td>\n",
       "      <td>0.336720</td>\n",
       "      <td>...</td>\n",
       "      <td>0.348966</td>\n",
       "      <td>299.0</td>\n",
       "      <td>0.402423</td>\n",
       "      <td>274.0</td>\n",
       "      <td>0.391989</td>\n",
       "      <td>247.0</td>\n",
       "      <td>0.410299</td>\n",
       "      <td>202.0</td>\n",
       "      <td>0.404</td>\n",
       "      <td>NaN</td>\n",
       "    </tr>\n",
       "    <tr>\n",
       "      <th>25</th>\n",
       "      <td>selbständig</td>\n",
       "      <td>12</td>\n",
       "      <td>Soft Skills</td>\n",
       "      <td>Soft Skills</td>\n",
       "      <td>179.0</td>\n",
       "      <td>0.240591</td>\n",
       "      <td>164.0</td>\n",
       "      <td>0.255850</td>\n",
       "      <td>163.0</td>\n",
       "      <td>0.236575</td>\n",
       "      <td>...</td>\n",
       "      <td>0.251034</td>\n",
       "      <td>193.0</td>\n",
       "      <td>0.259758</td>\n",
       "      <td>211.0</td>\n",
       "      <td>0.301860</td>\n",
       "      <td>175.0</td>\n",
       "      <td>0.290698</td>\n",
       "      <td>131.0</td>\n",
       "      <td>0.262</td>\n",
       "      <td>NaN</td>\n",
       "    </tr>\n",
       "    <tr>\n",
       "      <th>68</th>\n",
       "      <td>berufserfahrung</td>\n",
       "      <td>9</td>\n",
       "      <td>Berufserfahrung</td>\n",
       "      <td>Abschlüsse und Berufserfahrung</td>\n",
       "      <td>148.0</td>\n",
       "      <td>0.296000</td>\n",
       "      <td>116.0</td>\n",
       "      <td>0.232000</td>\n",
       "      <td>146.0</td>\n",
       "      <td>0.292000</td>\n",
       "      <td>...</td>\n",
       "      <td>0.422000</td>\n",
       "      <td>171.0</td>\n",
       "      <td>0.342000</td>\n",
       "      <td>174.0</td>\n",
       "      <td>0.348000</td>\n",
       "      <td>145.0</td>\n",
       "      <td>0.290000</td>\n",
       "      <td>101.0</td>\n",
       "      <td>0.202</td>\n",
       "      <td>[berufserfahrung]</td>\n",
       "    </tr>\n",
       "  </tbody>\n",
       "</table>\n",
       "<p>5 rows × 21 columns</p>\n",
       "</div>"
      ],
      "text/plain": [
       "               word  kategorie    kategorie_name  \\\n",
       "10          deutsch          8  Sprachkenntnisse   \n",
       "11         englisch          8  Sprachkenntnisse   \n",
       "21        teamfähig         12       Soft Skills   \n",
       "25      selbständig         12       Soft Skills   \n",
       "68  berufserfahrung          9   Berufserfahrung   \n",
       "\n",
       "                    hauptkategorie   2014    2014 %   2015    2015 %   2016  \\\n",
       "10                        Sprachen  501.0  0.673387  412.0  0.642746  445.0   \n",
       "11                        Sprachen  406.0  0.545699  311.0  0.485179  353.0   \n",
       "21                     Soft Skills  296.0  0.397849  208.0  0.324493  232.0   \n",
       "25                     Soft Skills  179.0  0.240591  164.0  0.255850  163.0   \n",
       "68  Abschlüsse und Berufserfahrung  148.0  0.296000  116.0  0.232000  146.0   \n",
       "\n",
       "      2016 %  ...    2017 %   2018    2018 %   2019    2019 %   2020  \\\n",
       "10  0.645864  ...  0.656552  511.0  0.687752  465.0  0.665236  441.0   \n",
       "11  0.512337  ...  0.544828  413.0  0.555855  378.0  0.540773  332.0   \n",
       "21  0.336720  ...  0.348966  299.0  0.402423  274.0  0.391989  247.0   \n",
       "25  0.236575  ...  0.251034  193.0  0.259758  211.0  0.301860  175.0   \n",
       "68  0.292000  ...  0.422000  171.0  0.342000  174.0  0.348000  145.0   \n",
       "\n",
       "      2020 %   2021  2021 %           text_tok  \n",
       "10  0.732558  334.0   0.668                NaN  \n",
       "11  0.551495  256.0   0.512                NaN  \n",
       "21  0.410299  202.0   0.404                NaN  \n",
       "25  0.290698  131.0   0.262                NaN  \n",
       "68  0.290000  101.0   0.202  [berufserfahrung]  \n",
       "\n",
       "[5 rows x 21 columns]"
      ]
     },
     "execution_count": 12,
     "metadata": {},
     "output_type": "execute_result"
    }
   ],
   "source": [
    "# Anforderungen mit den meisten Nennungen\n",
    "anforderungen.sort_values(by=2021,ascending=False).head(5)"
   ]
  },
  {
   "cell_type": "code",
   "execution_count": 13,
   "metadata": {},
   "outputs": [],
   "source": [
    "# Nur für Daten mit Jobcloud\n",
    "anforderungen.to_csv(\"ausgewertete_Anforderungen.csv\", sep=\";\")"
   ]
  }
 ],
 "metadata": {
  "kernelspec": {
   "display_name": "Python 3 (ipykernel)",
   "language": "python",
   "name": "python3"
  },
  "language_info": {
   "codemirror_mode": {
    "name": "ipython",
    "version": 3
   },
   "file_extension": ".py",
   "mimetype": "text/x-python",
   "name": "python",
   "nbconvert_exporter": "python",
   "pygments_lexer": "ipython3",
   "version": "3.8.12"
  }
 },
 "nbformat": 4,
 "nbformat_minor": 4
}
