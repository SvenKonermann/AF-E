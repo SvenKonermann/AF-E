{
 "cells": [
  {
   "cell_type": "code",
   "execution_count": 1,
   "id": "658f037d",
   "metadata": {},
   "outputs": [
    {
     "name": "stdout",
     "output_type": "stream",
     "text": [
      "                                   col\n",
      "0                   apple is delicious\n",
      "1                  banana is delicious\n",
      "2  apple and banana both are delicious\n",
      "3                        dogs and cats\n"
     ]
    },
    {
     "data": {
      "text/html": [
       "<div>\n",
       "<style scoped>\n",
       "    .dataframe tbody tr th:only-of-type {\n",
       "        vertical-align: middle;\n",
       "    }\n",
       "\n",
       "    .dataframe tbody tr th {\n",
       "        vertical-align: top;\n",
       "    }\n",
       "\n",
       "    .dataframe thead th {\n",
       "        text-align: right;\n",
       "    }\n",
       "</style>\n",
       "<table border=\"1\" class=\"dataframe\">\n",
       "  <thead>\n",
       "    <tr style=\"text-align: right;\">\n",
       "      <th></th>\n",
       "      <th>col</th>\n",
       "    </tr>\n",
       "  </thead>\n",
       "  <tbody>\n",
       "    <tr>\n",
       "      <th>0</th>\n",
       "      <td>apple is delicious</td>\n",
       "    </tr>\n",
       "    <tr>\n",
       "      <th>2</th>\n",
       "      <td>apple and banana both are delicious</td>\n",
       "    </tr>\n",
       "    <tr>\n",
       "      <th>3</th>\n",
       "      <td>dogs and cats</td>\n",
       "    </tr>\n",
       "  </tbody>\n",
       "</table>\n",
       "</div>"
      ],
      "text/plain": [
       "                                   col\n",
       "0                   apple is delicious\n",
       "2  apple and banana both are delicious\n",
       "3                        dogs and cats"
      ]
     },
     "execution_count": 1,
     "metadata": {},
     "output_type": "execute_result"
    }
   ],
   "source": [
    "import pandas as pd\n",
    "\n",
    "df = pd.DataFrame({'col': [\"apple is delicious\",\n",
    "                           \"banana is delicious\",\n",
    "                           \"apple and banana both are delicious\",\n",
    "                           \"dogs and cats\"]})\n",
    "print(df)\n",
    "\n",
    "targets = ['apple', 'banana']\n",
    "\n",
    "df[ df['col'].str.contains('apple') & df['col'].str.contains('is') |\n",
    "    df['col'].str.contains('banana') & df['col'].str.contains('are') |\n",
    "    df['col'].str.contains('dogs')\n",
    "  ]"
   ]
  }
 ],
 "metadata": {
  "kernelspec": {
   "display_name": "Python 3 (ipykernel)",
   "language": "python",
   "name": "python3"
  },
  "language_info": {
   "codemirror_mode": {
    "name": "ipython",
    "version": 3
   },
   "file_extension": ".py",
   "mimetype": "text/x-python",
   "name": "python",
   "nbconvert_exporter": "python",
   "pygments_lexer": "ipython3",
   "version": "3.8.12"
  }
 },
 "nbformat": 4,
 "nbformat_minor": 5
}
