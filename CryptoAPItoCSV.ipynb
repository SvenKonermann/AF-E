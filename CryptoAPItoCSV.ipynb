{
  "nbformat": 4,
  "nbformat_minor": 0,
  "metadata": {
    "colab": {
      "name": "Untitled14.ipynb",
      "provenance": [],
      "authorship_tag": "ABX9TyMLE5iNJxj8DMqItCmB+EXQ",
      "include_colab_link": true
    },
    "kernelspec": {
      "name": "python3",
      "display_name": "Python 3"
    },
    "language_info": {
      "name": "python"
    }
  },
  "cells": [
    {
      "cell_type": "markdown",
      "metadata": {
        "id": "view-in-github",
        "colab_type": "text"
      },
      "source": [
        "<a href=\"https://colab.research.google.com/github/SvenKonermann/AF-E/blob/main/CryptoAPItoCSV.ipynb\" target=\"_parent\"><img src=\"https://colab.research.google.com/assets/colab-badge.svg\" alt=\"Open In Colab\"/></a>"
      ]
    },
    {
      "cell_type": "code",
      "execution_count": 1,
      "metadata": {
        "id": "MIVb_Ef281a3"
      },
      "outputs": [],
      "source": [
        "import requests\n",
        "import csv\n",
        "import pandas as pd\n"
      ]
    },
    {
      "cell_type": "code",
      "source": [
        "url = 'http://api.coincap.io/v2/assets'"
      ],
      "metadata": {
        "id": "9JBE7tfj88uG"
      },
      "execution_count": 2,
      "outputs": []
    },
    {
      "cell_type": "code",
      "source": [
        "headers = {\n",
        "    'Accept': 'application/json',\n",
        "    'Content-Type': 'application/json'\n",
        "}"
      ],
      "metadata": {
        "id": "hJ5lksy-88wO"
      },
      "execution_count": 3,
      "outputs": []
    },
    {
      "cell_type": "code",
      "source": [
        "response = requests.request(\"GET\", url,headers=headers,data={})"
      ],
      "metadata": {
        "id": "q9X_6s0v88yM"
      },
      "execution_count": 4,
      "outputs": []
    },
    {
      "cell_type": "code",
      "source": [
        "myjson = response.json()"
      ],
      "metadata": {
        "id": "tVouEW7h8801"
      },
      "execution_count": 5,
      "outputs": []
    },
    {
      "cell_type": "code",
      "source": [
        "ourdata = []"
      ],
      "metadata": {
        "id": "u6uT_PlM-D1y"
      },
      "execution_count": 9,
      "outputs": []
    },
    {
      "cell_type": "code",
      "source": [
        "csvheader = ['SYMBOL', 'NAME', 'PRICE(USD)']"
      ],
      "metadata": {
        "id": "BBLD-YbE_kAL"
      },
      "execution_count": 12,
      "outputs": []
    },
    {
      "cell_type": "code",
      "source": [
        "for x in myjson['data']:\n",
        "  listing = [x['symbol'],x['name'],x['priceUsd']]\n",
        "  ourdata.append(listing)"
      ],
      "metadata": {
        "id": "pDrh0LgR-D6a"
      },
      "execution_count": 13,
      "outputs": []
    },
    {
      "cell_type": "code",
      "source": [
        "print(ourdata)"
      ],
      "metadata": {
        "colab": {
          "base_uri": "https://localhost:8080/"
        },
        "id": "FTIthZFf99R_",
        "outputId": "9ff91ff0-04c2-43b1-db37-4285b7459020"
      },
      "execution_count": 14,
      "outputs": [
        {
          "output_type": "stream",
          "name": "stdout",
          "text": [
            "[['BTC', 'Bitcoin', '42121.1791860073714419'], ['ETH', 'Ethereum', '3154.4105372823979302'], ['USDT', 'Tether', '1.0012221659839584'], ['BNB', 'BNB', '428.4046808671394787'], ['USDC', 'USD Coin', '1.0016313663811972'], ['SOL', 'Solana', '110.1220481771901584'], ['XRP', 'XRP', '0.7710574352499163'], ['LUNA', 'Terra', '96.3757777612849906'], ['ADA', 'Cardano', '0.9743203946546142'], ['AVAX', 'Avalanche', '80.6633241943301705'], ['DOT', 'Polkadot', '19.2924894513007183'], ['DOGE', 'Dogecoin', '0.1452289157587604'], ['UST', 'TerraUSD', '0.9990189858611087'], ['BUSD', 'Binance USD', '1.0025113813624623'], ['SHIB', 'Shiba Inu', '0.0000256851451761'], ['WBTC', 'Wrapped Bitcoin', '42151.1268627248840273'], ['NEAR', 'NEAR Protocol', '17.3132388758608310'], ['MATIC', 'Polygon', '1.4597321819900545'], ['CRO', 'Crypto.com Coin', '0.4230241536859266'], ['DAI', 'Multi Collateral DAI', '1.0016835000734480'], ['LTC', 'Litecoin', '113.7858707820603681'], ['LINK', 'Chainlink', '14.4460561879673994'], ['UNI', 'Uniswap', '9.6573220142699630'], ['BCH', 'Bitcoin Cash', '343.8339157286052245'], ['TRX', 'TRON', '0.0631722600272385'], ['ATOM', 'Cosmos', '25.0204114481864011'], ['STETH', 'Lido stETH', '3082.6371362986020692'], ['FTT', 'FTX Token', '44.0320818000798814'], ['LEO', 'UNUS SED LEO', '5.9200073855688303'], ['ALGO', 'Algorand', '0.7655665535350363'], ['XLM', 'Stellar', '0.2055212905919794'], ['ETC', 'Ethereum Classic', '37.8514459427876388'], ['XMR', 'Monero', '257.9202570652661492'], ['BTCB', 'Bitcoin BEP2', '42121.0759252433487168'], ['MANA', 'Decentraland', '2.1970418320045312'], ['VET', 'VeChain', '0.0629303110548829'], ['ICP', 'Internet Computer', '17.7073538345017067'], ['FIL', 'Filecoin', '20.5034304101501114'], ['EGLD', 'Elrond', '167.5056155165951922'], ['SAND', 'The Sandbox', '3.0032894409942169'], ['THETA', 'THETA', '3.1883291402598703'], ['RUNE', 'THORChain', '9.5119178633175551'], ['FTM', 'Fantom', '1.2221323182772254'], ['HBAR', 'Hedera Hashgraph', '0.2015752854300762'], ['AXS', 'Axie Infinity', '48.1448425029738081'], ['XTZ', 'Tezos', '3.2543407381092927'], ['KLAY', 'Klaytn', '0.9749928874134271'], ['FRAX', 'Frax', '0.9988260951388475'], ['AAVE', 'Aave', '194.5905373043631924'], ['CAKE', 'PancakeSwap', '8.9795786458186857'], ['EOS', 'EOS', '2.5970503965518192'], ['WAVES', 'Waves', '21.3739108838504721'], ['DFI', 'DeFiChain', '4.4831100258633414'], ['ZEC', 'Zcash', '160.7884227277964451'], ['HNT', 'Helium', '19.6590925737868861'], ['FLOW', 'Flow', '6.0118016307883449'], ['KCS', 'KuCoin Token', '21.2462709041037646'], ['MIOTA', 'IOTA', '0.6835077518877128'], ['MKR', 'Maker', '1868.3724987171013134'], ['GRT', 'The Graph', '0.3789284388537285'], ['XEC', 'eCash', '0.0000923952308617'], ['CVX', 'Convex Finance', '28.7543050737606556'], ['BSV', 'Bitcoin SV', '86.6838570738530471'], ['STX', 'Stacks', '1.2127174142348756'], ['ONE', 'Harmony', '0.1307371237456461'], ['NEO', 'Neo', '22.0518512399943724'], ['KSM', 'Kusama', '182.3562125876848890'], ['ZIL', 'Zilliqa', '0.1198826876405003'], ['HT', 'Huobi Token', '9.5038728047349267'], ['CELO', 'Celo', '3.3212431662874833'], ['GALA', 'Gala', '0.2053222926999996'], ['CHZ', 'Chiliz', '0.2361324299313468'], ['TTT', 'TrustNote', '4.4326661467958499'], ['QNT', 'Quant', '113.6402452240974614'], ['ENJ', 'Enjin Coin', '1.5610373842720080'], ['LRC', 'Loopring', '1.0147706498784382'], ['TUSD', 'TrueUSD', '0.9990904534255873'], ['NEXO', 'Nexo', '2.3759233015816843'], ['MINA', 'Mina', '2.5486996328898489'], ['OKB', 'OKB', '19.6682363600033730'], ['DASH', 'Dash', '109.6255234271613256'], ['BAT', 'Basic Attention Token', '0.7679040316098146'], ['CRV', 'Curve DAO Token', '2.3838241996167087'], ['AR', 'Arweave', '31.5320420013123331'], ['COMP', 'Compound', '148.1684835426093482'], ['KDA', 'Kadena', '5.7027027158966634'], ['AMP', 'Amp', '0.0229218693829012'], ['USDN', 'Neutrino USD', '0.9817220664494064'], ['USDP', 'Pax Dollar', '1.0010860503763381'], ['ULT', 'Ultiledger', '0.3327462192596289'], ['XEM', 'NEM', '0.1028851886495518'], ['TFUEL', 'Theta Fuel', '0.1721144236496149'], ['DCR', 'Decred', '64.7717151647325683'], ['HOT', 'Holo', '0.0052106440821677'], ['KNC', 'Kyber Network', '4.2259487966856407'], ['SCRT', 'Secret', '5.1096718989109885'], ['AUDIO', 'Audius', '1.3394657330656282'], ['ROSE', 'Oasis Network', '0.2366882475477681'], ['SNX', 'Synthetix', '7.1001723129490987'], ['KAVA', 'Kava', '4.4499333494684575'], ['BTC', 'Bitcoin', '42121.1791860073714419'], ['ETH', 'Ethereum', '3154.4105372823979302'], ['USDT', 'Tether', '1.0012221659839584'], ['BNB', 'BNB', '428.4046808671394787'], ['USDC', 'USD Coin', '1.0016313663811972'], ['SOL', 'Solana', '110.1220481771901584'], ['XRP', 'XRP', '0.7710574352499163'], ['LUNA', 'Terra', '96.3757777612849906'], ['ADA', 'Cardano', '0.9743203946546142'], ['AVAX', 'Avalanche', '80.6633241943301705'], ['DOT', 'Polkadot', '19.2924894513007183'], ['DOGE', 'Dogecoin', '0.1452289157587604'], ['UST', 'TerraUSD', '0.9990189858611087'], ['BUSD', 'Binance USD', '1.0025113813624623'], ['SHIB', 'Shiba Inu', '0.0000256851451761'], ['WBTC', 'Wrapped Bitcoin', '42151.1268627248840273'], ['NEAR', 'NEAR Protocol', '17.3132388758608310'], ['MATIC', 'Polygon', '1.4597321819900545'], ['CRO', 'Crypto.com Coin', '0.4230241536859266'], ['DAI', 'Multi Collateral DAI', '1.0016835000734480'], ['LTC', 'Litecoin', '113.7858707820603681'], ['LINK', 'Chainlink', '14.4460561879673994'], ['UNI', 'Uniswap', '9.6573220142699630'], ['BCH', 'Bitcoin Cash', '343.8339157286052245'], ['TRX', 'TRON', '0.0631722600272385'], ['ATOM', 'Cosmos', '25.0204114481864011'], ['STETH', 'Lido stETH', '3082.6371362986020692'], ['FTT', 'FTX Token', '44.0320818000798814'], ['LEO', 'UNUS SED LEO', '5.9200073855688303'], ['ALGO', 'Algorand', '0.7655665535350363'], ['XLM', 'Stellar', '0.2055212905919794'], ['ETC', 'Ethereum Classic', '37.8514459427876388'], ['XMR', 'Monero', '257.9202570652661492'], ['BTCB', 'Bitcoin BEP2', '42121.0759252433487168'], ['MANA', 'Decentraland', '2.1970418320045312'], ['VET', 'VeChain', '0.0629303110548829'], ['ICP', 'Internet Computer', '17.7073538345017067'], ['FIL', 'Filecoin', '20.5034304101501114'], ['EGLD', 'Elrond', '167.5056155165951922'], ['SAND', 'The Sandbox', '3.0032894409942169'], ['THETA', 'THETA', '3.1883291402598703'], ['RUNE', 'THORChain', '9.5119178633175551'], ['FTM', 'Fantom', '1.2221323182772254'], ['HBAR', 'Hedera Hashgraph', '0.2015752854300762'], ['AXS', 'Axie Infinity', '48.1448425029738081'], ['XTZ', 'Tezos', '3.2543407381092927'], ['KLAY', 'Klaytn', '0.9749928874134271'], ['FRAX', 'Frax', '0.9988260951388475'], ['AAVE', 'Aave', '194.5905373043631924'], ['CAKE', 'PancakeSwap', '8.9795786458186857'], ['EOS', 'EOS', '2.5970503965518192'], ['WAVES', 'Waves', '21.3739108838504721'], ['DFI', 'DeFiChain', '4.4831100258633414'], ['ZEC', 'Zcash', '160.7884227277964451'], ['HNT', 'Helium', '19.6590925737868861'], ['FLOW', 'Flow', '6.0118016307883449'], ['KCS', 'KuCoin Token', '21.2462709041037646'], ['MIOTA', 'IOTA', '0.6835077518877128'], ['MKR', 'Maker', '1868.3724987171013134'], ['GRT', 'The Graph', '0.3789284388537285'], ['XEC', 'eCash', '0.0000923952308617'], ['CVX', 'Convex Finance', '28.7543050737606556'], ['BSV', 'Bitcoin SV', '86.6838570738530471'], ['STX', 'Stacks', '1.2127174142348756'], ['ONE', 'Harmony', '0.1307371237456461'], ['NEO', 'Neo', '22.0518512399943724'], ['KSM', 'Kusama', '182.3562125876848890'], ['ZIL', 'Zilliqa', '0.1198826876405003'], ['HT', 'Huobi Token', '9.5038728047349267'], ['CELO', 'Celo', '3.3212431662874833'], ['GALA', 'Gala', '0.2053222926999996'], ['CHZ', 'Chiliz', '0.2361324299313468'], ['TTT', 'TrustNote', '4.4326661467958499'], ['QNT', 'Quant', '113.6402452240974614'], ['ENJ', 'Enjin Coin', '1.5610373842720080'], ['LRC', 'Loopring', '1.0147706498784382'], ['TUSD', 'TrueUSD', '0.9990904534255873'], ['NEXO', 'Nexo', '2.3759233015816843'], ['MINA', 'Mina', '2.5486996328898489'], ['OKB', 'OKB', '19.6682363600033730'], ['DASH', 'Dash', '109.6255234271613256'], ['BAT', 'Basic Attention Token', '0.7679040316098146'], ['CRV', 'Curve DAO Token', '2.3838241996167087'], ['AR', 'Arweave', '31.5320420013123331'], ['COMP', 'Compound', '148.1684835426093482'], ['KDA', 'Kadena', '5.7027027158966634'], ['AMP', 'Amp', '0.0229218693829012'], ['USDN', 'Neutrino USD', '0.9817220664494064'], ['USDP', 'Pax Dollar', '1.0010860503763381'], ['ULT', 'Ultiledger', '0.3327462192596289'], ['XEM', 'NEM', '0.1028851886495518'], ['TFUEL', 'Theta Fuel', '0.1721144236496149'], ['DCR', 'Decred', '64.7717151647325683'], ['HOT', 'Holo', '0.0052106440821677'], ['KNC', 'Kyber Network', '4.2259487966856407'], ['SCRT', 'Secret', '5.1096718989109885'], ['AUDIO', 'Audius', '1.3394657330656282'], ['ROSE', 'Oasis Network', '0.2366882475477681'], ['SNX', 'Synthetix', '7.1001723129490987'], ['KAVA', 'Kava', '4.4499333494684575']]\n"
          ]
        }
      ]
    },
    {
      "cell_type": "code",
      "source": [
        "with open('crypto.csv','w',encoding='UTF8', newline='') as f:\n",
        "  writer = csv.writer(f)\n",
        "  \n",
        "  writer.writerow(csvheader)\n",
        "  writer.writerow(ourdata)"
      ],
      "metadata": {
        "id": "r-c8i6wt99Uy"
      },
      "execution_count": 16,
      "outputs": []
    },
    {
      "cell_type": "code",
      "source": [
        ""
      ],
      "metadata": {
        "id": "I6_bLYDA99W8"
      },
      "execution_count": null,
      "outputs": []
    },
    {
      "cell_type": "code",
      "source": [
        ""
      ],
      "metadata": {
        "id": "-Z76EDlI99Zd"
      },
      "execution_count": null,
      "outputs": []
    }
  ]
}