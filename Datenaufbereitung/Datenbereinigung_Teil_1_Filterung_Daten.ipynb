{
 "cells": [
  {
   "cell_type": "markdown",
   "id": "e5dfd25c",
   "metadata": {},
   "source": [
    "# __Datenbereinigung Teil 1: Filterung der Daten__\n",
    "\n",
    "In diesem Schritt wird eine erste Bereinigung der Daten durchgeführt. Es werden zudem die Dateien für die Analyse der Gesamtdaten und für die Analyse der Anforderungen erstellt.\n",
    "\n",
    "Dieser Teil funktioniert nur mit Daten von JobCloud"
   ]
  },
  {
   "cell_type": "code",
   "execution_count": 1,
   "id": "99d62151",
   "metadata": {},
   "outputs": [],
   "source": [
    "# Import der benötigten Libraries\n",
    "import pandas as pd\n",
    "import matplotlib.pyplot as plt; plt.rcdefaults()\n",
    "import numpy as np\n",
    "import matplotlib.pyplot as plt\n",
    "import re\n",
    "import os\n",
    "\n",
    "# Working-Directory\n",
    "os.chdir('C:/Users/Sven Konermann/Documents/Master/2_Semester/aF_E_Faelle/Unterlagen/JobCloud_Daten')"
   ]
  },
  {
   "cell_type": "code",
   "execution_count": 2,
   "id": "10ce8fdd",
   "metadata": {},
   "outputs": [
    {
     "name": "stderr",
     "output_type": "stream",
     "text": [
      "C:\\Users\\Sven Konermann\\AppData\\Local\\Temp\\ipykernel_11740\\2637263132.py:2: DtypeWarning: Columns (7) have mixed types. Specify dtype option on import or set low_memory=False.\n",
      "  data_orig = pd.read_csv(\"Daten_JobCloud003.txt\", sep=\",\")\n"
     ]
    },
    {
     "data": {
      "text/plain": [
       "(262313, 18)"
      ]
     },
     "execution_count": 2,
     "metadata": {},
     "output_type": "execute_result"
    }
   ],
   "source": [
    "# Einlesen der Stellenanzeigen\n",
    "data_orig = pd.read_csv(\"Daten_JobCloud003.txt\", sep=\",\")\n",
    "data_orig.shape"
   ]
  },
  {
   "cell_type": "code",
   "execution_count": 3,
   "id": "40bd4bf1",
   "metadata": {},
   "outputs": [
    {
     "data": {
      "text/plain": [
       "(154963, 18)"
      ]
     },
     "execution_count": 3,
     "metadata": {},
     "output_type": "execute_result"
    }
   ],
   "source": [
    "# Doppelte Werte im Text und in der ID löschen\n",
    "data = data_orig\n",
    "data = data.drop_duplicates(subset='ad_id', keep=\"last\")\n",
    "data = data.drop_duplicates(subset='text', keep=\"last\")\n",
    "data.shape"
   ]
  },
  {
   "cell_type": "code",
   "execution_count": 4,
   "id": "31842808",
   "metadata": {},
   "outputs": [
    {
     "data": {
      "text/plain": [
       "(134074, 18)"
      ]
     },
     "execution_count": 4,
     "metadata": {},
     "output_type": "execute_result"
    }
   ],
   "source": [
    "# Lösche alle fremdsprachigen Anzeigen\n",
    "data = data.drop(data.query('language_code != \"de\"').index)\n",
    "data.shape"
   ]
  },
  {
   "cell_type": "code",
   "execution_count": 5,
   "id": "f7ede945",
   "metadata": {},
   "outputs": [],
   "source": [
    "# Spalte mit Jahr erstellen\n",
    "data['active_start_on'] = data['active_start_on'].astype('datetime64')\n",
    "data['active_end_on'] = data['active_end_on'].astype('datetime64')\n",
    "data['year'] = data['active_start_on'].dt.year"
   ]
  },
  {
   "cell_type": "code",
   "execution_count": 6,
   "id": "4d83d8e4",
   "metadata": {},
   "outputs": [
    {
     "data": {
      "text/html": [
       "<div>\n",
       "<style scoped>\n",
       "    .dataframe tbody tr th:only-of-type {\n",
       "        vertical-align: middle;\n",
       "    }\n",
       "\n",
       "    .dataframe tbody tr th {\n",
       "        vertical-align: top;\n",
       "    }\n",
       "\n",
       "    .dataframe thead th {\n",
       "        text-align: right;\n",
       "    }\n",
       "</style>\n",
       "<table border=\"1\" class=\"dataframe\">\n",
       "  <thead>\n",
       "    <tr style=\"text-align: right;\">\n",
       "      <th></th>\n",
       "      <th>ad_id</th>\n",
       "      <th>active_start_on</th>\n",
       "      <th>active_end_on</th>\n",
       "      <th>title</th>\n",
       "      <th>text</th>\n",
       "      <th>branchen_name</th>\n",
       "      <th>customer_branche_name</th>\n",
       "      <th>lvl1_region_name</th>\n",
       "      <th>region_name</th>\n",
       "      <th>lvl1_jobcategory_name</th>\n",
       "      <th>jobcategory_name</th>\n",
       "      <th>duration</th>\n",
       "      <th>year</th>\n",
       "    </tr>\n",
       "  </thead>\n",
       "  <tbody>\n",
       "    <tr>\n",
       "      <th>5</th>\n",
       "      <td>jobsse-10107990</td>\n",
       "      <td>2021-01-07</td>\n",
       "      <td>2021-01-15</td>\n",
       "      <td>Lead Solution Architect IoT</td>\n",
       "      <td>Lead Solution Architect IoT Als Lead Solution ...</td>\n",
       "      <td>Informatik/Telekommunikation</td>\n",
       "      <td>Beratung diverse</td>\n",
       "      <td>Region Bern</td>\n",
       "      <td>Region Bern</td>\n",
       "      <td>Informatik/Telekommunikation</td>\n",
       "      <td>Software Architektur/Engineering</td>\n",
       "      <td>8</td>\n",
       "      <td>2021</td>\n",
       "    </tr>\n",
       "    <tr>\n",
       "      <th>7</th>\n",
       "      <td>jobsse-8132125</td>\n",
       "      <td>2018-04-17</td>\n",
       "      <td>2018-04-18</td>\n",
       "      <td>Konstrukteur/In (auch Teilzeit möglich)</td>\n",
       "      <td>&lt;p&gt;&lt;strong&gt;Ihre Hauptaufgaben&lt;/strong&gt;&lt;/p&gt;&lt;ul&gt;...</td>\n",
       "      <td>Gewerbe/Handwerk allgemein</td>\n",
       "      <td>Personalberatung</td>\n",
       "      <td>Region Mittelland (AG, SO)</td>\n",
       "      <td>Region Mittelland (AG, SO)</td>\n",
       "      <td>Maschinen-/Anlagenbau/Produktion</td>\n",
       "      <td>Konstruktion</td>\n",
       "      <td>1</td>\n",
       "      <td>2018</td>\n",
       "    </tr>\n",
       "    <tr>\n",
       "      <th>11</th>\n",
       "      <td>jobsse-6058207</td>\n",
       "      <td>2014-10-06</td>\n",
       "      <td>2014-11-07</td>\n",
       "      <td>Kaufmännische(n) Angestellte(n) 80%-100%</td>\n",
       "      <td>&lt;p&gt;&lt;strong&gt;Wir z&amp;auml;hlen auf Sie:&lt;/strong&gt;&lt;/...</td>\n",
       "      <td>Banken/ Finanzinstitute</td>\n",
       "      <td>Banken/ Finanzinstitute</td>\n",
       "      <td>Region Zentralschweiz</td>\n",
       "      <td>Region Zentralschweiz</td>\n",
       "      <td>Administration/HR/Consulting/CEO</td>\n",
       "      <td>Sekretariat/Empfang</td>\n",
       "      <td>32</td>\n",
       "      <td>2014</td>\n",
       "    </tr>\n",
       "    <tr>\n",
       "      <th>13</th>\n",
       "      <td>jobsse-5875311</td>\n",
       "      <td>2014-06-17</td>\n",
       "      <td>2014-06-20</td>\n",
       "      <td>Hauswirtschaftsmitarbeiter (m/w)</td>\n",
       "      <td>Das Widder Hotel Moderne Architektur in 9 hist...</td>\n",
       "      <td>Gastgewerbe/Hotellerie</td>\n",
       "      <td>Gastgewerbe/Hotellerie</td>\n",
       "      <td>NaN</td>\n",
       "      <td>NaN</td>\n",
       "      <td>Gastronomie/Lebensmittel/Tourismus</td>\n",
       "      <td>Zimmer/Lingerie/Hauswirtschaft</td>\n",
       "      <td>3</td>\n",
       "      <td>2014</td>\n",
       "    </tr>\n",
       "    <tr>\n",
       "      <th>14</th>\n",
       "      <td>jobsse-6012460</td>\n",
       "      <td>2014-09-09</td>\n",
       "      <td>2014-09-16</td>\n",
       "      <td>Kindergärtner/in 85 %</td>\n",
       "      <td>Kindergärtner/in, Ref.-Nr. 41427D        Bezei...</td>\n",
       "      <td>öffentl. Verwaltung/ Verbände</td>\n",
       "      <td>öffentl. Verwaltung/ Verbände</td>\n",
       "      <td>NaN</td>\n",
       "      <td>NaN</td>\n",
       "      <td>Verwaltung/Bildung/Soziales</td>\n",
       "      <td>Lehrer/Dozenten</td>\n",
       "      <td>7</td>\n",
       "      <td>2014</td>\n",
       "    </tr>\n",
       "  </tbody>\n",
       "</table>\n",
       "</div>"
      ],
      "text/plain": [
       "              ad_id active_start_on active_end_on  \\\n",
       "5   jobsse-10107990      2021-01-07    2021-01-15   \n",
       "7    jobsse-8132125      2018-04-17    2018-04-18   \n",
       "11   jobsse-6058207      2014-10-06    2014-11-07   \n",
       "13   jobsse-5875311      2014-06-17    2014-06-20   \n",
       "14   jobsse-6012460      2014-09-09    2014-09-16   \n",
       "\n",
       "                                       title  \\\n",
       "5                Lead Solution Architect IoT   \n",
       "7    Konstrukteur/In (auch Teilzeit möglich)   \n",
       "11  Kaufmännische(n) Angestellte(n) 80%-100%   \n",
       "13          Hauswirtschaftsmitarbeiter (m/w)   \n",
       "14                     Kindergärtner/in 85 %   \n",
       "\n",
       "                                                 text  \\\n",
       "5   Lead Solution Architect IoT Als Lead Solution ...   \n",
       "7   <p><strong>Ihre Hauptaufgaben</strong></p><ul>...   \n",
       "11  <p><strong>Wir z&auml;hlen auf Sie:</strong></...   \n",
       "13  Das Widder Hotel Moderne Architektur in 9 hist...   \n",
       "14  Kindergärtner/in, Ref.-Nr. 41427D        Bezei...   \n",
       "\n",
       "                    branchen_name          customer_branche_name  \\\n",
       "5    Informatik/Telekommunikation               Beratung diverse   \n",
       "7      Gewerbe/Handwerk allgemein               Personalberatung   \n",
       "11        Banken/ Finanzinstitute        Banken/ Finanzinstitute   \n",
       "13         Gastgewerbe/Hotellerie         Gastgewerbe/Hotellerie   \n",
       "14  öffentl. Verwaltung/ Verbände  öffentl. Verwaltung/ Verbände   \n",
       "\n",
       "              lvl1_region_name                 region_name  \\\n",
       "5                  Region Bern                 Region Bern   \n",
       "7   Region Mittelland (AG, SO)  Region Mittelland (AG, SO)   \n",
       "11       Region Zentralschweiz       Region Zentralschweiz   \n",
       "13                         NaN                         NaN   \n",
       "14                         NaN                         NaN   \n",
       "\n",
       "                 lvl1_jobcategory_name                  jobcategory_name  \\\n",
       "5         Informatik/Telekommunikation  Software Architektur/Engineering   \n",
       "7     Maschinen-/Anlagenbau/Produktion                      Konstruktion   \n",
       "11    Administration/HR/Consulting/CEO               Sekretariat/Empfang   \n",
       "13  Gastronomie/Lebensmittel/Tourismus    Zimmer/Lingerie/Hauswirtschaft   \n",
       "14         Verwaltung/Bildung/Soziales                   Lehrer/Dozenten   \n",
       "\n",
       "    duration  year  \n",
       "5          8  2021  \n",
       "7          1  2018  \n",
       "11        32  2014  \n",
       "13         3  2014  \n",
       "14         7  2014  "
      ]
     },
     "execution_count": 6,
     "metadata": {},
     "output_type": "execute_result"
    }
   ],
   "source": [
    "# Spalten löschen, die nicht benötigt werden\n",
    "data = data.drop(['customer_short_name', 'customer_segment', 'customer_id', 'teaser', 'zip_code', 'language_code'], axis = 1)\n",
    "data.head(5)"
   ]
  },
  {
   "cell_type": "code",
   "execution_count": 7,
   "id": "13bf14b9",
   "metadata": {},
   "outputs": [
    {
     "data": {
      "image/png": "[encoded data removed]",
      "text/plain": [
       "<Figure size 640x480 with 1 Axes>"
      ]
     },
     "metadata": {},
     "output_type": "display_data"
    }
   ],
   "source": [
    "# Anzahl Inserate pro Jahr\n",
    "objects = ('2014', '2015', '2016', '2017', '2018','2019','2020', '2021')\n",
    "\n",
    "y_pos       = np.arange(len(objects))\n",
    "performance = [len(data.query('year == 2014').index),\n",
    "              len(data.query('year == 2015').index),\n",
    "              len(data.query('year == 2016').index),\n",
    "              len(data.query('year == 2017').index),\n",
    "              len(data.query('year == 2018').index),\n",
    "              len(data.query('year == 2019').index),\n",
    "              len(data.query('year == 2020').index),\n",
    "              len(data.query('year == 2021').index)]\n",
    "\n",
    "plt.bar(y_pos, performance, align='center', alpha=0.5)\n",
    "plt.xticks(y_pos, objects, rotation='horizontal')\n",
    "plt.ylabel('Anzahl Stellenanzeigen')\n",
    "plt.xlabel('Jahr')\n",
    "plt.gcf().subplots_adjust(bottom=0.15)\n",
    "plt.savefig('Anzahl_Inserate_Gesamtdaten.pdf')\n",
    "\n",
    "plt.show()"
   ]
  },
  {
   "cell_type": "code",
   "execution_count": 8,
   "id": "e2d6f49c",
   "metadata": {},
   "outputs": [],
   "source": [
    "# Abspeichern der Datei in ein csv\n",
    "data.to_csv(\"Inserate_Gesamtdatenanalyse_AF_E.csv\", sep=\";\")"
   ]
  },
  {
   "cell_type": "code",
   "execution_count": 9,
   "id": "68731e07",
   "metadata": {},
   "outputs": [
    {
     "data": {
      "text/plain": [
       "(75980, 13)"
      ]
     },
     "execution_count": 9,
     "metadata": {},
     "output_type": "execute_result"
    }
   ],
   "source": [
    "# Filterung der Stellenanzeigen mit Listenelementen\n",
    "data_listen = data[data['text'].str.contains('<li|</li', regex=True, flags=re.IGNORECASE, na=False)]\n",
    "data_listen.shape"
   ]
  },
  {
   "cell_type": "code",
   "execution_count": 10,
   "id": "d6ff4964",
   "metadata": {},
   "outputs": [
    {
     "data": {
      "image/png": "[encoded data removed]",
      "text/plain": [
       "<Figure size 640x480 with 1 Axes>"
      ]
     },
     "metadata": {},
     "output_type": "display_data"
    }
   ],
   "source": [
    "# Anzahl Inserate nach Jahr\n",
    "objects = ('2014', '2015', '2016', '2017', '2018','2019','2020', '2021')\n",
    "y_pos = np.arange(len(objects))\n",
    "performance = [len(data_listen.query('year == 2014').index),\n",
    "              len(data_listen.query('year == 2015').index),\n",
    "              len(data_listen.query('year == 2016').index),\n",
    "              len(data_listen.query('year == 2017').index),\n",
    "              len(data_listen.query('year == 2018').index),\n",
    "              len(data_listen.query('year == 2019').index),\n",
    "              len(data_listen.query('year == 2020').index),\n",
    "              len(data_listen.query('year == 2021').index)]\n",
    "\n",
    "plt.bar(y_pos, performance, align='center', alpha=0.5)\n",
    "plt.xticks(y_pos, objects, rotation='horizontal')\n",
    "plt.ylabel('Anzahl Stelleninserate')\n",
    "plt.xlabel('Jahr')\n",
    "plt.savefig('Anzahl_Inserate_Anforderungsdaten.pdf')\n",
    "\n",
    "plt.show()"
   ]
  },
  {
   "cell_type": "code",
   "execution_count": 11,
   "id": "cf0cdb29",
   "metadata": {},
   "outputs": [],
   "source": [
    "# Speichern und Exportieren der Daten pro Jahr für die Analyse der Anforderungen \n",
    "data_listen.to_csv(\"Inserate_Anforderungsanalyse_AF_E.csv\", sep=\";\")"
   ]
  }
 ],
 "metadata": {
  "kernelspec": {
   "display_name": "Python 3 (ipykernel)",
   "language": "python",
   "name": "python3"
  },
  "language_info": {
   "codemirror_mode": {
    "name": "ipython",
    "version": 3
   },
   "file_extension": ".py",
   "mimetype": "text/x-python",
   "name": "python",
   "nbconvert_exporter": "python",
   "pygments_lexer": "ipython3",
   "version": "3.8.12"
  }
 },
 "nbformat": 4,
 "nbformat_minor": 5
}
