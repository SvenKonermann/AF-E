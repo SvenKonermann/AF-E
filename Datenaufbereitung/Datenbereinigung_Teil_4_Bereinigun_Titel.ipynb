{
 "cells": [
  {
   "cell_type": "markdown",
   "id": "156f39c2",
   "metadata": {},
   "source": [
    "# __Datenbereinigung Teil 4: Bereinigung der Anforderungsdaten__\n",
    "\n",
    "In diesem Schritt werden die Daten bereinigt, welche für das Wörterbuch mit den häufigst genannten Jobtiteln benötigt werden."
   ]
  },
  {
   "cell_type": "code",
   "execution_count": 17,
   "id": "3cca9d85",
   "metadata": {},
   "outputs": [],
   "source": [
    "# Import der benötigten Libraries\n",
    "from time import time\n",
    "import pandas as pd\n",
    "import nltk\n",
    "from nltk.corpus import stopwords \n",
    "from bs4 import BeautifulSoup\n",
    "from HanTa import HanoverTagger as ht\n",
    "import string\n",
    "from nltk.tokenize.treebank import TreebankWordDetokenizer\n",
    "import os\n",
    "\n",
    "# Working-Directory\n",
    "os.chdir('C:/Users/Sven Konermann/Documents/Master/2_Semester/aF_E_Faelle/Unterlagen/00_all')"
   ]
  },
  {
   "cell_type": "code",
   "execution_count": 18,
   "id": "df60a355",
   "metadata": {},
   "outputs": [
    {
     "name": "stdout",
     "output_type": "stream",
     "text": [
      "(25100, 15)\n",
      "<class 'pandas.core.frame.DataFrame'>\n",
      "RangeIndex: 25100 entries, 0 to 25099\n",
      "Data columns (total 15 columns):\n",
      " #   Column                 Non-Null Count  Dtype  \n",
      "---  ------                 --------------  -----  \n",
      " 0   Unnamed: 0.1           25100 non-null  int64  \n",
      " 1   Unnamed: 0             25100 non-null  int64  \n",
      " 2   ad_id                  25100 non-null  object \n",
      " 3   active_start_on        25100 non-null  object \n",
      " 4   active_end_on          25100 non-null  object \n",
      " 5   title                  25100 non-null  object \n",
      " 6   text                   25100 non-null  object \n",
      " 7   branchen_name          24926 non-null  object \n",
      " 8   customer_branche_name  25099 non-null  object \n",
      " 9   lvl1_region_name       25065 non-null  object \n",
      " 10  region_name            25065 non-null  object \n",
      " 11  lvl1_jobcategory_name  25093 non-null  object \n",
      " 12  jobcategory_name       25093 non-null  object \n",
      " 13  duration               25100 non-null  float64\n",
      " 14  year                   25100 non-null  int64  \n",
      "dtypes: float64(1), int64(3), object(11)\n",
      "memory usage: 2.9+ MB\n"
     ]
    }
   ],
   "source": [
    "# Einlesen der Daten über ein csv File\n",
    "data = pd.read_csv(\"Inserate_Anforderungsanalyse_AF_E.csv\", sep=\";\")\n",
    "print(data.shape)\n",
    "data.info()"
   ]
  },
  {
   "cell_type": "code",
   "execution_count": 22,
   "id": "433ec05d",
   "metadata": {},
   "outputs": [
    {
     "name": "stdout",
     "output_type": "stream",
     "text": [
      "Benötigte Zeit: 0.024413108825683594 Sekunden\n"
     ]
    },
    {
     "data": {
      "text/html": [
       "<div>\n",
       "<style scoped>\n",
       "    .dataframe tbody tr th:only-of-type {\n",
       "        vertical-align: middle;\n",
       "    }\n",
       "\n",
       "    .dataframe tbody tr th {\n",
       "        vertical-align: top;\n",
       "    }\n",
       "\n",
       "    .dataframe thead th {\n",
       "        text-align: right;\n",
       "    }\n",
       "</style>\n",
       "<table border=\"1\" class=\"dataframe\">\n",
       "  <thead>\n",
       "    <tr style=\"text-align: right;\">\n",
       "      <th></th>\n",
       "      <th>Unnamed: 0.1</th>\n",
       "      <th>Unnamed: 0</th>\n",
       "      <th>ad_id</th>\n",
       "      <th>active_start_on</th>\n",
       "      <th>active_end_on</th>\n",
       "      <th>title</th>\n",
       "      <th>text</th>\n",
       "      <th>branchen_name</th>\n",
       "      <th>customer_branche_name</th>\n",
       "      <th>lvl1_region_name</th>\n",
       "      <th>region_name</th>\n",
       "      <th>lvl1_jobcategory_name</th>\n",
       "      <th>jobcategory_name</th>\n",
       "      <th>duration</th>\n",
       "      <th>year</th>\n",
       "      <th>Title_Anforderungen</th>\n",
       "    </tr>\n",
       "  </thead>\n",
       "  <tbody>\n",
       "    <tr>\n",
       "      <th>0</th>\n",
       "      <td>7</td>\n",
       "      <td>7</td>\n",
       "      <td>jobsse-5879310</td>\n",
       "      <td>2014-06-19</td>\n",
       "      <td>2014-07-14</td>\n",
       "      <td>Projektleiter SAP Inkasso / Exkasso (FS-CD) (w/m)</td>\n",
       "      <td>&lt;div id=\"jobTplContainer\" style=\"overflow: hid...</td>\n",
       "      <td>Versicherungen</td>\n",
       "      <td>Versicherungen</td>\n",
       "      <td>Region Ostschweiz / GR / FL</td>\n",
       "      <td>St. Gallen / Appenzell</td>\n",
       "      <td>Informatik/Telekommunikation</td>\n",
       "      <td>ERP/SAP/CRM</td>\n",
       "      <td>25.0</td>\n",
       "      <td>2014</td>\n",
       "      <td>Projektleiter SAP Inkasso / Exkasso (FS-CD) (w/m)</td>\n",
       "    </tr>\n",
       "    <tr>\n",
       "      <th>1</th>\n",
       "      <td>19</td>\n",
       "      <td>19</td>\n",
       "      <td>jobsse-5707516</td>\n",
       "      <td>2014-03-19</td>\n",
       "      <td>2014-04-20</td>\n",
       "      <td>IT Projektleiter/-in</td>\n",
       "      <td>&lt;p&gt;In dieser Position sind Sie verantwortlich ...</td>\n",
       "      <td>Banken/ Finanzinstitute</td>\n",
       "      <td>Banken/ Finanzinstitute</td>\n",
       "      <td>Region ZÇ¬rich / Schaffhausen</td>\n",
       "      <td>Stadt ZÇ¬rich / ZÇ¬richsee</td>\n",
       "      <td>Informatik/Telekommunikation</td>\n",
       "      <td>Projekt Management/Analyse</td>\n",
       "      <td>32.0</td>\n",
       "      <td>2014</td>\n",
       "      <td>IT Projektleiter/-in</td>\n",
       "    </tr>\n",
       "    <tr>\n",
       "      <th>2</th>\n",
       "      <td>23</td>\n",
       "      <td>23</td>\n",
       "      <td>jobsse-5673676</td>\n",
       "      <td>2014-02-28</td>\n",
       "      <td>2014-11-03</td>\n",
       "      <td>IT-  und Organsations-Projektleiter</td>\n",
       "      <td>&lt;p&gt;Wirtschaftsinformatiker oder Organisator mi...</td>\n",
       "      <td>Informatik/Telekommunikation</td>\n",
       "      <td>Personalberatung</td>\n",
       "      <td>Region Bern</td>\n",
       "      <td>Region Bern</td>\n",
       "      <td>Informatik/Telekommunikation</td>\n",
       "      <td>Projekt Management/Analyse</td>\n",
       "      <td>11.0</td>\n",
       "      <td>2014</td>\n",
       "      <td>IT-  und Organsations-Projektleiter</td>\n",
       "    </tr>\n",
       "    <tr>\n",
       "      <th>3</th>\n",
       "      <td>34</td>\n",
       "      <td>34</td>\n",
       "      <td>jobsse-6313354</td>\n",
       "      <td>2015-03-17</td>\n",
       "      <td>2015-03-30</td>\n",
       "      <td>IT Gesamtprojektleiter - Senior IT Project Man...</td>\n",
       "      <td>&lt;p&gt;FÇ¬r unseren Kunden, eines der fÇ¬hrenden U...</td>\n",
       "      <td>Informatik/Telekommunikation</td>\n",
       "      <td>Personalberatung</td>\n",
       "      <td>Region ZÇ¬rich / Schaffhausen</td>\n",
       "      <td>Stadt ZÇ¬rich / ZÇ¬richsee</td>\n",
       "      <td>Informatik/Telekommunikation</td>\n",
       "      <td>Projekt Management/Analyse</td>\n",
       "      <td>13.0</td>\n",
       "      <td>2015</td>\n",
       "      <td>IT Gesamtprojektleiter - Senior IT Project Man...</td>\n",
       "    </tr>\n",
       "    <tr>\n",
       "      <th>4</th>\n",
       "      <td>35</td>\n",
       "      <td>35</td>\n",
       "      <td>jobsse-5585493</td>\n",
       "      <td>2014-01-16</td>\n",
       "      <td>2014-12-02</td>\n",
       "      <td>IT Projektmanager ¶®Application¶¯ (DEUTSCH, FR...</td>\n",
       "      <td>&lt;b&gt;Ihre Herausforderung&lt;/b&gt;&lt;ul&gt;&lt;li&gt;Verantwortl...</td>\n",
       "      <td>Industrie diverse</td>\n",
       "      <td>Personalberatung</td>\n",
       "      <td>Region ZÇ¬rich / Schaffhausen</td>\n",
       "      <td>Region ZÇ¬rich / Schaffhausen</td>\n",
       "      <td>Informatik/Telekommunikation</td>\n",
       "      <td>Netzwerk Spezialisten/Engineers</td>\n",
       "      <td>27.0</td>\n",
       "      <td>2014</td>\n",
       "      <td>IT Projektmanager ¶®Application¶¯ (DEUTSCH, FR...</td>\n",
       "    </tr>\n",
       "  </tbody>\n",
       "</table>\n",
       "</div>"
      ],
      "text/plain": [
       "   Unnamed: 0.1  Unnamed: 0           ad_id active_start_on active_end_on  \\\n",
       "0             7           7  jobsse-5879310      2014-06-19    2014-07-14   \n",
       "1            19          19  jobsse-5707516      2014-03-19    2014-04-20   \n",
       "2            23          23  jobsse-5673676      2014-02-28    2014-11-03   \n",
       "3            34          34  jobsse-6313354      2015-03-17    2015-03-30   \n",
       "4            35          35  jobsse-5585493      2014-01-16    2014-12-02   \n",
       "\n",
       "                                               title  \\\n",
       "0  Projektleiter SAP Inkasso / Exkasso (FS-CD) (w/m)   \n",
       "1                               IT Projektleiter/-in   \n",
       "2                IT-  und Organsations-Projektleiter   \n",
       "3  IT Gesamtprojektleiter - Senior IT Project Man...   \n",
       "4  IT Projektmanager ¶®Application¶¯ (DEUTSCH, FR...   \n",
       "\n",
       "                                                text  \\\n",
       "0  <div id=\"jobTplContainer\" style=\"overflow: hid...   \n",
       "1  <p>In dieser Position sind Sie verantwortlich ...   \n",
       "2  <p>Wirtschaftsinformatiker oder Organisator mi...   \n",
       "3  <p>FÇ¬r unseren Kunden, eines der fÇ¬hrenden U...   \n",
       "4  <b>Ihre Herausforderung</b><ul><li>Verantwortl...   \n",
       "\n",
       "                  branchen_name    customer_branche_name  \\\n",
       "0                Versicherungen           Versicherungen   \n",
       "1       Banken/ Finanzinstitute  Banken/ Finanzinstitute   \n",
       "2  Informatik/Telekommunikation         Personalberatung   \n",
       "3  Informatik/Telekommunikation         Personalberatung   \n",
       "4             Industrie diverse         Personalberatung   \n",
       "\n",
       "                lvl1_region_name                    region_name  \\\n",
       "0    Region Ostschweiz / GR / FL         St. Gallen / Appenzell   \n",
       "1  Region ZÇ¬rich / Schaffhausen     Stadt ZÇ¬rich / ZÇ¬richsee   \n",
       "2                    Region Bern                    Region Bern   \n",
       "3  Region ZÇ¬rich / Schaffhausen     Stadt ZÇ¬rich / ZÇ¬richsee   \n",
       "4  Region ZÇ¬rich / Schaffhausen  Region ZÇ¬rich / Schaffhausen   \n",
       "\n",
       "          lvl1_jobcategory_name                 jobcategory_name  duration  \\\n",
       "0  Informatik/Telekommunikation                      ERP/SAP/CRM      25.0   \n",
       "1  Informatik/Telekommunikation       Projekt Management/Analyse      32.0   \n",
       "2  Informatik/Telekommunikation       Projekt Management/Analyse      11.0   \n",
       "3  Informatik/Telekommunikation       Projekt Management/Analyse      13.0   \n",
       "4  Informatik/Telekommunikation  Netzwerk Spezialisten/Engineers      27.0   \n",
       "\n",
       "   year                                Title_Anforderungen  \n",
       "0  2014  Projektleiter SAP Inkasso / Exkasso (FS-CD) (w/m)  \n",
       "1  2014                               IT Projektleiter/-in  \n",
       "2  2014                IT-  und Organsations-Projektleiter  \n",
       "3  2015  IT Gesamtprojektleiter - Senior IT Project Man...  \n",
       "4  2014  IT Projektmanager ¶®Application¶¯ (DEUTSCH, FR...  "
      ]
     },
     "execution_count": 22,
     "metadata": {},
     "output_type": "execute_result"
    }
   ],
   "source": [
    "# Listenelemente in einer neuen Spalte abspeichern\n",
    "start = time()\n",
    "\n",
    "column = []\n",
    "for i in data['title']:\n",
    "    title= i\n",
    "    #soup = BeautifulSoup(i, 'lxml')\n",
    "    #tags = soup.find_all('li')\n",
    "    #print(tags)\n",
    "    for t in tags:\n",
    "        title = title + ' ' + t.title \n",
    "    column.append(title)\n",
    "\n",
    "data['Title_Anforderungen'] = column\n",
    "\n",
    "print(f'Benötigte Zeit: {time() - start} Sekunden')\n",
    "data.head(5)"
   ]
  },
  {
   "cell_type": "code",
   "execution_count": 23,
   "id": "5365fabf",
   "metadata": {},
   "outputs": [
    {
     "name": "stdout",
     "output_type": "stream",
     "text": [
      "Benötigte Zeit: 216.8528733253479 Sekunden\n"
     ]
    }
   ],
   "source": [
    "# Lemmatisierung der Titel\n",
    "start = time()\n",
    "tagger = ht.HanoverTagger('morphmodel_ger.pgz')\n",
    "\n",
    "for mail in data['Title_Anforderungen']:\n",
    "    lemma = [lemma for (word,lemma,pos) in tagger.tag_sent(mail.split())]\n",
    "    index = data[data['Title_Anforderungen']==mail].index\n",
    "    data.loc[index, 'Title_Anforderungen'] = (' '.join(lemma))\n",
    "    \n",
    "print(f'Benötigte Zeit: {time() - start} Sekunden')"
   ]
  },
  {
   "cell_type": "code",
   "execution_count": 24,
   "id": "e566da8a",
   "metadata": {},
   "outputs": [],
   "source": [
    "# Text in Kleinbuchstaben umwandeln\n",
    "data['Title_Anforderungen'] = data['Title_Anforderungen'].str.lower()"
   ]
  },
  {
   "cell_type": "code",
   "execution_count": 25,
   "id": "10ddf407",
   "metadata": {},
   "outputs": [],
   "source": [
    "# Satzzeichen löschen\n",
    "def remove_punctuation(txt):\n",
    "    txt_nopunct = \"\".join([c for c in txt if c not in string.punctuation])\n",
    "    return txt_nopunct\n",
    "\n",
    "data['Title_Anforderungen'] = data['Title_Anforderungen'].apply(lambda x: remove_punctuation(x))"
   ]
  },
  {
   "cell_type": "code",
   "execution_count": 26,
   "id": "56783be3",
   "metadata": {},
   "outputs": [
    {
     "data": {
      "text/plain": [
       "0               projektleiter sap inkasso  exkasso fscd wm\n",
       "1                                       it projektleiterin\n",
       "2                         it und organsationsprojektleiter\n",
       "3        it gesamtprojektleiter  senior it project mana...\n",
       "4        it projektmanager ¶®application¶¯ deutsch fran...\n",
       "                               ...                        \n",
       "25095      sachbearbeiterin buchhaltung per sofort tryhire\n",
       "25096    sachbearbeiterin administration und buchhaltun...\n",
       "25097                              jung leiter buchhaltung\n",
       "25098    sachbearbeiterin buchhaltung  projektunterstüt...\n",
       "25099    sachbearbeiter buchhaltung als buchhaltungsmit...\n",
       "Name: Title_Anforderungen, Length: 25100, dtype: object"
      ]
     },
     "execution_count": 26,
     "metadata": {},
     "output_type": "execute_result"
    }
   ],
   "source": [
    "# Tabs \\t aus den Texten entfernen\n",
    "data['Title_Anforderungen'] = data['Title_Anforderungen'].str.replace(\"\\t\", \"\", regex=True)\n",
    "data['Title_Anforderungen']"
   ]
  },
  {
   "cell_type": "code",
   "execution_count": 27,
   "id": "cb3a192b",
   "metadata": {},
   "outputs": [],
   "source": [
    "# Ähnliche Anforderungen manuell mit einem Hauptbegriff ersetzen\n",
    "data['Title_Anforderungen'] = data['Title_Anforderungen'].str.replace(\"teamplayer\", \"teamfähig\", regex=True)\n",
    "data['Title_Anforderungen'] = data['Title_Anforderungen'].str.replace(\"verhandlungssicher\", \"verhandlungsgeschick\", regex=True)\n",
    "data['Title_Anforderungen'] = data['Title_Anforderungen'].str.replace(\"kundenorientierte\", \"kundenorientierung\", regex=True)\n",
    "data['Title_Anforderungen'] = data['Title_Anforderungen'].str.replace(\"projekt management\", \"projektleitungserfahrung\", regex=True)\n",
    "data['Title_Anforderungen'] = data['Title_Anforderungen'].str.replace(\"projektmanagement\", \"projektleitungserfahrung\", regex=True)\n",
    "data['Title_Anforderungen'] = data['Title_Anforderungen'].str.replace(\"zusammenarbeit\", \"teamfähig\", regex=True)\n",
    "data['Title_Anforderungen'] = data['Title_Anforderungen'].str.replace(\"kommunikation\", \"kommunikationsfähigkeit\", regex=True)\n",
    "data['Title_Anforderungen'] = data['Title_Anforderungen'].str.replace(\"kommunikationsfähigkeiten\", \"kommunikationsfähigkeit\", regex=True)\n",
    "data['Title_Anforderungen'] = data['Title_Anforderungen'].str.replace(\"dwh\", \"data warehouse\", regex=True)\n",
    "data['Title_Anforderungen'] = data['Title_Anforderungen'].str.replace(\"dienstleistungsorientierung\", \"dienstleistungsorientiert\", regex=True)\n",
    "data['Title_Anforderungen'] = data['Title_Anforderungen'].str.replace(\"eigenverantwortung\", \"eigenverantwortlich\", regex=True)"
   ]
  },
  {
   "cell_type": "code",
   "execution_count": 28,
   "id": "413eba34",
   "metadata": {},
   "outputs": [
    {
     "name": "stdout",
     "output_type": "stream",
     "text": [
      "Benötigte Zeit: 3.345613479614258 Sekunden\n"
     ]
    }
   ],
   "source": [
    "# Word-Tokenization \n",
    "#nltk.download('punkt')\n",
    "\n",
    "start = time()\n",
    "data['title_tok'] = data.apply(lambda row: nltk.word_tokenize(row['Title_Anforderungen']), axis=1)\n",
    "print(f'Benötigte Zeit: {time() - start} Sekunden')"
   ]
  },
  {
   "cell_type": "code",
   "execution_count": 29,
   "id": "bc8dc387",
   "metadata": {},
   "outputs": [
    {
     "name": "stderr",
     "output_type": "stream",
     "text": [
      "[nltk_data] Downloading package stopwords to C:\\Users\\Sven\n",
      "[nltk_data]     Konermann\\AppData\\Roaming\\nltk_data...\n",
      "[nltk_data]   Package stopwords is already up-to-date!\n"
     ]
    }
   ],
   "source": [
    "# Stopwörter löschen\n",
    "nltk.download('stopwords')\n",
    "\n",
    "stop_words = set(stopwords.words('german'))\n",
    "data['title_tok'] = data['title_tok'].apply(lambda x: [item for item in x if item not in stop_words])"
   ]
  },
  {
   "cell_type": "code",
   "execution_count": 30,
   "id": "47b1c24d",
   "metadata": {},
   "outputs": [],
   "source": [
    "# Tokenizing rückgängig machen, da die Tokenizierung nicht in eine csv-Datei überführt werden kann\n",
    "column = []\n",
    "for i in data['title_tok']:\n",
    "    test = TreebankWordDetokenizer().detokenize(i)\n",
    "    column.append(test)\n",
    "\n",
    "data['Title_Anforderungen'] = column"
   ]
  },
  {
   "cell_type": "code",
   "execution_count": 31,
   "id": "590bd0fd",
   "metadata": {},
   "outputs": [],
   "source": [
    "# Löschen der tokenisierten Spalte\n",
    "data = data.drop(['title_tok'], axis = 1)"
   ]
  },
  {
   "cell_type": "code",
   "execution_count": 32,
   "id": "b7c3a3c7",
   "metadata": {},
   "outputs": [],
   "source": [
    "# Erneutes Löschen der Duplikate, da sich die Texte verändert haben\n",
    "data = data.drop_duplicates(subset='Title_Anforderungen', keep=\"last\")"
   ]
  },
  {
   "cell_type": "code",
   "execution_count": 34,
   "id": "5459378d",
   "metadata": {},
   "outputs": [],
   "source": [
    "data.to_csv(\"Inserate_clean_Titelanalyse_AF_E.csv\", sep=\";\")"
   ]
  }
 ],
 "metadata": {
  "kernelspec": {
   "display_name": "Python 3 (ipykernel)",
   "language": "python",
   "name": "python3"
  },
  "language_info": {
   "codemirror_mode": {
    "name": "ipython",
    "version": 3
   },
   "file_extension": ".py",
   "mimetype": "text/x-python",
   "name": "python",
   "nbconvert_exporter": "python",
   "pygments_lexer": "ipython3",
   "version": "3.8.12"
  }
 },
 "nbformat": 4,
 "nbformat_minor": 5
}
