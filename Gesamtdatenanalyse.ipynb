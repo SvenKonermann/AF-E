{
 "cells": [
  {
   "cell_type": "markdown",
   "metadata": {},
   "source": [
    "# __Gesamtdatenanalyse__\n",
    "\n",
    "In diesem Teil werden die Stelleninserate untersucht, indem die Wörter aus dem Wörterbuch im Inserat gezählt werden."
   ]
  },
  {
   "cell_type": "code",
   "execution_count": 2,
   "metadata": {},
   "outputs": [
    {
     "name": "stdout",
     "output_type": "stream",
     "text": [
      "C:\\Users\\Sven Konermann\\Documents\\Master\\2_Semester\\aF_E_Faelle\\Unterlagen\\00_all\n",
      "['Anzahl_Inserate_Anforderungsdaten.pdf', 'Anzahl_Inserate_Gesamtdaten.pdf', 'Inserate_Anforderungsanalyse.csv', 'Inserate_clean_Anforderungsanalyse.csv', 'Inserate_clean_Gesamtdatenanalyse.csv', 'Inserate_clean_Test.csv', 'Inserate_Gesamtdatenanalyse.csv', 'Inserate_Gesamtdatenanalyse_.csv', 'my_fig.pdf', 'ngram_count_all_Data.csv', 'Subset_Accounting.csv', 'Subset_all.csv', 'Subset_ApplManager.csv', 'Subset_Business_Analyst.csv', 'Subset_Data_Science.csv', 'Subset_HR.csv', 'Subset_IT_Consulting.csv', 'Subset_IT_Projektmanagement.csv']\n"
     ]
    }
   ],
   "source": [
    "# Import der benötigten Libraries\n",
    "import pandas as pd\n",
    "import nltk\n",
    "import numpy as np\n",
    "import re\n",
    "import os\n",
    "\n",
    "pd.set_option('display.max_colwidth', 50)\n",
    "\n",
    "# Working-Directory\n",
    "os.chdir('C:/Users/Sven Konermann/Documents/Master/2_Semester/aF_E_Faelle/Unterlagen/00_all')\n",
    "print(os.getcwd())\n",
    "\n",
    "# Files im Directory\n",
    "print(os.listdir())"
   ]
  },
  {
   "cell_type": "code",
   "execution_count": 3,
   "metadata": {},
   "outputs": [
    {
     "name": "stdout",
     "output_type": "stream",
     "text": [
      "(40821, 10)\n"
     ]
    }
   ],
   "source": [
    "data = pd.read_csv(\"Inserate_clean_Gesamtdatenanalyse.csv\", sep=\";\")\n",
    "data = data[~data['Text_Anforderungen'].isnull()] # Wenn NULL-Werte, lösche diese\n",
    "print(data.shape)"
   ]
  },
  {
   "cell_type": "markdown",
   "metadata": {},
   "source": [
    "Suche nach Teil-Wörtern und Phrasen"
   ]
  },
  {
   "cell_type": "code",
   "execution_count": 6,
   "metadata": {},
   "outputs": [
    {
     "data": {
      "text/html": [
       "<div>\n",
       "<style scoped>\n",
       "    .dataframe tbody tr th:only-of-type {\n",
       "        vertical-align: middle;\n",
       "    }\n",
       "\n",
       "    .dataframe tbody tr th {\n",
       "        vertical-align: top;\n",
       "    }\n",
       "\n",
       "    .dataframe thead th {\n",
       "        text-align: right;\n",
       "    }\n",
       "</style>\n",
       "<table border=\"1\" class=\"dataframe\">\n",
       "  <thead>\n",
       "    <tr style=\"text-align: right;\">\n",
       "      <th></th>\n",
       "      <th>word</th>\n",
       "      <th>kategorie</th>\n",
       "      <th>kategorie_name</th>\n",
       "      <th>hauptkategorie</th>\n",
       "    </tr>\n",
       "  </thead>\n",
       "  <tbody>\n",
       "    <tr>\n",
       "      <th>0</th>\n",
       "      <td>visual studio</td>\n",
       "      <td>2</td>\n",
       "      <td>Informatik Software-Kenntnisse</td>\n",
       "      <td>IT-Kenntnisse</td>\n",
       "    </tr>\n",
       "    <tr>\n",
       "      <th>1</th>\n",
       "      <td>big data</td>\n",
       "      <td>3</td>\n",
       "      <td>Datenmanagement</td>\n",
       "      <td>IT-Kenntnisse</td>\n",
       "    </tr>\n",
       "    <tr>\n",
       "      <th>2</th>\n",
       "      <td>business intelligence</td>\n",
       "      <td>3</td>\n",
       "      <td>Datenmanagement</td>\n",
       "      <td>IT-Kenntnisse</td>\n",
       "    </tr>\n",
       "    <tr>\n",
       "      <th>3</th>\n",
       "      <td>data science</td>\n",
       "      <td>3</td>\n",
       "      <td>Datenmanagement</td>\n",
       "      <td>IT-Kenntnisse</td>\n",
       "    </tr>\n",
       "    <tr>\n",
       "      <th>4</th>\n",
       "      <td>datenbank</td>\n",
       "      <td>3</td>\n",
       "      <td>Datenmanagement</td>\n",
       "      <td>IT-Kenntnisse</td>\n",
       "    </tr>\n",
       "  </tbody>\n",
       "</table>\n",
       "</div>"
      ],
      "text/plain": [
       "                    word  kategorie                  kategorie_name  \\\n",
       "0          visual studio          2  Informatik Software-Kenntnisse   \n",
       "1               big data          3                 Datenmanagement   \n",
       "2  business intelligence          3                 Datenmanagement   \n",
       "3           data science          3                 Datenmanagement   \n",
       "4              datenbank          3                 Datenmanagement   \n",
       "\n",
       "  hauptkategorie  \n",
       "0  IT-Kenntnisse  \n",
       "1  IT-Kenntnisse  \n",
       "2  IT-Kenntnisse  \n",
       "3  IT-Kenntnisse  \n",
       "4  IT-Kenntnisse  "
      ]
     },
     "execution_count": 6,
     "metadata": {},
     "output_type": "execute_result"
    }
   ],
   "source": [
    "# Einlesen vordefiniertes Wörterbuch\n",
    "set_phrases = pd.read_excel('Phrasenwoerter.xlsx')\n",
    "set_phrases.head()"
   ]
  },
  {
   "cell_type": "code",
   "execution_count": 7,
   "metadata": {},
   "outputs": [],
   "source": [
    "# Vergleichen unique words, ob sie vorkommen im Text_new. Unique words list kommt vom Tokanizing oben.\n",
    "year = data['year'].min()\n",
    "count = 0\n",
    "while year <= data['year'].max():\n",
    "    wordsets_phrases = data.loc[data['year'] == year]['Text_Anforderungen'] # Text Detok, da n-grams nach dem gesucht wurden\n",
    "    for word in set_phrases['word']:\n",
    "        count = sum(1 for s in wordsets_phrases if word in s)\n",
    "        index = set_phrases[set_phrases['word']==word].index\n",
    "        set_phrases.loc[index, year] = count\n",
    "        set_phrases.loc[index, str(year) + ' %'] = (count / len(wordsets_phrases))    \n",
    "    \n",
    "    year += 1"
   ]
  },
  {
   "cell_type": "markdown",
   "metadata": {},
   "source": [
    "Suche nach Fix-Wörtern, die genau so vorkommen müssen"
   ]
  },
  {
   "cell_type": "code",
   "execution_count": 8,
   "metadata": {},
   "outputs": [],
   "source": [
    "set_fix = pd.read_excel(\"Fixwoerter.xlsx\")"
   ]
  },
  {
   "cell_type": "code",
   "execution_count": 9,
   "metadata": {},
   "outputs": [
    {
     "data": {
      "text/plain": [
       "0      [abap]\n",
       "1         [c]\n",
       "2      [java]\n",
       "3     [plsql]\n",
       "4    [python]\n",
       "5         [r]\n",
       "6    [apache]\n",
       "7     [azure]\n",
       "8    [citrix]\n",
       "9      [hana]\n",
       "Name: text_tok, dtype: object"
      ]
     },
     "execution_count": 9,
     "metadata": {},
     "output_type": "execute_result"
    }
   ],
   "source": [
    "# Anforderungen Tokenisieren\n",
    "set_fix['text_tok'] = set_fix.apply(lambda row: nltk.word_tokenize(row['word']), axis=1)\n",
    "set_fix['text_tok'].head(10)"
   ]
  },
  {
   "cell_type": "code",
   "execution_count": 10,
   "metadata": {},
   "outputs": [],
   "source": [
    "# Anforderungen in einem Set speichern\n",
    "new_set = set()\n",
    "set_fix['text_tok'].apply(new_set.update)\n",
    "u = new_set"
   ]
  },
  {
   "cell_type": "code",
   "execution_count": 11,
   "metadata": {},
   "outputs": [],
   "source": [
    "# Vergleiche unique words, ob sie vorkommen im Text_new. Unique words list kommt vom Tokanizing oben.\n",
    "year = data['year'].min()\n",
    "\n",
    "while year <= data['year'].max():    \n",
    "    wordsets_fix = [ frozenset(document.split(' ')) for document in data.loc[data['year'] == year]['Text_Anforderungen'] ]\n",
    "    for word in u:\n",
    "        count = sum( 1 for s in wordsets_fix if word in s )\n",
    "        index = set_fix[set_fix['word']==word].index\n",
    "        set_fix.loc[index, year] = count\n",
    "        set_fix.loc[index, str(year) + ' %'] = (count / len(wordsets_phrases))\n",
    "\n",
    "    year += 1"
   ]
  },
  {
   "cell_type": "code",
   "execution_count": 12,
   "metadata": {},
   "outputs": [
    {
     "name": "stderr",
     "output_type": "stream",
     "text": [
      "C:\\Users\\Sven Konermann\\AppData\\Local\\Temp\\ipykernel_26100\\2611590460.py:1: FutureWarning: The frame.append method is deprecated and will be removed from pandas in a future version. Use pandas.concat instead.\n",
      "  anforderungen = set_phrases.append(set_fix, ignore_index=True)\n"
     ]
    }
   ],
   "source": [
    "anforderungen = set_phrases.append(set_fix, ignore_index=True)"
   ]
  },
  {
   "cell_type": "code",
   "execution_count": 13,
   "metadata": {},
   "outputs": [
    {
     "data": {
      "text/html": [
       "<div>\n",
       "<style scoped>\n",
       "    .dataframe tbody tr th:only-of-type {\n",
       "        vertical-align: middle;\n",
       "    }\n",
       "\n",
       "    .dataframe tbody tr th {\n",
       "        vertical-align: top;\n",
       "    }\n",
       "\n",
       "    .dataframe thead th {\n",
       "        text-align: right;\n",
       "    }\n",
       "</style>\n",
       "<table border=\"1\" class=\"dataframe\">\n",
       "  <thead>\n",
       "    <tr style=\"text-align: right;\">\n",
       "      <th></th>\n",
       "      <th>word</th>\n",
       "      <th>kategorie</th>\n",
       "      <th>kategorie_name</th>\n",
       "      <th>hauptkategorie</th>\n",
       "      <th>2014</th>\n",
       "      <th>2014 %</th>\n",
       "      <th>2015</th>\n",
       "      <th>2015 %</th>\n",
       "      <th>2016</th>\n",
       "      <th>2016 %</th>\n",
       "      <th>...</th>\n",
       "      <th>2017 %</th>\n",
       "      <th>2018</th>\n",
       "      <th>2018 %</th>\n",
       "      <th>2019</th>\n",
       "      <th>2019 %</th>\n",
       "      <th>2020</th>\n",
       "      <th>2020 %</th>\n",
       "      <th>2021</th>\n",
       "      <th>2021 %</th>\n",
       "      <th>text_tok</th>\n",
       "    </tr>\n",
       "  </thead>\n",
       "  <tbody>\n",
       "    <tr>\n",
       "      <th>10</th>\n",
       "      <td>deutsch</td>\n",
       "      <td>8</td>\n",
       "      <td>Sprachkenntnisse</td>\n",
       "      <td>Sprachen</td>\n",
       "      <td>3796.0</td>\n",
       "      <td>0.650000</td>\n",
       "      <td>3346.0</td>\n",
       "      <td>0.661788</td>\n",
       "      <td>3645.0</td>\n",
       "      <td>0.698142</td>\n",
       "      <td>...</td>\n",
       "      <td>0.720772</td>\n",
       "      <td>4200.0</td>\n",
       "      <td>0.710780</td>\n",
       "      <td>3754.0</td>\n",
       "      <td>0.723593</td>\n",
       "      <td>3173.0</td>\n",
       "      <td>0.742222</td>\n",
       "      <td>2478.0</td>\n",
       "      <td>0.691406</td>\n",
       "      <td>NaN</td>\n",
       "    </tr>\n",
       "    <tr>\n",
       "      <th>11</th>\n",
       "      <td>englisch</td>\n",
       "      <td>8</td>\n",
       "      <td>Sprachkenntnisse</td>\n",
       "      <td>Sprachen</td>\n",
       "      <td>3270.0</td>\n",
       "      <td>0.559932</td>\n",
       "      <td>2747.0</td>\n",
       "      <td>0.543315</td>\n",
       "      <td>2619.0</td>\n",
       "      <td>0.501628</td>\n",
       "      <td>...</td>\n",
       "      <td>0.544015</td>\n",
       "      <td>3118.0</td>\n",
       "      <td>0.527670</td>\n",
       "      <td>2880.0</td>\n",
       "      <td>0.555127</td>\n",
       "      <td>2436.0</td>\n",
       "      <td>0.569825</td>\n",
       "      <td>1988.0</td>\n",
       "      <td>0.554688</td>\n",
       "      <td>NaN</td>\n",
       "    </tr>\n",
       "    <tr>\n",
       "      <th>21</th>\n",
       "      <td>teamfähig</td>\n",
       "      <td>12</td>\n",
       "      <td>Soft Skills</td>\n",
       "      <td>Soft Skills</td>\n",
       "      <td>1752.0</td>\n",
       "      <td>0.300000</td>\n",
       "      <td>1543.0</td>\n",
       "      <td>0.305182</td>\n",
       "      <td>1518.0</td>\n",
       "      <td>0.290749</td>\n",
       "      <td>...</td>\n",
       "      <td>0.280097</td>\n",
       "      <td>1786.0</td>\n",
       "      <td>0.302251</td>\n",
       "      <td>1594.0</td>\n",
       "      <td>0.307247</td>\n",
       "      <td>1370.0</td>\n",
       "      <td>0.320468</td>\n",
       "      <td>1269.0</td>\n",
       "      <td>0.354074</td>\n",
       "      <td>NaN</td>\n",
       "    </tr>\n",
       "    <tr>\n",
       "      <th>68</th>\n",
       "      <td>berufserfahrung</td>\n",
       "      <td>9</td>\n",
       "      <td>Berufserfahrung</td>\n",
       "      <td>Abschlüsse und Berufserfahrung</td>\n",
       "      <td>1614.0</td>\n",
       "      <td>0.450335</td>\n",
       "      <td>1397.0</td>\n",
       "      <td>0.389788</td>\n",
       "      <td>1344.0</td>\n",
       "      <td>0.375000</td>\n",
       "      <td>...</td>\n",
       "      <td>0.432199</td>\n",
       "      <td>1613.0</td>\n",
       "      <td>0.450056</td>\n",
       "      <td>1498.0</td>\n",
       "      <td>0.417969</td>\n",
       "      <td>1284.0</td>\n",
       "      <td>0.358259</td>\n",
       "      <td>1051.0</td>\n",
       "      <td>0.293248</td>\n",
       "      <td>[berufserfahrung]</td>\n",
       "    </tr>\n",
       "    <tr>\n",
       "      <th>66</th>\n",
       "      <td>sap</td>\n",
       "      <td>7</td>\n",
       "      <td>Nicht-Informatik Software-Kenntnisse</td>\n",
       "      <td>IT-Kenntnisse</td>\n",
       "      <td>1659.0</td>\n",
       "      <td>0.462891</td>\n",
       "      <td>1382.0</td>\n",
       "      <td>0.385603</td>\n",
       "      <td>1516.0</td>\n",
       "      <td>0.422991</td>\n",
       "      <td>...</td>\n",
       "      <td>0.440848</td>\n",
       "      <td>1519.0</td>\n",
       "      <td>0.423828</td>\n",
       "      <td>1187.0</td>\n",
       "      <td>0.331194</td>\n",
       "      <td>857.0</td>\n",
       "      <td>0.239118</td>\n",
       "      <td>785.0</td>\n",
       "      <td>0.219029</td>\n",
       "      <td>[sap]</td>\n",
       "    </tr>\n",
       "  </tbody>\n",
       "</table>\n",
       "<p>5 rows × 21 columns</p>\n",
       "</div>"
      ],
      "text/plain": [
       "               word  kategorie                        kategorie_name  \\\n",
       "10          deutsch          8                      Sprachkenntnisse   \n",
       "11         englisch          8                      Sprachkenntnisse   \n",
       "21        teamfähig         12                           Soft Skills   \n",
       "68  berufserfahrung          9                       Berufserfahrung   \n",
       "66              sap          7  Nicht-Informatik Software-Kenntnisse   \n",
       "\n",
       "                    hauptkategorie    2014    2014 %    2015    2015 %  \\\n",
       "10                        Sprachen  3796.0  0.650000  3346.0  0.661788   \n",
       "11                        Sprachen  3270.0  0.559932  2747.0  0.543315   \n",
       "21                     Soft Skills  1752.0  0.300000  1543.0  0.305182   \n",
       "68  Abschlüsse und Berufserfahrung  1614.0  0.450335  1397.0  0.389788   \n",
       "66                   IT-Kenntnisse  1659.0  0.462891  1382.0  0.385603   \n",
       "\n",
       "      2016    2016 %  ...    2017 %    2018    2018 %    2019    2019 %  \\\n",
       "10  3645.0  0.698142  ...  0.720772  4200.0  0.710780  3754.0  0.723593   \n",
       "11  2619.0  0.501628  ...  0.544015  3118.0  0.527670  2880.0  0.555127   \n",
       "21  1518.0  0.290749  ...  0.280097  1786.0  0.302251  1594.0  0.307247   \n",
       "68  1344.0  0.375000  ...  0.432199  1613.0  0.450056  1498.0  0.417969   \n",
       "66  1516.0  0.422991  ...  0.440848  1519.0  0.423828  1187.0  0.331194   \n",
       "\n",
       "      2020    2020 %    2021    2021 %           text_tok  \n",
       "10  3173.0  0.742222  2478.0  0.691406                NaN  \n",
       "11  2436.0  0.569825  1988.0  0.554688                NaN  \n",
       "21  1370.0  0.320468  1269.0  0.354074                NaN  \n",
       "68  1284.0  0.358259  1051.0  0.293248  [berufserfahrung]  \n",
       "66   857.0  0.239118   785.0  0.219029              [sap]  \n",
       "\n",
       "[5 rows x 21 columns]"
      ]
     },
     "execution_count": 13,
     "metadata": {},
     "output_type": "execute_result"
    }
   ],
   "source": [
    "# Anforderungen mit den meisten Nennungen\n",
    "anforderungen.sort_values(by=2021,ascending=False).head(5)"
   ]
  },
  {
   "cell_type": "code",
   "execution_count": 14,
   "metadata": {},
   "outputs": [],
   "source": [
    "# Nur für Daten mit Jobcloud\n",
    "anforderungen.to_csv(\"ausgewertete_Anforderungen.csv\", sep=\";\")"
   ]
  }
 ],
 "metadata": {
  "kernelspec": {
   "display_name": "Python 3 (ipykernel)",
   "language": "python",
   "name": "python3"
  },
  "language_info": {
   "codemirror_mode": {
    "name": "ipython",
    "version": 3
   },
   "file_extension": ".py",
   "mimetype": "text/x-python",
   "name": "python",
   "nbconvert_exporter": "python",
   "pygments_lexer": "ipython3",
   "version": "3.8.12"
  }
 },
 "nbformat": 4,
 "nbformat_minor": 4
}
